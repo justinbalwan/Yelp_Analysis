{
 "cells": [
  {
   "cell_type": "code",
   "execution_count": 0,
   "metadata": {
    "application/vnd.databricks.v1+cell": {
     "cellMetadata": {
      "byteLimit": 2048000,
      "rowLimit": 10000
     },
     "inputWidgets": {},
     "nuid": "f44c05ba-2a0d-4e38-877f-55ec9769dc67",
     "showTitle": true,
     "title": "Feature Engineering"
    },
    "jupyter": {
     "source_hidden": true
    }
   },
   "outputs": [],
   "source": []
  },
  {
   "cell_type": "code",
   "execution_count": 0,
   "metadata": {
    "application/vnd.databricks.v1+cell": {
     "cellMetadata": {
      "byteLimit": 2048000,
      "rowLimit": 10000
     },
     "inputWidgets": {},
     "nuid": "4c16e566-b8d7-462b-8ebd-c15189341f21",
     "showTitle": false,
     "title": ""
    }
   },
   "outputs": [
    {
     "output_type": "stream",
     "name": "stdout",
     "output_type": "stream",
     "text": [
      "Python interpreter will be restarted.\nCollecting textblob\n  Downloading textblob-0.17.1-py2.py3-none-any.whl (636 kB)\nCollecting nltk>=3.1\n  Downloading nltk-3.8.1-py3-none-any.whl (1.5 MB)\nCollecting tqdm\n  Downloading tqdm-4.66.1-py3-none-any.whl (78 kB)\nRequirement already satisfied: click in /databricks/python3/lib/python3.9/site-packages (from nltk>=3.1->textblob) (8.0.4)\nCollecting regex>=2021.8.3\n  Downloading regex-2023.10.3-cp39-cp39-manylinux_2_17_x86_64.manylinux2014_x86_64.whl (773 kB)\nRequirement already satisfied: joblib in /databricks/python3/lib/python3.9/site-packages (from nltk>=3.1->textblob) (1.1.1)\nInstalling collected packages: tqdm, regex, nltk, textblob\nSuccessfully installed nltk-3.8.1 regex-2023.10.3 textblob-0.17.1 tqdm-4.66.1\nPython interpreter will be restarted.\n"
     ]
    }
   ],
   "source": [
    "pip install textblob"
   ]
  },
  {
   "cell_type": "code",
   "execution_count": 0,
   "metadata": {
    "application/vnd.databricks.v1+cell": {
     "cellMetadata": {
      "byteLimit": 2048000,
      "rowLimit": 10000
     },
     "inputWidgets": {},
     "nuid": "d79706fc-11d1-4c83-abc9-ff5d1c759b6e",
     "showTitle": false,
     "title": ""
    }
   },
   "outputs": [
    {
     "output_type": "stream",
     "name": "stdout",
     "output_type": "stream",
     "text": [
      "Python interpreter will be restarted.\nCollecting wordcloud\n  Downloading wordcloud-1.9.2-cp39-cp39-manylinux_2_17_x86_64.manylinux2014_x86_64.whl (460 kB)\nRequirement already satisfied: matplotlib in /databricks/python3/lib/python3.9/site-packages (from wordcloud) (3.5.1)\nRequirement already satisfied: pillow in /databricks/python3/lib/python3.9/site-packages (from wordcloud) (9.0.1)\nRequirement already satisfied: numpy>=1.6.1 in /databricks/python3/lib/python3.9/site-packages (from wordcloud) (1.21.5)\nRequirement already satisfied: packaging>=20.0 in /databricks/python3/lib/python3.9/site-packages (from matplotlib->wordcloud) (21.3)\nRequirement already satisfied: python-dateutil>=2.7 in /databricks/python3/lib/python3.9/site-packages (from matplotlib->wordcloud) (2.8.2)\nRequirement already satisfied: fonttools>=4.22.0 in /databricks/python3/lib/python3.9/site-packages (from matplotlib->wordcloud) (4.25.0)\nRequirement already satisfied: kiwisolver>=1.0.1 in /databricks/python3/lib/python3.9/site-packages (from matplotlib->wordcloud) (1.3.2)\nRequirement already satisfied: pyparsing>=2.2.1 in /databricks/python3/lib/python3.9/site-packages (from matplotlib->wordcloud) (3.0.4)\nRequirement already satisfied: cycler>=0.10 in /databricks/python3/lib/python3.9/site-packages (from matplotlib->wordcloud) (0.11.0)\nRequirement already satisfied: six>=1.5 in /databricks/python3/lib/python3.9/site-packages (from python-dateutil>=2.7->matplotlib->wordcloud) (1.16.0)\nInstalling collected packages: wordcloud\nSuccessfully installed wordcloud-1.9.2\nPython interpreter will be restarted.\n"
     ]
    }
   ],
   "source": [
    "pip install wordcloud"
   ]
  },
  {
   "cell_type": "code",
   "execution_count": 0,
   "metadata": {
    "application/vnd.databricks.v1+cell": {
     "cellMetadata": {
      "byteLimit": 2048000,
      "rowLimit": 10000
     },
     "inputWidgets": {},
     "nuid": "9bda06f7-3179-46f6-a622-2351f5f65367",
     "showTitle": false,
     "title": ""
    }
   },
   "outputs": [
    {
     "output_type": "stream",
     "name": "stdout",
     "output_type": "stream",
     "text": [
      "Python interpreter will be restarted.\nCollecting s3fs\n  Downloading s3fs-2023.12.1-py3-none-any.whl (28 kB)\nCollecting aiobotocore<3.0.0,>=2.5.4\n  Downloading aiobotocore-2.8.0-py3-none-any.whl (75 kB)\nCollecting fsspec==2023.12.1\n  Downloading fsspec-2023.12.1-py3-none-any.whl (168 kB)\nCollecting aiohttp!=4.0.0a0,!=4.0.0a1\n  Downloading aiohttp-3.9.1-cp39-cp39-manylinux_2_17_x86_64.manylinux2014_x86_64.whl (1.2 MB)\nCollecting wrapt<2.0.0,>=1.10.10\n  Downloading wrapt-1.16.0-cp39-cp39-manylinux_2_5_x86_64.manylinux1_x86_64.manylinux_2_17_x86_64.manylinux2014_x86_64.whl (80 kB)\nCollecting aioitertools<1.0.0,>=0.5.1\n  Downloading aioitertools-0.11.0-py3-none-any.whl (23 kB)\nCollecting botocore<1.33.2,>=1.32.4\n  Downloading botocore-1.33.1-py3-none-any.whl (11.6 MB)\nCollecting frozenlist>=1.1.1\n  Downloading frozenlist-1.4.0-cp39-cp39-manylinux_2_5_x86_64.manylinux1_x86_64.manylinux_2_17_x86_64.manylinux2014_x86_64.whl (228 kB)\nCollecting yarl<2.0,>=1.0\n  Downloading yarl-1.9.4-cp39-cp39-manylinux_2_17_x86_64.manylinux2014_x86_64.whl (304 kB)\nCollecting async-timeout<5.0,>=4.0\n  Downloading async_timeout-4.0.3-py3-none-any.whl (5.7 kB)\nCollecting aiosignal>=1.1.2\n  Downloading aiosignal-1.3.1-py3-none-any.whl (7.6 kB)\nCollecting multidict<7.0,>=4.5\n  Downloading multidict-6.0.4-cp39-cp39-manylinux_2_17_x86_64.manylinux2014_x86_64.whl (114 kB)\nRequirement already satisfied: attrs>=17.3.0 in /databricks/python3/lib/python3.9/site-packages (from aiohttp!=4.0.0a0,!=4.0.0a1->s3fs) (21.4.0)\nRequirement already satisfied: typing_extensions>=4.0 in /databricks/python3/lib/python3.9/site-packages (from aioitertools<1.0.0,>=0.5.1->aiobotocore<3.0.0,>=2.5.4->s3fs) (4.1.1)\nRequirement already satisfied: python-dateutil<3.0.0,>=2.1 in /databricks/python3/lib/python3.9/site-packages (from botocore<1.33.2,>=1.32.4->aiobotocore<3.0.0,>=2.5.4->s3fs) (2.8.2)\nRequirement already satisfied: urllib3<1.27,>=1.25.4 in /databricks/python3/lib/python3.9/site-packages (from botocore<1.33.2,>=1.32.4->aiobotocore<3.0.0,>=2.5.4->s3fs) (1.26.9)\nRequirement already satisfied: jmespath<2.0.0,>=0.7.1 in /databricks/python3/lib/python3.9/site-packages (from botocore<1.33.2,>=1.32.4->aiobotocore<3.0.0,>=2.5.4->s3fs) (0.10.0)\nRequirement already satisfied: six>=1.5 in /databricks/python3/lib/python3.9/site-packages (from python-dateutil<3.0.0,>=2.1->botocore<1.33.2,>=1.32.4->aiobotocore<3.0.0,>=2.5.4->s3fs) (1.16.0)\nRequirement already satisfied: idna>=2.0 in /databricks/python3/lib/python3.9/site-packages (from yarl<2.0,>=1.0->aiohttp!=4.0.0a0,!=4.0.0a1->s3fs) (3.3)\nInstalling collected packages: multidict, frozenlist, yarl, async-timeout, aiosignal, wrapt, botocore, aioitertools, aiohttp, fsspec, aiobotocore, s3fs\n  Attempting uninstall: botocore\n    Found existing installation: botocore 1.24.32\n    Not uninstalling botocore at /databricks/python3/lib/python3.9/site-packages, outside environment /local_disk0/.ephemeral_nfs/envs/pythonEnv-1cda804e-727b-47e4-b7b2-392861216354\n    Can't uninstall 'botocore'. No files were found to uninstall.\nERROR: pip's dependency resolver does not currently take into account all the packages that are installed. This behaviour is the source of the following dependency conflicts.\nboto3 1.21.32 requires botocore<1.25.0,>=1.24.32, but you have botocore 1.33.1 which is incompatible.\nSuccessfully installed aiobotocore-2.8.0 aiohttp-3.9.1 aioitertools-0.11.0 aiosignal-1.3.1 async-timeout-4.0.3 botocore-1.33.1 frozenlist-1.4.0 fsspec-2023.12.1 multidict-6.0.4 s3fs-2023.12.1 wrapt-1.16.0 yarl-1.9.4\nPython interpreter will be restarted.\n"
     ]
    }
   ],
   "source": [
    "pip install s3fs"
   ]
  },
  {
   "cell_type": "code",
   "execution_count": 0,
   "metadata": {
    "application/vnd.databricks.v1+cell": {
     "cellMetadata": {
      "byteLimit": 2048000,
      "rowLimit": 10000
     },
     "inputWidgets": {},
     "nuid": "728e5f0f-43c7-4175-86f0-d0228900fed6",
     "showTitle": false,
     "title": ""
    }
   },
   "outputs": [],
   "source": [
    "import os\n",
    "# To work with Amazon S3 storage, set the following variables using your AWS Access Key and Secret Key\n",
    "# Set the Region to where your files are stored in S3.\n",
    "#access_key =\n",
    "#secret_key =\n",
    "# Set the environment variables so boto3 can pick them up later\n",
    "os.environ['AWS_ACCESS_KEY_ID'] = access_key\n",
    "os.environ['AWS_SECRET_ACCESS_KEY'] = secret_key\n",
    "encoded_secret_key = secret_key.replace(\"/\", \"%2F\")\n",
    "aws_region = \"us-east-2\"\n",
    "# Update the Spark options to work with our AWS Credentials\n",
    "sc._jsc.hadoopConfiguration().set(\"fs.s3a.access.key\", access_key)\n",
    "sc._jsc.hadoopConfiguration().set(\"fs.s3a.secret.key\", secret_key)\n",
    "sc._jsc.hadoopConfiguration().set(\"fs.s3a.endpoint\", \"s3.\" + aws_region +\n",
    "\".amazonaws.com\")"
   ]
  },
  {
   "cell_type": "code",
   "execution_count": 0,
   "metadata": {
    "application/vnd.databricks.v1+cell": {
     "cellMetadata": {
      "byteLimit": 2048000,
      "rowLimit": 10000
     },
     "inputWidgets": {},
     "nuid": "8547e439-dfba-4dc8-aa22-67e3af7f3481",
     "showTitle": false,
     "title": ""
    }
   },
   "outputs": [],
   "source": [
    "# Reading From Raw Folder\n",
    "yelp_parquet = 's3a://yelp-reviews-jb/raw/yelp_dataset.parquet/'\n",
    "yelp_sdf2 = spark.read.parquet(yelp_parquet)"
   ]
  },
  {
   "cell_type": "code",
   "execution_count": 0,
   "metadata": {
    "application/vnd.databricks.v1+cell": {
     "cellMetadata": {
      "byteLimit": 2048000,
      "rowLimit": 10000
     },
     "inputWidgets": {},
     "nuid": "dd007c93-5720-47e2-9f0f-220f204f6f24",
     "showTitle": false,
     "title": ""
    }
   },
   "outputs": [],
   "source": [
    "columns_to_drop = ['cool',  'date',  'funny',  'review_id', 'useful',  'business_address',  'business_categories', 'hours',\n",
    "  'business_name',  'user_compliment_cute',  'user_compliment_hot', 'user_compliment_list', 'user_compliment_more',\n",
    " 'user_compliment_note',  'user_compliment_photos',  'user_compliment_plain',  'user_compliment_profile',  'user_compliment_writer',  'user_cool',\n",
    " 'user_elite',    'user_friends',  'user_funny',  'user_name', 'user_yelping_since' ]\n",
    "\n",
    "yelp_sdf2 = yelp_sdf2.drop(*columns_to_drop)"
   ]
  },
  {
   "cell_type": "code",
   "execution_count": 0,
   "metadata": {
    "application/vnd.databricks.v1+cell": {
     "cellMetadata": {
      "byteLimit": 2048000,
      "rowLimit": 10000
     },
     "inputWidgets": {},
     "nuid": "6be5182c-a187-4960-bf80-8c31af106668",
     "showTitle": false,
     "title": ""
    }
   },
   "outputs": [],
   "source": [
    "yelp_sdf2 = yelp_sdf2.sample(False, 0.01)"
   ]
  },
  {
   "cell_type": "code",
   "execution_count": 0,
   "metadata": {
    "application/vnd.databricks.v1+cell": {
     "cellMetadata": {
      "byteLimit": 2048000,
      "rowLimit": 10000
     },
     "inputWidgets": {},
     "nuid": "e4bb77ba-e3d8-4161-bf77-325d9d6a5925",
     "showTitle": false,
     "title": ""
    }
   },
   "outputs": [
    {
     "output_type": "stream",
     "name": "stdout",
     "output_type": "stream",
     "text": [
      "Out[5]: 64564"
     ]
    }
   ],
   "source": [
    "yelp_sdf2.count()"
   ]
  },
  {
   "cell_type": "code",
   "execution_count": 0,
   "metadata": {
    "application/vnd.databricks.v1+cell": {
     "cellMetadata": {
      "byteLimit": 2048000,
      "rowLimit": 10000
     },
     "inputWidgets": {},
     "nuid": "6b657963-62da-4faa-bde1-f10e33444f65",
     "showTitle": false,
     "title": ""
    }
   },
   "outputs": [],
   "source": [
    "# StringIndexing to convert categorical variables to numeric indices \n",
    "\n",
    "from pyspark.ml.feature import StringIndexer\n",
    "indexer = StringIndexer(inputCols=[\"business_id\", \"city\", \"state\"], outputCols=[\"business_id_index\", \"city_index\", \"state_index\"], handleInvalid=\"keep\")\n",
    "\n",
    "# Apply StringIndexer\n",
    "#yelp_sdf2 = indexer.fit(yelp_sdf2).transform(yelp_sdf2)"
   ]
  },
  {
   "cell_type": "code",
   "execution_count": 0,
   "metadata": {
    "application/vnd.databricks.v1+cell": {
     "cellMetadata": {
      "byteLimit": 2048000,
      "rowLimit": 10000
     },
     "inputWidgets": {},
     "nuid": "e22ac588-1536-4f2c-9bea-5d2ee6598323",
     "showTitle": false,
     "title": ""
    }
   },
   "outputs": [],
   "source": [
    "# OneHotEncoding to convert categorical variables to binary vectors\n",
    "from pyspark.ml.feature import OneHotEncoder\n",
    "\n",
    "# Using indexed columns as input because OneHotEncoder expects numerical inputs\n",
    "# Outputs are stored in outputCols as binary vectors \n",
    "encoder = OneHotEncoder(inputCols=[\"business_id_index\", \"city_index\", \"state_index\"], outputCols=[\"business_id_vector\", \"city_vector\", \"state_vector\"], dropLast=True, handleInvalid=\"keep\")\n",
    "\n",
    "# Apply OneHotEncoder\n",
    "#yelp_sdf2 = encoder.fit(yelp_sdf2).transform(yelp_sdf2)"
   ]
  },
  {
   "cell_type": "code",
   "execution_count": 0,
   "metadata": {
    "application/vnd.databricks.v1+cell": {
     "cellMetadata": {
      "byteLimit": 2048000,
      "rowLimit": 10000
     },
     "inputWidgets": {},
     "nuid": "d30a0df1-0041-4ede-a0c8-8bdcb2bbb76a",
     "showTitle": true,
     "title": "Working With Text Data"
    },
    "jupyter": {
     "source_hidden": true
    }
   },
   "outputs": [],
   "source": []
  },
  {
   "cell_type": "code",
   "execution_count": 0,
   "metadata": {
    "application/vnd.databricks.v1+cell": {
     "cellMetadata": {
      "byteLimit": 2048000,
      "rowLimit": 10000
     },
     "inputWidgets": {},
     "nuid": "65a89b38-3104-428c-a5fe-1560cbec800f",
     "showTitle": false,
     "title": ""
    }
   },
   "outputs": [
    {
     "output_type": "stream",
     "name": "stdout",
     "output_type": "stream",
     "text": [
      "+-------+----------------+\n|summary|     text_length|\n+-------+----------------+\n|  count|           64564|\n|    min|               6|\n|    max|            5000|\n|   mean|562.255080230469|\n+-------+----------------+\n\n"
     ]
    }
   ],
   "source": [
    "# Getting some statistics on the review text:\n",
    "\n",
    "from pyspark.sql.functions import col, isnan, when, count, udf, length\n",
    "\n",
    "# Find the length of review text\n",
    "yelp_sdf2 = yelp_sdf2.withColumn(\"text_length\", length(col(\"text\")))\n",
    "yelp_sdf2.select(\"text_length\").summary(\"count\", \"min\", \"max\", \"mean\").show()"
   ]
  },
  {
   "cell_type": "code",
   "execution_count": 0,
   "metadata": {
    "application/vnd.databricks.v1+cell": {
     "cellMetadata": {
      "byteLimit": 2048000,
      "rowLimit": 10000
     },
     "inputWidgets": {},
     "nuid": "14e441cb-52b9-4c0f-a6b7-7549febbfce7",
     "showTitle": false,
     "title": ""
    }
   },
   "outputs": [
    {
     "output_type": "stream",
     "name": "stdout",
     "output_type": "stream",
     "text": [
      "Out[9]: <seaborn.axisgrid.FacetGrid at 0x7fd221a542e0>"
     ]
    },
    {
     "output_type": "display_data",
     "data": {
      "image/png": "[encoded data removed]"
     },
     "metadata": {
      "application/vnd.databricks.v1+output": {
       "addedWidgets": {},
       "arguments": {},
       "data": "data:image/png;base64,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\n",
       "datasetInfos": [],
       "metadata": {},
       "removedWidgets": [],
       "type": "image"
      }
     },
     "output_type": "display_data"
    }
   ],
   "source": [
    "import seaborn as sns\n",
    "# Take the length column and convert to a Pandas dataframe\n",
    "df = yelp_sdf2.select('text_length').toPandas()\n",
    "# Create the distribution plot\n",
    "sns.displot(df)"
   ]
  },
  {
   "cell_type": "code",
   "execution_count": 0,
   "metadata": {
    "application/vnd.databricks.v1+cell": {
     "cellMetadata": {
      "byteLimit": 2048000,
      "rowLimit": 10000
     },
     "inputWidgets": {},
     "nuid": "c84da09a-1b1a-45ea-8789-5f217ad41c19",
     "showTitle": false,
     "title": ""
    }
   },
   "outputs": [],
   "source": [
    "# Remove records with abnormally long review text. Choose your own threshold (500, 300, etc.)\n",
    "yelp_sdf2 = yelp_sdf2.where(col(\"text_length\") <= 300 )"
   ]
  },
  {
   "cell_type": "code",
   "execution_count": 0,
   "metadata": {
    "application/vnd.databricks.v1+cell": {
     "cellMetadata": {
      "byteLimit": 2048000,
      "rowLimit": 10000
     },
     "inputWidgets": {},
     "nuid": "39cfdcba-da08-42c0-8706-f761b49ff9d9",
     "showTitle": false,
     "title": ""
    }
   },
   "outputs": [
    {
     "output_type": "stream",
     "name": "stdout",
     "output_type": "stream",
     "text": [
      "Out[11]: 23775"
     ]
    }
   ],
   "source": [
    "yelp_sdf2.count()"
   ]
  },
  {
   "cell_type": "code",
   "execution_count": 0,
   "metadata": {
    "application/vnd.databricks.v1+cell": {
     "cellMetadata": {
      "byteLimit": 2048000,
      "rowLimit": 10000
     },
     "inputWidgets": {},
     "nuid": "c29bbad0-4984-49f6-8d6a-9cd2dbcccf4e",
     "showTitle": false,
     "title": ""
    }
   },
   "outputs": [
    {
     "output_type": "stream",
     "name": "stdout",
     "output_type": "stream",
     "text": [
      "Out[12]: ['user_id',\n 'business_id',\n 'stars',\n 'text',\n 'city',\n 'is_open',\n 'business_review_count',\n 'business_stars',\n 'state',\n 'user_average_stars',\n 'user_compliment_cool',\n 'user_compliment_funny',\n 'user_fans',\n 'user_review_count',\n 'user_useful',\n 'text_length']"
     ]
    }
   ],
   "source": [
    "yelp_sdf2.columns"
   ]
  },
  {
   "cell_type": "code",
   "execution_count": 0,
   "metadata": {
    "application/vnd.databricks.v1+cell": {
     "cellMetadata": {
      "byteLimit": 2048000,
      "rowLimit": 10000
     },
     "inputWidgets": {},
     "nuid": "46dfa093-d67c-4df8-bf0b-115e33fe9480",
     "showTitle": false,
     "title": ""
    }
   },
   "outputs": [],
   "source": [
    "from pyspark.ml.feature import RegexTokenizer, HashingTF, IDF\n",
    "# Performing in-line rather than making part of the pipeline\n",
    "\n",
    "tokenizer = RegexTokenizer(inputCol=\"text\", outputCol=\"words\", pattern=\"\\\\w+\", gaps=False)\n",
    "yelp_sdf2 = tokenizer.transform(yelp_sdf2)\n",
    "hashingTF = HashingTF(numFeatures=4096, inputCol=\"words\", outputCol=\"word_features\")\n",
    "yelp_sdf2 = hashingTF.transform(yelp_sdf2)\n",
    "idf = IDF(inputCol='word_features', outputCol=\"idf_features\", minDocFreq=1)\n",
    "idfModel = idf.fit(yelp_sdf2)\n",
    "yelp_sdf2 = idfModel.transform(yelp_sdf2)"
   ]
  },
  {
   "cell_type": "code",
   "execution_count": 0,
   "metadata": {
    "application/vnd.databricks.v1+cell": {
     "cellMetadata": {
      "byteLimit": 2048000,
      "rowLimit": 10000
     },
     "inputWidgets": {},
     "nuid": "917b7dea-6986-49c7-8881-c87f4acc614f",
     "showTitle": false,
     "title": ""
    }
   },
   "outputs": [
    {
     "output_type": "stream",
     "name": "stdout",
     "output_type": "stream",
     "text": [
      "+-------------------------------------------------------------------------------------------------------------------------------------------------------------------------------------------------------------------------------------+--------------------+\n|text                                                                                                                                                                                                                                 |sentiment_score     |\n+-------------------------------------------------------------------------------------------------------------------------------------------------------------------------------------------------------------------------------------+--------------------+\n|Horrible dismissive service. Carrie is a fucking bitch!!!!!!!!!! And Jim can suck a dick. I used my temporary state ID to buy liquor and food at other locations but came here to this BS and they wouldn't let me. Called corporate.|-0.53125            |\n|Great service, HORRIBLE food. Fries taste like sweetened flour, extremely-overpriced hamburger was barely edible. Wasted over $10 for a basic \"meal\", most of which I had to toss out.                                               |0.025000000000000005|\n|Best cider I've ever had. Hail to the Hop cider is truly special. \\n\\nStaff is very friendly, and allow outside food.                                                                                                                |0.4611607142857143  |\n|It has pretty much everything you need, which is nice. Average time I've waited in check out is about 3-5 min on peak hours. Customer service desk didn't open at 7am when I was told it would open. Waited an additional 15 minutes.|0.15                |\n|This place is so cool! If you like Colombia- you will love! Donnell took care of us and he was so wonderful!!                                                                                                                        |0.6875              |\n+-------------------------------------------------------------------------------------------------------------------------------------------------------------------------------------------------------------------------------------+--------------------+\n\n"
     ]
    }
   ],
   "source": [
    "# Text Engineering - Textblob for sentiment analysis\n",
    "from textblob import TextBlob\n",
    "from pyspark.sql.functions import udf\n",
    "from pyspark.sql.types import DoubleType\n",
    "\n",
    "# Using TextBlob for Sentiment Analysis\n",
    "def sentiment_analysis(some_text):\n",
    "    sentiment = TextBlob(some_text).sentiment.polarity\n",
    "    return sentiment\n",
    "\n",
    "# Defining a UDF for sentiment analysis\n",
    "sentiment_analysis_udf = udf(sentiment_analysis, DoubleType())\n",
    "\n",
    "# Applying the UDF to the \"text\" column and create a new column called \"sentiment_score\"\n",
    "yelp_sdf2 = yelp_sdf2.withColumn(\"sentiment_score\", sentiment_analysis_udf(\"text\"))\n",
    "\n",
    "# Examining the output\n",
    "yelp_sdf2.select(\"text\", \"sentiment_score\").limit(5).show(truncate=False)"
   ]
  },
  {
   "cell_type": "code",
   "execution_count": 0,
   "metadata": {
    "application/vnd.databricks.v1+cell": {
     "cellMetadata": {
      "byteLimit": 2048000,
      "rowLimit": 10000
     },
     "inputWidgets": {},
     "nuid": "28809572-fd3b-450b-a74d-d32916a306e0",
     "showTitle": false,
     "title": ""
    }
   },
   "outputs": [
    {
     "output_type": "stream",
     "name": "stdout",
     "output_type": "stream",
     "text": [
      "Out[15]: [('user_id', 'string'),\n ('business_id', 'string'),\n ('stars', 'double'),\n ('text', 'string'),\n ('city', 'string'),\n ('is_open', 'bigint'),\n ('business_review_count', 'bigint'),\n ('business_stars', 'double'),\n ('state', 'string'),\n ('user_average_stars', 'double'),\n ('user_compliment_cool', 'bigint'),\n ('user_compliment_funny', 'bigint'),\n ('user_fans', 'bigint'),\n ('user_review_count', 'bigint'),\n ('user_useful', 'bigint'),\n ('text_length', 'int'),\n ('words', 'array<string>'),\n ('word_features', 'vector'),\n ('idf_features', 'vector'),\n ('sentiment_score', 'double')]"
     ]
    }
   ],
   "source": [
    "yelp_sdf2.columns\n",
    "yelp_sdf2.dtypes"
   ]
  },
  {
   "cell_type": "code",
   "execution_count": 0,
   "metadata": {
    "application/vnd.databricks.v1+cell": {
     "cellMetadata": {
      "byteLimit": 2048000,
      "rowLimit": 10000
     },
     "inputWidgets": {},
     "nuid": "90120109-0a1a-447b-bc2f-fd1f02fbd24f",
     "showTitle": false,
     "title": ""
    }
   },
   "outputs": [],
   "source": [
    "from pyspark.sql.functions import col\n",
    "\n",
    "yelp_sdf2 = (\n",
    "    yelp_sdf2\n",
    "    .withColumn(\"business_review_count\", col(\"business_review_count\").cast(\"double\"))\n",
    "    .withColumn(\"is_open\", col(\"is_open\").cast(\"double\"))\n",
    "    .withColumn(\"user_review_count\", col(\"user_review_count\").cast(\"double\"))\n",
    "    .withColumn(\"user_fans\", col(\"user_fans\").cast(\"double\"))\n",
    "    .withColumn(\"user_compliment_cool\", col(\"user_compliment_cool\").cast(\"double\"))\n",
    "    .withColumn(\"user_compliment_funny\", col(\"user_compliment_funny\").cast(\"double\"))\n",
    "    .withColumn(\"user_useful\", col(\"user_useful\").cast(\"double\"))\n",
    ")"
   ]
  },
  {
   "cell_type": "code",
   "execution_count": 0,
   "metadata": {
    "application/vnd.databricks.v1+cell": {
     "cellMetadata": {
      "byteLimit": 2048000,
      "rowLimit": 10000
     },
     "inputWidgets": {},
     "nuid": "71681773-e733-4761-9c48-ae9d78bbaecc",
     "showTitle": false,
     "title": ""
    }
   },
   "outputs": [],
   "source": [
    "# Using VectorAssembler to combine our individual feature vectors into one large vector\n",
    "\n",
    "from pyspark.ml.feature import VectorAssembler\n",
    "assembler = VectorAssembler(inputCols=[\"city_vector\", \"state_vector\", \"word_features\", \"idf_features\", \"sentiment_score\", \"business_review_count\", \"business_stars\", \"is_open\",\n",
    "    \"user_average_stars\", \"user_review_count\", \"user_fans\",\n",
    "    \"user_compliment_cool\", \"user_compliment_funny\", \"user_useful\"],\n",
    "outputCol=\"features\")"
   ]
  },
  {
   "cell_type": "code",
   "execution_count": 0,
   "metadata": {
    "application/vnd.databricks.v1+cell": {
     "cellMetadata": {
      "byteLimit": 2048000,
      "rowLimit": 10000
     },
     "inputWidgets": {},
     "nuid": "9aedb6d1-e166-4dda-848b-9e9d337006b7",
     "showTitle": false,
     "title": ""
    }
   },
   "outputs": [],
   "source": [
    "#yelp_sdf2 = assembler.transform(yelp_sdf2)"
   ]
  },
  {
   "cell_type": "code",
   "execution_count": 0,
   "metadata": {
    "application/vnd.databricks.v1+cell": {
     "cellMetadata": {
      "byteLimit": 2048000,
      "rowLimit": 10000
     },
     "inputWidgets": {},
     "nuid": "c8062668-b4c2-46eb-9359-78e7ccd65338",
     "showTitle": false,
     "title": ""
    }
   },
   "outputs": [
    {
     "output_type": "stream",
     "name": "stdout",
     "output_type": "stream",
     "text": [
      "Out[19]: ['user_id',\n 'business_id',\n 'stars',\n 'text',\n 'city',\n 'is_open',\n 'business_review_count',\n 'business_stars',\n 'state',\n 'user_average_stars',\n 'user_compliment_cool',\n 'user_compliment_funny',\n 'user_fans',\n 'user_review_count',\n 'user_useful',\n 'text_length',\n 'words',\n 'word_features',\n 'idf_features',\n 'sentiment_score']"
     ]
    }
   ],
   "source": [
    "yelp_sdf2.columns"
   ]
  },
  {
   "cell_type": "code",
   "execution_count": 0,
   "metadata": {
    "application/vnd.databricks.v1+cell": {
     "cellMetadata": {
      "byteLimit": 2048000,
      "rowLimit": 10000
     },
     "inputWidgets": {},
     "nuid": "4ae321b4-ca00-4a50-b5cc-5a309c2dce3b",
     "showTitle": false,
     "title": ""
    }
   },
   "outputs": [],
   "source": [
    "from pyspark.ml.classification import LogisticRegression\n",
    "from pyspark.ml.feature import Binarizer\n",
    "from pyspark.ml import Pipeline\n",
    "from pyspark.ml.evaluation import BinaryClassificationEvaluator, RegressionEvaluator"
   ]
  },
  {
   "cell_type": "code",
   "execution_count": 0,
   "metadata": {
    "application/vnd.databricks.v1+cell": {
     "cellMetadata": {
      "byteLimit": 2048000,
      "rowLimit": 10000
     },
     "inputWidgets": {},
     "nuid": "cb5f6b85-fdc4-4bb1-9051-e06c8728bd59",
     "showTitle": true,
     "title": "Binarizing 'Stars' Column"
    },
    "jupyter": {
     "source_hidden": true
    }
   },
   "outputs": [],
   "source": []
  },
  {
   "cell_type": "code",
   "execution_count": 0,
   "metadata": {
    "application/vnd.databricks.v1+cell": {
     "cellMetadata": {
      "byteLimit": 2048000,
      "rowLimit": 10000
     },
     "inputWidgets": {},
     "nuid": "137011da-b57c-42d0-82bb-b436dcf9b331",
     "showTitle": false,
     "title": ""
    }
   },
   "outputs": [
    {
     "output_type": "stream",
     "name": "stdout",
     "output_type": "stream",
     "text": [
      "Binarizer output with Threshold 3.0\n+--------------------+-----+-----+\n|             user_id|stars|label|\n+--------------------+-----+-----+\n|-yrqsIGkhDJ3mDARW...|  1.0|  0.0|\n|07YMTWICItcVg1UPW...|  1.0|  0.0|\n|1mP2IJwlQgxm5P3Gi...|  5.0|  1.0|\n|1rPlm6liFDqv8oSmu...|  3.0|  0.0|\n|2Q5LQRSHSLBK-twOB...|  5.0|  1.0|\n|2yd4J-ieLWK_FNiaA...|  5.0|  1.0|\n|3Kbr90iDnNxVOr1EB...|  5.0|  1.0|\n|4LQ8YxuHI__oBdh4H...|  5.0|  1.0|\n|4Mljx6AvGKt91n2Sc...|  5.0|  1.0|\n|4tkkDeJ9pAMfrsj92...|  4.0|  1.0|\n|4uHX13suzYG4TWhAK...|  1.0|  0.0|\n|69rCSSQjFihK7FJ-6...|  4.0|  1.0|\n|6Raja_0G0mfCaaaqb...|  5.0|  1.0|\n|7-8mh-ibzd7OmFMSB...|  5.0|  1.0|\n|7898uuJ-YKlXDtYYL...|  4.0|  1.0|\n|7JWIy_HgKQja6BNBr...|  5.0|  1.0|\n|7tZ4TUgyJ8o_FlbHD...|  5.0|  1.0|\n|8LdWRyDwO4K-cmjh1...|  4.0|  1.0|\n|8XeTv8Js_8um5Ht1Q...|  5.0|  1.0|\n|8Z2Y4FjxzcYRxbpOI...|  5.0|  1.0|\n+--------------------+-----+-----+\nonly showing top 20 rows\n\n"
     ]
    }
   ],
   "source": [
    "# Binarize the 'stars' column\n",
    "# Creating a binary label (0 or 1) where 0 indicates a star rating <= 3, and 1 indicates a star rating > 3\n",
    "binarizer = Binarizer(threshold=3.0, inputCol='stars', outputCol='label')\n",
    "yelp_sdf2 = binarizer.transform(yelp_sdf2)\n",
    "\n",
    "print(\"Binarizer output with Threshold\", binarizer.getThreshold())\n",
    "\n",
    "# Select the columns you want to display\n",
    "binary_label_df = yelp_sdf2.select(\"user_id\", \"stars\", \"label\")\n",
    "\n",
    "# Show the resulting DataFrame\n",
    "binary_label_df.show()"
   ]
  },
  {
   "cell_type": "code",
   "execution_count": 0,
   "metadata": {
    "application/vnd.databricks.v1+cell": {
     "cellMetadata": {
      "byteLimit": 2048000,
      "rowLimit": 10000
     },
     "inputWidgets": {},
     "nuid": "c1107c83-5b95-4aee-87be-9dee99f044ae",
     "showTitle": false,
     "title": ""
    }
   },
   "outputs": [],
   "source": [
    "# Create a LogisticRegression Estimator\n",
    "lr = LogisticRegression(featuresCol='features', labelCol='label')"
   ]
  },
  {
   "cell_type": "code",
   "execution_count": 0,
   "metadata": {
    "application/vnd.databricks.v1+cell": {
     "cellMetadata": {
      "byteLimit": 2048000,
      "rowLimit": 10000
     },
     "inputWidgets": {},
     "nuid": "029a4925-05a7-4388-86b2-9cc3234ce0d7",
     "showTitle": false,
     "title": ""
    }
   },
   "outputs": [],
   "source": [
    "# Split the data into training and test sets\n",
    "trainingData, testData = yelp_sdf2.randomSplit([0.70, 0.30], seed=42)"
   ]
  },
  {
   "cell_type": "code",
   "execution_count": 0,
   "metadata": {
    "application/vnd.databricks.v1+cell": {
     "cellMetadata": {
      "byteLimit": 2048000,
      "rowLimit": 10000
     },
     "inputWidgets": {},
     "nuid": "8d092911-b690-4c8d-a1c5-cb9f1137a89e",
     "showTitle": false,
     "title": ""
    }
   },
   "outputs": [],
   "source": [
    "# Create the pipeline\n",
    "pipeline = Pipeline(stages=[indexer, encoder, assembler, lr])"
   ]
  },
  {
   "cell_type": "code",
   "execution_count": 0,
   "metadata": {
    "application/vnd.databricks.v1+cell": {
     "cellMetadata": {
      "byteLimit": 2048000,
      "rowLimit": 10000
     },
     "inputWidgets": {},
     "nuid": "8a13f5ce-b653-4c27-99a0-5e9a917f3215",
     "showTitle": true,
     "title": "Modeling & Evaluation"
    },
    "jupyter": {
     "source_hidden": true
    }
   },
   "outputs": [],
   "source": []
  },
  {
   "cell_type": "code",
   "execution_count": 0,
   "metadata": {
    "application/vnd.databricks.v1+cell": {
     "cellMetadata": {
      "byteLimit": 2048000,
      "rowLimit": 10000
     },
     "inputWidgets": {},
     "nuid": "a437037e-c760-434d-bb57-8e40b9d3ceef",
     "showTitle": false,
     "title": ""
    }
   },
   "outputs": [],
   "source": [
    "# Train the model on the trainingData\n",
    "model = pipeline.fit(trainingData)"
   ]
  },
  {
   "cell_type": "code",
   "execution_count": 0,
   "metadata": {
    "application/vnd.databricks.v1+cell": {
     "cellMetadata": {
      "byteLimit": 2048000,
      "rowLimit": 10000
     },
     "inputWidgets": {},
     "nuid": "2569550d-4165-46c9-a7c1-9606e975507e",
     "showTitle": false,
     "title": ""
    }
   },
   "outputs": [],
   "source": [
    "# Save the model to the \"/models\" folder\n",
    "#model.write().overwrite().save(\"s3a://yelp-reviews-jb/models/lr_model\")"
   ]
  },
  {
   "cell_type": "code",
   "execution_count": 0,
   "metadata": {
    "application/vnd.databricks.v1+cell": {
     "cellMetadata": {
      "byteLimit": 2048000,
      "rowLimit": 10000
     },
     "inputWidgets": {},
     "nuid": "3d78d75d-85b3-4da7-b034-e321ef092c2b",
     "showTitle": true,
     "title": "Logistic Regression Model"
    },
    "jupyter": {
     "source_hidden": true
    }
   },
   "outputs": [],
   "source": []
  },
  {
   "cell_type": "code",
   "execution_count": 0,
   "metadata": {
    "application/vnd.databricks.v1+cell": {
     "cellMetadata": {
      "byteLimit": 2048000,
      "rowLimit": 10000
     },
     "inputWidgets": {},
     "nuid": "d59feab2-d262-45d0-8e28-32614c3c785d",
     "showTitle": false,
     "title": ""
    }
   },
   "outputs": [
    {
     "output_type": "stream",
     "name": "stdout",
     "output_type": "stream",
     "text": [
      "Coefficients:  [1.0223132699988418,-4.993861309284238,-8.215673792226857,-0.45565495181630766,-1.3516925029567215,-0.8927911333563745,3.3833825464313563,2.2668884013655064,-3.0404665573669885,1.7566320628598093,-24.97073219608834,20.57246661070442,-2.1604339461669646,-27.74790360420444,-7.42418498447403,11.44622310506997,4.520573405279022,-3.6675408744159665,42.893573109178895,16.943814279669613,-21.7332791354642,-21.21532603250168,-1.1249068030261773,-29.575604840485507,38.85745626032495,3.878289129125391,57.05945451496216,9.785353384449737,44.86166520353749,65.23914654669947,-55.3509874946143,25.41261912018567,-53.29028308550333,-18.407585126435226,7.958457364218631,-0.03471828546462369,-33.35631064153074,-35.536767363997285,47.04924303576243,-19.55798643923221,-12.36898008980825,-38.83200374068259,-2.472777242714155,13.624908218642974,-30.39508676616955,52.180330922380996,-16.580131601163195,-89.38847875248186,12.696540935169073,-45.565393379196045,20.490612672323152,-12.685845248851788,29.541262405474587,5.152566057692021,-38.77584981870311,27.458401167021414,90.21231193545998,-17.411926909159334,16.57895276434578,101.97484002968625,-33.21581689983378,-23.457400317827446,-35.971564279636596,67.74602040597514,-15.126328800243881,12.934535001003615,-39.68936569988974,-4.433920026827215,25.495450785723694,-76.81223631199312,15.794916544797244,77.5609119985175,-0.8367872566663502,22.0365100648116,6.444759378758554,-53.7669406755077,-68.85887606173802,83.7357933162747,-1.795092227527659,-57.071653005800826,2.106353350562301,-35.128477175559915,48.050779801948856,-26.379043264656286,-30.97641115695932,18.02799707462154,-17.267098022120102,25.206934199834695,-0.9748632859166053,9.41015999678065,37.88130643089414,-25.89711917192598,-17.081064454346798,25.19514618549251,20.428015029144966,-24.2262892091637,1.0580901044418856,-81.90423181215832,-48.94999608207531,73.82323468363194,29.730971074586087,12.55429908621902,52.27081911727922,26.51150940103054,-41.047531348605155,28.18715433703705,-53.08279683626929,-57.38266983237426,68.52154834697501,16.465070761492278,3.9876064756847946,25.775592748849053,97.75926134485366,-109.86709618042825,-0.9970410925982925,35.893549453532714,-53.32927379444676,-109.25594261572822,9.341202674644379,5.715429762066931,59.79427973578343,38.3728372361106,88.79433122825054,8.010947089227495,124.52006608143802,70.92895059405407,88.59614623686579,1.17134930477687,-20.73893586970183,30.067190193027525,80.6446003012887,-67.76766697576267,-28.5211269860707,-20.24777973987173,-41.7679702791603,39.45196237569996,18.030302938515256,-43.66910031462268,69.18361006288376,63.470174270789656,7.846400730029661,-48.789153190096144,85.40950498843603,82.1592883007529,-121.34042176904323,-42.48837159593724,-99.61936099380183,12.987818625085348,-49.558054995569265,-32.64592133664993,3.872471520592155,85.05412383085985,-41.9291270233396,-9.818503507576624,-44.30624735718751,46.64650149564616,10.99844530769164,18.070340689596065,-11.31994901474736,43.64282192938107,-44.66254583864362,42.874349561576906,-12.16386201729403,64.90545611889864,95.88162198232564,91.9251625703859,-40.88015976333306,-88.66067740403226,148.71860530067912,-3.097175061148193,-78.71185624677696,18.392515434749257,-42.42516895848643,-22.562510133193232,55.95420849386419,-28.745716100396,-59.886190870401364,85.7122991879703,-7.0654694143509715,17.969673192464285,-33.49338104282987,150.92171821574203,-48.316470647003165,-1.603580935123965,81.6738360019347,-45.35228506093167,29.281171534127346,4.58563438458587,19.565341945524928,48.661770267338824,13.137517474661609,29.43649524606959,43.890662445891195,100.43662243450353,-3.0617586628861684,-23.379797446673177,79.25849184217519,-146.01705998993864,8.048887970181921,-3.0787770437325417,-6.717580089981357,-32.438440515233424,194.74232411728877,-54.104180586018934,52.3829855698004,80.59797045553634,-77.91798525948049,-60.93557610490098,145.86678829273686,-25.85416105490497,146.2208158516038,133.70365569364387,-22.812652881597202,-10.547603228856973,192.23238151501167,-142.68561341845597,17.958190873330775,-33.53053201353084,-60.568192961951794,-17.41016379329439,-67.39123786994699,-60.636865979729635,-15.253394124116223,-105.85109261793289,64.74862620751983,-21.45265414781181,-17.276113210275312,20.631024352563166,113.8589154973216,101.0646833810633,48.91126056984644,23.042981616630183,-3.437367572254879,-80.64194168450442,-139.0544139882982,7.987987872433155,-92.75592016516418,-27.213591336878274,93.77493466455908,39.56949897780656,108.04179752833687,76.96081450858797,-1.9589328485820623,34.93201741600021,48.427660034863386,-106.67162561631714,-21.484579679466624,87.84214551542645,-27.288501058049185,84.40972200079322,-14.362647150832613,212.1043118100079,-45.47320696858383,-23.953727924836098,-50.13663801969997,28.27800247766153,-176.60111161099903,9.942692266225121,-20.397506040419476,49.540538306112985,-13.328620822792672,9.599445978915085,-19.58888555337664,42.45421977073567,-139.78767613251742,65.87956825820562,77.84405055091062,-63.04071050300998,-112.80334517896478,-38.59193048490754,-30.417846050504448,-14.63375236987835,-60.803900250958826,-44.976040654752595,239.4603598054339,25.885796715172628,89.49385756040597,22.436365519666403,-119.6474260431711,-46.015050132329314,-48.62645670231388,-19.112274252737915,5.940081471134511,2.148463444709049,44.08658924284973,-42.740945783780866,-44.154195039534024,86.56542291549795,-118.23932000356386,-165.78304900946316,-12.041526612873017,268.7890403827542,52.460597877127945,-115.89073663964705,27.062154374330873,-15.935766288439611,-64.34466611745499,101.25623173959465,52.498755128078244,32.27181940391828,2.152941359274144,-13.323676591064766,-13.94718074815722,-25.18055643207261,-37.01923112393277,-101.87321247691935,12.89889524675691,40.838852941363996,15.548383483281421,76.10575758835223,-65.41169426671874,206.17886587245064,81.70969981403458,219.4850329342393,-58.399893220415926,83.63544763053832,-145.71260359274854,121.28973097671529,-57.99911698059122,0.3771736355006501,-72.14321148805435,289.9801433783001,20.673861555444645,235.8068929428192,-41.035042163297035,-61.497791573428344,-12.986071718577533,-24.471368928964683,157.80568939799088,-54.506811836306866,-22.191671136393992,9.561155188619988,-28.762231287372337,32.473814836242525,157.70743309767656,-52.49819926945638,-49.255404736933365,3.0507526973135812,12.740613194674427,-87.99445194305156,161.38834890102592,56.638320344184486,208.43993331616224,184.04072013420097,-38.18581287676127,14.427938449751771,-86.41566363253668,-79.9272800119364,-74.18110565998667,-56.33524482632852,-70.86154035914056,56.06647127383303,35.33660941514725,-92.62095286993933,-140.69049216537323,97.31526773864648,-57.302937482146156,9.789211032128753,0.8970438920226363,2.4668548885460235,-85.37880472039257,5.473735059473013,-28.167854423629283,-16.03680399843288,174.49025899159034,93.61573399919705,-70.35845787298703,-57.22288176035364,-237.35579951472755,55.24836588903959,-261.10172906255536,251.43415948887022,269.06483370574296,41.960239897607536,21.86187143759102,-15.054525837897131,-86.36501050659972,140.65436325929647,-24.026484008052726,29.43732922245404,-44.9186268552116,-95.96262006918263,-81.45622864926602,-102.86059256952733,99.18051292459378,34.31065519493862,-0.6913953275278917,129.92275147464485,4.003559784864628,-24.953428553123764,-24.174068084094515,-41.785414242950694,215.01069109757225,118.96021817630515,67.10690630610543,-41.64830809000909,-0.471787624513948,-47.50397257712379,7.084296374773611,48.913613026413,202.76156037483102,254.07983558766205,-262.77784786951787,92.8480258230007,-108.96466219495758,-89.88572793947802,-41.99113810188329,-18.856864731757895,-113.69640706664306,61.24066323125599,434.6490477792234,-11.620740506679049,-27.99111260873148,-41.22849576537156,-158.22670840965245,68.34724209694333,72.83808518398179,-112.2749252453986,-42.33840251432415,-109.33462370228935,136.89429481789006,-40.8374193779194,-299.6360451652959,-47.82286674275771,-11.122588045421471,144.5055538339641,8.331490273509539,44.70866390942883,-34.170707858975035,17.5830190184432,-99.85802785737602,-190.9126846024658,-38.10646425046765,-64.7881362448536,-34.957478419765096,-148.19154415240905,-97.56057196512923,-145.890229994701,-43.63848945700198,-117.49537582053588,-42.63969208179506,-309.13517183988796,112.48889527852825,-111.78229672525737,-0.7431507050163675,-47.07964221318293,-130.03155694277294,-45.57579025335421,-100.27158781544925,-31.649596155688116,-65.42209687815733,149.0759564214228,-41.89497583536388,-79.03658468076331,9.947181649657708,197.17992794324743,-52.16770972322005,-48.95154023197352,262.5248518026761,-64.70588966232962,-45.299732139737465,-114.43239513090782,10.351615332548212,-112.94455050332438,266.1217868237241,-16.602925962098517,5.344534152411205,-60.04333815760904,-250.34898673948186,-340.15649344249164,23.84640198184819,-48.97590301488006,-82.37372564826815,-54.00579425504495,104.61693469288797,17.939329341373632,-103.49342067970494,32.37039388882736,26.135869034803232,-226.97632462452185,123.67145317156613,27.656438865724656,93.86826178188817,-118.54796713213717,113.30423619715938,-17.318441910467303,-78.83382450303316,18.51675107215671,-10.893930976062963,20.69566294750032,149.3524080848349,-103.96671725138454,-73.93922361643892,34.299523949821406,-58.615294348842276,116.32698588399485,-61.83443643741983,4.85687086757481,372.17142316199477,-45.320539469974875,-176.44338578780344,-99.31215287355569,-93.22406322703667,28.686814390186793,77.5229508990146,-61.55648873525938,409.5188270925037,82.02313323372343,184.01568013232662,124.57950639767104,-78.5407344343217,-78.60842834698028,322.4371301102478,-110.99574212302117,111.83298962621215,0.0,3.2807867076345363,1.62650266201745,-3.2250382304212843,-3.949440900247765,1.809306931660436,-5.556896826373346,-0.835164798856343,-2.1569266350723386,1.5959180605304182,5.214453688379844,1.1402603291916285,-2.204961124476077,-4.834156688548124,3.6474405542425745,103.27044248651112,0.0,-14.028067262300812,5.6271192880539065,46.7451195939156,24.52345010769009,-5.4372904552842805,37.12938155037661,-12.163687577998708,35.89564394266234,14.05046974170035,23.035040394513924,-4.282306976960046,-7.460812875290635,50.70084777407557,-1.9613609464520572,-1.9570804597375264,69.70258215283816,-91.84677925823983,-8.723154813650611,-20.299124025182813,1.2073737205019377,11.60538475328472,-31.848753922348795,11.463097799124572,29.448364212084453,-44.44255615324652,54.59495035188963,-18.713838446692126,10.911172213020183,-43.72658331103502,-16.401223238937096,-8.616293313487407,5.5278481077015975,11.420799459880314,1.315639765729474,89.39179451519732,34.342819609679474,60.21396151230692,67.34855225574705,30.459800911458252,44.75285998459759,89.33486746484819,-10.314878736688083,72.51325656302487,-2.0304944212018654,34.66042072464177,93.73573864129608,-0.9334484399065532,1.5452255743825511,6.5757659994731705,12.95403126548744,-1.1588280375289561,46.95620032715662,-14.848258086112873,4.054075514352999,18.908653728601788,-0.4994131634762657,-37.48080826863128,43.902074737292764,-47.69396369828449,12.033447940046479,18.58848086688981,10.457335252207216,-10.892787071551092,37.514280446653544,-3.1433072413704335,-42.002461963832076,17.513725138717508,-33.43797567022838,-9.153645503568747,-1.516252602598876,2.852084682222968,-3.6110270203300767,-41.037173528679574,58.62458347900214,43.221628784958575,4.0660398614654625,-63.71219920083067,-1.7189414395381124,-12.999886156723823,32.34832426701736,81.24428270631955,-16.87470710041541,28.888946794293076,-14.45558697869304,-23.300317483798494,16.569007040693656,133.40414959005108,-2.829647581435775,-68.29271067518725,31.15230595032636,-14.763482493656456,43.21978168875997,81.33141113366793,-88.83319505666329,25.820277536942125,-12.92149166083345,18.61458863065074,-2.551887455020077,-23.721500514211186,-10.333384399517048,-11.541816264808238,24.85962991389635,-27.21791480487201,60.06117602706775,64.21933844627152,126.19547313759897,-0.14834979824287856,6.202283106435962,-23.75835190356127,10.028545776606753,-29.501960138056408,-141.87023807470536,-12.401280538384219,-9.783119313862693,10.828135371851738,-20.722935544032563,0.6010223908414892,29.84501282206441,6.720327394761161,91.41915166287725,-18.7071421022933,5.006833080503132,-3.111158783750916,-21.85951058708946,2.4127901991475325,6.7953271408681895,57.57792287602982,-5.242661962533829,26.112587028028123,3.5126216727744177,8.21127354549379,-13.607134817633991,17.503546689852996,-53.15929741785707,18.23435673962052,17.470652966690878,-28.4536507367366,-14.62231580445888,-38.11315986729685,68.37142173388207,-37.130833307228926,-17.016198982776675,27.09573189275675,5.047978689255531,-7.50193517248763,28.117500361912548,-39.79613728775101,-22.336977204934037,4.543006901496819,44.47081021317333,58.20786515012746,-23.73709062832736,5.346409304742619,-4.916574690872437,3.408120076818069,74.38514285222722,11.7079090862743,16.9792606883731,8.65196259729393,34.59529618808385,35.511653427339574,-16.22722388307882,-7.027168340158748,-34.85106594170041,9.531953196985803,40.00341783265984,-29.155027783901385,12.280212084905871,-30.744922526895394,-10.756509865034634,18.186417164999707,19.04231019810739,36.81447657261193,9.61224271933292,20.811598671827134,44.40625795044816,-7.021706870294687,27.971404444273325,-1.1444414628251467,-6.5085806788974,35.57752960900338,1.2350017736324295,32.83052500954741,-4.8689985527238795,22.48229199177792,-18.286193593060574,23.267441256286578,3.811620681890863,9.065482883879616,14.3679435054945,0.0,-3.552799511420523,55.79905303354598,0.26286025764839577,15.484348853319519,15.477138700580603,-12.632857706342422,28.79611733922144,-19.136295952608073,105.87561532077777,-4.85433067513609,11.387246548074721,-41.69201483245075,-31.216708144754943,5.896783238267532,-24.245684327771485,11.28238510829413,13.677183909633422,22.727286641064577,9.507178925285567,8.653815851361093,-12.358442744330771,62.389426191470584,-45.90752017810663,12.950090752390606,-2.386331917840291,17.865430749741847,57.80481762184596,-69.9678725541213,80.46810596290457,10.973360616816608,-11.745687239091728,7.319156488488074,-17.692919012297214,-13.916395949898044,38.293613837129975,-14.401593998438518,9.261695243436328,-1.6524489920103418,9.692611695576986,-22.977240740720685,-9.32557464737962,-10.396264983183507,6.749076665504666,11.934967656830331,42.47453726085225,0.647601004961891,5.576177412634059,-14.795369154364556,-1.0021232673824818,-3.3647904510218156,5.0551989611643275,69.41585184808667,6.381863695998127,20.700781461928063,4.425557317182611,-16.646979747176637,-12.699350076062947,-50.495537974859275,-12.969444039200669,-18.103797973842127,-11.01940798228302,30.26633305539701,18.77263128486975,-12.444431168550716,22.807657103991286,8.567478061635827,5.500837250391924,-15.580952566931288,53.86267075770502,57.20370805651726,8.440973231788735,48.8746838460202,16.968920440013694,42.753935621948415,-22.007043906108667,-11.046422697433066,-29.15099493409719,-14.923124586413262,6.1253731022456686,27.616319785071973,161.92356950144466,10.855098282113381,3.9616575397659024,-45.31055570572066,-19.23705880297379,7.614572293212835,79.3647498804045,-4.4148211435938824,19.0113944630238,-1.955171814807136,30.686356371885605,1.6004675586426493,-43.19990436752723,9.197134273806649,10.472309979067425,1.050165485793585,-13.043229512141439,24.478618331841,25.72657899829884,-24.65513375337119,60.5047270802857,10.65147998521143,6.515048851686917,-14.05321228576142,-10.906926507821916,-5.741174834961179,90.48738570247838,27.557798123462998,6.138519610950296,74.20648964297754,-68.35553893761772,-17.085784198944427,-2.1660984274249326,-27.743723677317817,-28.125796893966633,-17.642752866191845,-19.936060215188146,-4.065337860197396,12.815730925990012,-3.029264077377788,24.519109214159545,27.436245856076155,23.00933385567457,15.963349421228637,-7.080875834173823,2.5492865053652385,-4.224795721688481,83.8507593797932,56.996288969600805,-98.50941498090218,-15.324833967791207,14.045069783585815,-6.993852609374369,4.3295530557411315,-8.88256126857108,17.262253562643323,13.50267230252504,-9.562236968025946,4.138066684263858,-1.364222644809106,-4.630441402852872,7.42447254557898,41.23754085116688,12.219309293029248,-50.67381616257498,-23.020243670344605,0.4626910815969879,-3.6813603627893547,-21.916270088447128,9.479277790642584,80.66348560591517,-62.397879978355725,-40.856227792673,-15.549861288445179,-0.45858338729681075,2.6001827901584957,-23.049064256126577,5.461908881618625,-17.64770538698717,-28.72035519128031,-33.778880668022154,-31.730172478822013,-4.416681383642708,-7.321921297746386,14.763270586383387,-5.801468975029952,38.933881837534734,14.11551937385003,-4.878139066834073,-45.69262929510911,-25.89351374272458,-3.2336282711215882,-20.373895548769305,-44.434584511508156,29.56788516187313,68.77702885761738,29.76376301778622,7.530867505392905,8.347526705395026,1.3106640020444111,31.09523649006166,-1.8725416243178312,4.462804529851791,28.996605109112092,-35.58655907880079,-1.8589188840193498,-0.3088229134486836,-24.140995401148388,-17.903008088115477,35.980241789455256,-8.631566543934346,131.14460374560002,14.55062850472772,22.612130179613544,29.073550758800952,7.449679926903224,10.074591776965368,0.8134948483675423,-1.4227949526960175,-20.14595853597934,35.10645725959965,2.386459135046777,60.10869365090317,-14.291973483549643,142.48354028039486,-4.641564380150815,8.517338496135155,97.43589768705291,-47.63827906085067,111.81441296393558,-13.885932734706348,10.369084709936331,-42.048458907710184,-1.57568344301733,-8.865829758624203,-1.7788384129127148,-20.670032798494205,18.534095069089673,7.087624173337091,61.95773474272254,-6.938029895627133,-7.937668723015426,-8.896088570642092,-13.091750608087715,30.605819192988417,-1.012122203525705,-91.26329453625063,-1.2178510303975159,8.538097000248339,-9.246797108686097,-3.6259286920355236,2.1683433929013676,-4.096664056697602,18.89581592517953,-10.895941009057593,-13.680075147715463,-46.118485362004336,-5.910354387751508,-18.06966867498477,165.24550542472724,3.572317912138967,-11.676819590689487,-0.3325485287055544,-17.169796108024446,-29.12747379230895,0.34950920871800883,-31.971806325727982,23.220666641767405,-18.462472848971768,-20.020650458835117,14.997606239459966,20.982632495933192,-10.096783658657701,21.299721858753706,35.45049145954336,68.79711545562537,14.343893456583071,-84.86004591791453,-4.774359745652267,64.19583360673539,-1.1538074248677737,-39.030060369829954,11.369015281983142,32.98428167961501,-3.878547580007767,2.8308552744747315,18.795502162308026,79.36799122785887,2.838713053088552,-24.62361417911978,-8.84466835975022,-2.810041261091742,-22.44412728771407,2.150095031975222,0.875522232341821,-46.990696421079505,27.389275502520352,25.750470050390422,-0.9084834392981127,42.35141147335408,37.28380595354277,1.1635651411590155,-33.23336847250714,18.330857761534517,-22.061725256396652,39.63705480948305,-38.73566267173868,5.911914345828274,54.291235096951716,-18.699506929374017,24.30117042129479,14.260960083850598,-10.987731384879083,-1.0855651310176315,29.96818863508855,65.01971308743674,-15.436820828141975,5.471644949012794,-16.063660057878273,51.33142005624741,-24.044215537868958,-52.085467541859806,0.07618579032355437,-84.03525182488204,-2.4349653923027375,9.397697042106966,7.39882320236734,-90.5288278851831,-26.066299448765953,-5.710549687428008,-2.353841453119508,-29.58660500380876,10.803446112227356,-17.615014007591093,-3.5606353213890567,27.956274245982215,21.109799705560963,12.746273109054659,-15.92666851946812,-87.33613137520966,16.689301496808202,-21.970660476853475,2.1863040666726166,-1.6176223832734182,12.339640575391746,50.17502809950186,6.692463723456206,0.6516052682065833,-35.96886622704279,8.09298953090994,-15.166190615432983,-54.507477721482,18.151383159783137,-15.249714390424133,1.348676397426534,-18.974773462231948,-45.87380178407867,2.31929331584187,26.782870372092816,11.102869113155831,21.844262932836983,18.547218635973504,1.7133869076526647,-19.819815428704196,14.883772406716446,8.410332534926939,-12.11566954848798,-39.994069826411824,-4.30343804688988,-4.7417576321203665,6.51767321952908,0.04409529725074005,-14.536735805453498,-9.24834757859788,-14.260210173796924,-17.67741862950387,3.578681719225114,-29.54754489006715,-12.190484208734716,35.72312002936361,4.38818964207221,21.479343723854235,16.09556465460274,-6.145895105346086,-13.099739441470593,8.241590279020599,0.3958506109019596,16.513042536452186,28.056681824537833,-15.23118857130431,-10.345020187780472,-23.266504582386343,-89.01318755640057,-34.661161856851415,5.752984673395277,56.09369061408565,19.10020805329266,-12.409948546767028,-74.77557203087571,88.9859206680205,-12.433559431618912,28.767946653943998,44.491579381322154,13.045827327192024,-20.005292302277724,-2.5311245315373254,-17.07477603436132,6.114174936523699,23.492195414362605,32.49152631971903,58.998193136152736,5.242813922233439,1.4272408594863482,-17.27522143383391,13.781282241255731,-9.34209233042871,124.56793116607297,12.429317883252484,-50.201961239293766,-1.6782096201915806,0.9015869920992419,-8.593795139292096,35.896786963322086,39.55391189142709,-1.964963056013093,23.01296357653795,7.894519110707435,4.349369045753622,-13.062158959051485,4.91570997440008,-25.96307855901196,-66.5182008939307,9.555051372450306,55.46728273772796,-3.1891274428771927,14.592790357415206,-7.730126675452144,0.16433766389139318,-35.806876401639606,43.964938433598896,0.7729477207874356,7.866860808580153,5.4741169861831525,7.490058910324465,-10.84309550926739,17.353300690375175,-54.21485548801177,-2.311378196568888,-13.605479100186322,26.446976316997755,9.452050942519103,-0.9362312338369009,-106.20061613537257,7.5612202416158185,36.673580185994545,10.01598405586077,-59.41476771308492,18.011920746367448,-0.4691980154297462,-1.8800534666053292,-13.613739299837627,-14.555133421806268,-10.920071727069333,-25.671454338686264,190.70435479126118,-11.787923456694514,12.671500215548724,34.36198918434633,-29.16315357409466,-1.9296478062504037,-5.026212570770895,0.31025700144878177,-7.460127319058771,-30.292307217728062,-4.221914585966149,-9.144939260480157,-47.18431461542405,-32.75523027727546,-24.348351848835954,-48.74519021788919,40.999091875068565,-17.790798117075244,-83.54775193996011,-10.919553915152898,-14.21738516651914,6.376309416580986,-6.547555024832586,23.359682501391934,-84.60887770282106,3.4126464338063003,15.92429132227513,21.858836110279846,31.507821034004753,1.442899989235804,0.5518177036515715,5.551050325367468,-46.83898507333472,-10.443240597320408,0.586510884299922,-10.063883901160398,-24.82097395691559,-9.95204488928517,22.493300312622424,-26.642793194033203,27.93725444234946,52.70579338522456,32.77533968199597,-30.466308951041338,9.296957119542006,-3.1549586391293194,-49.02147588732663,-1.0935188664794895,-20.482647450716456,-14.50445454961619,31.5324407579442,-39.559279279810255,-7.9668688262451965,-26.354769219695548,98.76426825202267,-50.328341837621004,-16.178869764510015,7.8690308144021905,-1.4445081233997767,19.806380900485163,-23.52846611453181,-65.38839340671785,-6.1587041438625665,-9.120482224518122,14.326935360099602,-17.851373477073924,3.717918712545958,10.817863608535376,6.822468722031581,-86.82462291140259,0.44137197574429393,21.612653897542554,-46.564786208163376,5.428991428046667,-3.2077116026015053,-12.887171214244107,-81.02468012930362,111.2600299348817,-10.108628203781532,22.541964237033458,10.450471513790442,56.15197995884233,-34.62519415911028,-14.263911125647459,9.05743968028701,-2.9914504470781362,85.72888427658704,19.30350710073607,-13.404488262261212,6.578367797981006,-60.15411371541236,-2.300203509319559,-12.590556908054051,-104.68828903091335,18.956411504968973,-2.0093255501642684,-1.7645629339588735,26.057103556015708,14.771035888843535,-7.439856154888987,-67.27498618228216,10.162984546354703,1.2872363807834737,-11.70576038326553,-12.13479999714993,-41.37840089156105,-52.819463202772,-27.394882992208185,2.973176039987474,-40.12595369189889,-0.6761989213769782,5.41068959736425,28.672755912833022,-28.274573545407243,10.128386301522024,-58.95707917630438,-26.92055230171615,9.798493006563648,-38.128339586708684,4.052242762333465,36.05192784378839,-42.86266897051689,21.187421364983713,14.21052750096657,14.613184874361837,21.422528078663987,-3.2305269528964558,1.5070846426248103,80.62389827325627,14.746827065907347,-68.59904695955878,-41.92086825226071,-15.412415123334073,-13.558564554564642,-33.51753727013712,-15.056835547595101,-11.468187648234112,-2.5937991845027097,-56.95650659700836,15.059101380436177,16.724009808933328,-25.706466072424217,25.004419324463708,-16.754645634612036,-0.5144063497247274,46.95823144781511,84.95810633654892,31.864184728111923,-22.231849773931014,-29.764341942437618,9.463608530540009,17.67446151068545,4.080454695474522,-23.17916720454967,-51.30690715913852,\n\n*** WARNING: max output size exceeded, skipping output. ***\n\n70551216522,0.5558202029112612,-5.987443769354646,0.047722195312203446,-4.230952771859399,5.134077822568128,0.9353935731051563,0.0,0.5134819056226075,3.592559718236787,9.612495206457647,-6.492246405061397,0.5376839348175259,-6.79452066671596,-7.312336482010465,-15.066714435474013,-1.760451443230499,0.2646426291159665,-3.0709779194581075,-1.8671404912105585,1.5675909274380366,0.2779555825511537,-5.032040810831535,1.3931144404803157,-5.2850606743445985,0.9092786675572738,-1.8985922993425663,0.0999779418624863,1.8013778436139962,-2.7959243927944097,-2.3689669013375374,3.1777854451917156,-7.079133744759516,-0.5314054432352889,1.7927347405380065,-1.7197245535688837,-6.233224235855609,-4.855822221181805,-5.019237778280937,-0.44996929364515703,-2.6637152844199306,-7.427572300519588,13.862878067902098,-7.01883635570846,1.7395136607089883,-3.0324537839782493,-1.9373452465734629,-2.4865854746204765,-3.3090751014282804,12.621145586048303,-1.8832321327592687,8.695536436043648,4.307299770926159,0.7802456219042069,11.12176987946566,0.283546817649572,2.32010187003497,6.1416894237383906,1.0098578637025315,-1.1789374694279064,0.5972714271260883,-1.1309613568548427,0.2094090834875735,-6.666722831914768,0.008318402134947672,-1.5806933696037782,-4.9809558709045865,7.665930875676823,0.3060072632626533,-3.887107564660198,-6.827079150085671,3.040982402492058,4.9236881639138,-6.718168678006656,-9.92110510212191,-4.032374797702879,2.5288468833501008,3.648256674246337,1.4168951356030102,3.842000947610385,-0.6905821675129787,1.256856802219939,6.8619527354519345,-2.951615325335662,5.108329579108912,1.3366600755813032,2.2365551708872102,3.915842492517633,1.8493197410678075,-0.7405379298314804,2.2714706539949927,0.22690869587198376,1.2137852925690462,0.0,-0.4379669958665517,17.599731210102316,2.858896182573304,0.0,-2.391510277784179,-1.5321051787621875,3.5947380136054874,2.6262585428878062,0.7215197242677867,10.036643234464398,5.361107906871465,2.5302789341152248,-2.3947539559735787,-2.4298704942489864,-8.173486762562396,-14.030066990209615,-0.04393473564006133,-14.470044359586153,-7.040018367973155,2.3782438568543163,-5.530746662302124,-3.2693590812426265,-0.376624557900334,11.28799472283908,1.3475937614161524,-4.256195910329569,2.5701389641944536,1.4570933904300445,3.1845294201298806,8.095247609246258,-10.487164503274613,4.5617683544168255,-8.069005009718214,1.302050942564528,4.109189414978555,-3.3748128321544355,1.0227485224556212,5.4162062011412155,2.8265047007808897,4.835745126150375,0.4833181869023779,1.948275717937095,-1.7729909258583543,1.2640116138016522,-2.140230581305808,2.4037408101765076,5.435267693865556,2.707430024376363,0.9447435316149987,1.3917495768648631,8.07869066666661,4.201601078823426,-1.7865959744450053,3.148929891068885,0.0,-2.2318790765319414,1.040349960579867,2.50202883101415,2.98582810938762,5.290726792148387,1.0283785299290957,0.11427929579906813,0.20686647279625375,1.0435424522269774,2.5640223139404337,-1.2748548858742763,-2.5036820287636843,7.631839160022451,0.2713468776608786,-2.2068430960194543,0.806707142517609,-1.6561711176811924,1.0654753778739032,-6.699728694131972,-2.837326710874552,2.4986966172899976,7.891787174675029,4.8749200116943765,9.95902958244472,4.647560246233229,-5.789517431011553,3.28694542506204,1.4841631912203266,-1.8245101738685694,0.0,-3.0486811310688413,-4.3930366017275215,-2.766885373907051,-0.6169831829192453,4.160160037308155,5.75778351996556,-3.8845833050173453,6.376913135203926,-18.80163534962416,-3.3313452987181944,0.2507124652397263,-3.3929472705191337,2.3875385520344303,-1.775075369771945,6.620662041378084,9.613549682767031,5.498634466532336,-1.419253716673868,-4.259772283803142,-1.1147233717170026,1.6517619439756663,2.071279686739935,-0.2778205366977636,1.1583200102319189,-0.21332336289595225,6.606879989804529,-0.9623336358345398,-0.9766237820268374,-4.664872702625854,-2.156805368443462,-1.5114698628648737,-4.197811848003134,2.492626612011856,5.285812226736976,1.7901516404662032,-4.119048251604809,-0.5441879101847674,3.207245312565257,3.4410972285765897,4.230391857444509,3.718659451419375,12.124573095256926,-1.519757748515942,-4.973646786858591,-5.8642220956079765,-1.8988382134989101,-10.935759521625812,6.7137512561191395,-2.949754319667292,-7.064332507257913,3.2774188843605487,0.9833542856307693,3.0793696066312117,-4.706878892660649,-1.5354214289235448,-2.656329200425867,0.22282962288983965,-3.247165499143414,-4.386119534365889,-2.3443036077226247,3.721448068548426,5.323232578602605,-4.440112193341282,0.7763258628606029,2.4590795833563304,3.1700419253480208,-6.753095589078012,-0.43417363722487745,-2.0805415892492842,1.1810960084112543,-10.306505730927931,1.3110441899669905,-3.0410272900364483,0.9048437102263123,-3.498191129947715,-1.2168758315307242,5.356931282655725,-2.05117081225103,4.9710347551874285,-0.9380219034006249,7.669495520515876,-2.8097349861554544,-11.468940975764193,1.1385261437101377,3.559237812266105,0.06825488119444717,-4.37846734526018,4.267104468390965,-6.350835561284837,5.726918356023888,1.0410694644971554,3.896259374851328,-5.131162581129717,-7.694831209515111,-0.9274040085272497,1.8072652741786535,2.2427741940170165,-0.3306716444611674,-2.2705157592158214,-0.7871534074943369,-0.6067326162137193,-1.347888889609283,6.3841418594877135,3.477362216588501,8.032937347024427,-0.008037137953436456,-0.4760855293076631,-7.795665338643584,2.862450843030179,-2.217958962117621,0.22499153260153945,-10.20777439483958,0.04567469950597075,-1.589845326970753,-1.3219026539097651,-0.6341045324604176,-0.8474581495994186,2.68613172390228,4.378034586824571,3.4626547046721985,-2.5783318008752283,2.972193850467154,2.1285695181065734,-7.6325232817181625,-1.1225935016140798,0.7036908178286768,-1.2739423711130555,-0.6775309798264076,-3.189341527048963,0.9998754226194793,2.140155968742281,8.218792877646113,-2.2581997091082653,-1.361375612320983,-4.09780676578571,2.73182866281003,0.5001106859564274,-2.2642618682876656,0.8163022210190624,2.464540153872196,-9.828316269329843,0.15752430524623925,8.691682021409347,-0.9691219546979225,0.1169708137357724,-2.6403277671521987,5.45963749223984,2.9377355808304793,2.24036782071976,3.1828887006510227,-5.706210320255718,-10.735185014806387,0.6465981615416037,-0.544574068100382,2.589711216235565,3.437164262401538,-0.2066514883617414,-6.467277959082419,0.44311882695212884,-0.06546451558553891,0.3526971064009427,0.10570847462233252,-0.9358454555179775,1.822218701875906,-3.55416627770819,-4.237862495981811,0.0,0.4115039316060278,-1.0951332257316266,4.2562979116157535,-2.770237646112124,2.4406031821765226,-1.7654479543864254,5.306767228309777,-3.215229902962806,-2.5539369314669007,2.6094623195001962,6.912879552951924,-1.5554365075717878,-4.329357830013416,-0.13556673405582118,6.639608271369705,-2.1677746942752556,-3.1255246820833062,-8.181189158002844,2.165286794425212,-5.6832253877553525,2.212852230827214,-9.449436049990451,-2.1674194155892597,6.065868333516442,2.488353831595723,-0.6518885685227015,3.661844969877833,1.6304567054374477,4.983871623869017,-3.5803763274516256,-4.306346712271557,-6.9706509580756935,-1.7887038865594895,-0.5431606366164897,0.0,6.682538201718227,3.146265560172094,-7.750698781513131,-12.930412621983562,2.313189357367599,4.423891352010498,-13.296300192135266,-0.5969019589289297,0.24272967797582495,32.978723774659706,0.013788415578237968,0.4704054771769972,-7.417089319540822,0.8467362300842078,4.378759892150856,-1.991484365655518,-6.286070049131713,8.65843378943591,-2.4367853863953592,-4.030029664486882,6.649044670325367,0.2936439763372103,2.9366271546102665,-1.8877575880921145,2.081143551403514,-2.032078678685715,4.46695431387883,0.32611714993143154,3.0226438174372743,-6.121079556062638,0.5507135750500322,6.794243664216911,0.6752137210390203,11.985818584153181,-1.004818552596764,-1.8530910386139177,-0.13985378491415779,3.235466896535522,-2.4524250094980875,2.6150080121444983,1.5265031364990933,0.43623741977551606,-7.162098800357433,-1.6161662682537177,-0.6903616419128376,0.8476607872899687,-3.644377007196133,-3.081128997417485,-0.4338372205749714,-2.6918676290077466,3.7497143081701765,-0.28491076390524234,-3.7736801485650107,-11.672256118213634,8.521254540470462,-2.6682443202294266,5.428126265564416,-0.6476617112110575,-6.347352055951451,-0.5297238802793038,4.7706155092854665,-3.5072727823999448,-1.2025570755210027,1.5732331180526138,-7.3729506111527945,-2.6464393584591663,1.0694226379938232,-11.254383151179686,1.7021391774036845,-6.610200471705299,0.3729722015334094,1.1822575760809269,6.053747865577402,-1.3337497175775659,6.258191202941112,-0.5231745122549027,-0.5050148255693093,-4.08863748046846,7.848639952989945,4.39221149437422,-1.1550758171186717,2.420815440424366,0.10075133436653023,-0.47544395031592357,-4.517046793124305,0.9872888068024626,-8.771016913248015,2.812842542313523,0.7820219468350899,-0.8777562945713717,2.374718643042828,2.739706534268916,0.012274460855578432,-7.328524954700304,0.540618200787302,-2.806338240613615,0.9521399068618467,-3.5177524515569476,0.6145230018065148,1.7415811528561254,4.624866758476934,-3.5966135601331857,-12.568075485700655,-2.7599580046174044,3.9892639807467405,-2.053111599588248,4.568196283018947,-10.251578606075887,0.15177257446382741,3.723307313225176,-0.8220681272473026,-1.8363085744064003,7.4587166446704,0.01762411762352473,-0.659245744288748,-2.258028727043986,6.640251014627308,-1.8180419035024162,6.8625196894075735,2.030276350342335,5.343740652734898,-9.987657937502696,4.640913207459273,1.5657442541713862,-3.1162833447056393,0.11238908869210466,0.5975522319462406,1.2746102767928746,1.8441988377967995,0.6373466711122516,1.0927757026901899,-1.9376831852326941,-2.0672197878519043,0.48113844503848596,-0.8658853427010392,4.131992226402539,3.6703700994981716,-1.597745636441865,4.382869897005295,-0.2492530121522575,-0.38516475983687876,-4.403363597489685,-7.623199110118733,-0.4648778716936989,-2.0690429379298454,-3.596881818368841,1.0688384409222917,-5.452909098833258,8.752051007422597,-1.1306281871811394,6.55809328309607,6.040095625418678,3.486030440717918,-7.516737082401368,5.221969436901941,-0.4367308136987648,3.206437359173148,-2.9291220064990418,-2.1860498365448744,9.795227239185493,1.3856652370488194,-1.2367962222678346,2.177214514989037,-1.9498434972839445,8.375408933009501,-2.8953367161698873,0.7610289757063597,1.4666563596679185,-4.464831900146853,-6.819028062771077,-1.9263159691211669,1.8049496048997955,5.242478741979109,-1.316298709284919,-6.623745587075054,1.7060772529507455,3.9727177153034745,1.2506911775620433,1.8871313232622438,5.816619212576509,-1.9656913355081456,1.1933228702847347,13.321237421522081,-0.9381720307253311,3.0115270247999724,1.7081113063460964,-0.8896655120826679,-12.657874670388972,-4.105000538388147,-5.490532707992086,-0.17351342783922696,20.40352962472362,2.705224314451883,-3.9833036575178973,16.10369070845788,3.071032101624783,0.15324430667687883,12.44260307883267,-1.4119033706937452,0.8188897988940731,1.1290994652766786,1.6379987538695768,2.931131821725611,4.902838361922435,-1.8865174223803491,3.825320070814194,5.623843669454419,5.941570264054416,0.9386463414966311,1.1304036153622519,-0.35939114533433986,-2.667525595825756,2.620830743473827,-3.281176954429921,-1.629509758050941,-5.180194338237751,5.308750913182194,0.8650556801744446,0.73816104191575,1.2912764058881931,1.0793580102873173,0.9802793574825263,-4.459863473237767,-2.7252142305982603,2.547375275134876,4.191790597553386,0.0,2.4066249398420605,0.5353890107551801,-2.6755377766611,1.3450771174732348,-2.8347672030308826,5.537877347351122,-2.6939879372039095,-12.166476411008707,-6.514537936474586,3.856214866502117,1.8564964751660877,-3.630199465817483,2.6625130935924135,0.0010510348968860621,-4.431766628418392,0.5756876129940284,-3.798986283688068,-4.887352168320211,-2.677661282034028,4.12470802212344,-1.8623057064470152,-0.9591072684308286,2.553949431674013,8.384405070849835,-3.4888018388202653,-5.352972876158704,1.1317906063059038,-0.6790599156405827,2.084045556962052,5.661027355424509,5.401187293496987,-0.7133346603877464,-4.676649019750954,-0.5475013578279577,-9.071117912811543,1.3026394205993763,-0.5625898744670919,0.6105462628212696,-6.098829498602058,-1.377403846782845,4.238414786782682,3.328108371245251,1.2529098740427922,3.9272822941781733,-1.9603147110062902,6.5913619874076295,-1.9388262477306857,2.6659206778821107,-1.8847070241204287,0.8218521854018188,4.070688864832073,5.16310896395444,-1.8530089948335398,1.706757957345893,-3.3544762533776686,2.591210377804517,10.485041948644865,-12.346380368047269,1.9677499746698257,3.948591201158963,-0.11573437501515871,0.43270102615614087,2.306188112564615,0.4800581868720475,1.1128346936294906,3.503928759076956,-9.458462369480353,0.5596424783680425,-4.014678762375601,7.727450392643625,5.277883984963852,5.6462130447140755,-1.2491424973831786,-5.820360638858401,-3.162546925818077,2.7228459283603277,0.0,1.6416961983726024,3.457329578395961,2.105891954634227,4.809152554413481,-9.041593514202232,0.7819895853596804,3.316208860280334,2.1795078058754678,5.1356256632690425,6.3385477973011195,-6.576696497856286,-2.7466304262815786,3.3738520316868397,2.062641236321535,4.394888310530468,-0.03298536392704944,-6.117823889839877,0.6465005840247297,-2.194055534681126,0.0,-0.21079433029287808,0.49315590818337923,3.117477183721988,-2.5449873552304463,0.0,-4.3249262501963495,-4.544552100000271,-4.178653283218531,-7.743520464781418,-0.21754217711810975,-0.8001671410801506,1.7023858665825975,7.88557877848387,-5.619869125910937,0.1638449867168044,0.6269903234856382,9.23978556546615,-7.23307884190102,0.0,4.54264321225005,-4.146415847568977,-2.944181380928966,-1.197534471875053,5.788240638712113,6.450005573017334,-0.6090153157796805,-5.504789508796312,1.9885666467629928,6.325672543245777,5.306690574312456,1.009424540809315,0.8564545664580994,5.24244485453111,1.826595149344443,-6.815616597483075,12.2430220258782,0.6182007152739802,4.242223271415264,-2.416595210062355,1.274894007553021,1.3559135212687328,-2.2835039786097746,8.69882653781918,-2.0535707144717317,-13.075207062272298,-0.6390598124603407,-3.0119807018017912,5.750888085169084,0.0,-5.490544478970809,-2.0063488264807603,26.15153497990636,1.6577442853848916,-1.0638663631957759,2.1391631846873373,-2.4583573313358698,-3.5176289586329186,-4.5463927897704,3.014307241760735,0.8844918197431761,3.739065555866795,9.014386266229707,-0.5674593279138758,9.046323814471126,-8.805792668783244,-1.604222548928373,-0.2017219139088046,-6.861285581399958,0.2766934090944493,1.7331119780734539,3.4483766837329792,0.04408703068391892,-3.1748577053690816,4.674558598493047,-1.7234665749731009,3.4379459010923763,13.210975173431894,7.355273470864708,-1.9009342877010313,-6.636652671425812,-1.095211208849589,-1.1546091256055198,3.9034672564417034,62.22428842343953,-2.5825574030454668,-7.856053690805012,0.4964448150109465,-1.6979159599559932,0.0,-3.485003852374402,5.854418823966744,3.261415013454357,-3.9184767901147017,-6.375486661136469,1.839409043044347,-1.8593223269296701,-2.0622775423451976,5.3267551920933744,2.805434446494267,1.643979602240346,4.7641680697389095,4.739098578684203,3.679521688587562,3.0872725678468167,10.269649842238893,-3.76205368003907,-3.2991994844552055,1.7979098448131312,6.007373051285667,-4.878987945472943,4.004782655143394,1.823810032323127,1.5745669702248533,1.2803754680963573,-5.003225199963199,3.0450954687868803,-3.085848411588233,-2.8690846862066866,3.118639612375468,6.34147603606349,-0.5603424394954344,5.975426965729622,9.480234607939048,-3.0405736702930115,-0.42009054557824427,1.7583258080130357,5.123908661521937,-1.3331463154588497,9.46937123197842,1.3205288290776913,-0.5794300902444931,3.166400340738574,-5.190432584517676,3.2564089542444346,3.896728360505732,-3.209368291253976,0.940836836643705,-2.8617244774296453,4.283941388246133,0.5656959452343646,3.0435490573454254,-3.983130797442153,-2.181460849569731,7.420400678555794,-0.04131707757953778,-1.9057003105409793,-2.356129256595074,-8.815784821172723,3.319129993314024,2.528111178529048,-1.3809253120970144,-0.15051591216236795,-0.34047300731950497,-0.004383841209502916,0.08963704229149629,0.4903496158193922,-3.5097636679579725,0.0,-1.2121297935177107,-7.620674280820383,-1.3997305470044712,4.26357458241813,-2.174345793434419,-5.594890725606192,1.433805550446003,-1.1256172286272637,-6.9255439272217325,11.68910525079572,7.037734402327682,-0.6716138378446974,0.38800508608786066,-3.672294630875331,-0.8370884837558648,17.05267959013123,-0.9702726453668679,1.8120522027867854,0.8136135379005863,2.817752751110301,7.839428121657272,1.5713644059159446,-0.46269441747664697,1.5303045830322601,9.595651764669638,-6.343130694651234,-1.2296958107615514,-0.1562043698618422,0.30494391295039913,2.631235151667138,1.1095593860811015,0.1713204599775796,0.6744573893205067,3.7222133682853262,0.762717927437894,0.6136152543638627,4.811918107186797,-1.0588093574615025,2.375638287819191,-7.691762291484527,0.9652557420754315,1.1583065541485136,0.3332182784177219,-2.6381023047690557,-3.575485655177892,0.03169404725780061,-0.1358513299915545,-1.6082415436651254,-4.690057052149115,-4.903461621635444,4.627989809079136,0.9252004125463564,1.2268264612817386,-4.959592923130865,-0.733861752589649,-8.743522856544425,1.4162358876084158,-5.779076250089119,-2.0515216554284765,-3.335746767869963,0.595397537170892,0.5545330601444692,-2.976518034762299,0.6281948364881924,-0.6993197288295017,-3.8034634384839254,5.049353048444538,0.983933665674975,0.21974797638579185,4.261993255648317,1.3107418080459237,6.828388581316292,-3.3494001205057855,0.8994389923321776,6.836668455988813,2.582182949653355,-38.16359720279826,0.5726050446975838,-3.3409424931665486,-1.1686599500678405,2.978662120197147,4.352820083059657,-4.0936617820764445,-6.200183792599486,3.0910661975650022,1.307479518444723,1.120707133719002,-6.993078485810127,-1.642905729518153,3.578312011412109,10.534500811913423,-1.9447059526489743,3.529031173804444,3.9763209960624417,-5.45186079699252,-2.602560754722685,0.7467329835199694,-0.7798010768600117,0.22112418152091257,-4.922629555819655,14.675371439224437,1.937790201938163,-0.8015314058864434,-1.2136449612981315,-13.009974292062907,-2.572724143808128,0.048115483708262186,-5.387766098669084,-3.4725947174501597,3.8037681847167253,0.9165662091249218,-3.4601176844507435,3.218275915931019,0.5844510279325338,-0.29675090564040807,0.9859753114670634,1.7619224011794752,0.0,2.827130896375016,0.15216522471738425,-3.979675018346372,-0.5960002759385535,-4.959441263573089,1.7329960891445142,-0.9060974001793203,14.738600822154638,-1.1758269757069688,-8.052500151330655,1.8118007111646104,1.8750082437139555,8.7724632431618,0.44665438251825623,14.187557858974795,3.4616354662209066,2.0745681241515475,1.1239411045470014,3.9431349733481587,3.7970059785625176,-2.9904343452096422,-0.7356091094379387,10.737087833445473,-8.541573236341959,-0.764557663441591,-4.484047102182905,-7.15013797130661,-1.5413442449952803,-7.150447555954086,-2.0853768349747117,2.846906378853672,3.603379964550391,-2.6872750905785034,2.5101476334674673,1.2136691095520693,0.0,4.281779063391528,-5.16792764911933,-1.333493992691094,-4.005269643219917,2.155179559524031,-1.7595879618155446,-8.340278496863863,-5.63911461788867,0.2907425938386831,2.744597499949815,2.9380699267340415,0.0040407568207899355,-2.036921567463693,-3.744656671484982,3.5553036570635226,-0.6276942488539535,1.7013837524695663,2.5745874294929427,-0.5509946193180666,2.001349231856432,-7.831664314036482,0.6707542666633525,4.888610434031903,4.334572864204179,2.5171172218885047,2.4838776514258805,13.924750649946679,8.393808343035014,-2.737253761097646,-2.9997290751504435,-1.5885669645718403,-2.0838187034241007,5.600695520898489,0.0018860727871125333,1.4158793055397128,1.8033884617453013,7.586289110202804,-1.9311211109099755,0.958229411575145,1.4433571098823677,-1.8052423987439243,-3.0719846556322787,1.7335546281273624,-0.23400627386858694,2.2095493668599118,2.056851793544702,0.5622304445013336,-1.0955609032256783,-2.490402598346483,0.0,-3.3842624573405047,6.748795279839763,-2.6537065782572355,-0.06447547724585814,-0.6769291155397179,2.597017590617401,-6.880185055889409,0.265978597838342,-3.7095827359522286,2.6816243242514957,-1.5846233306190272,1.7058920194121678,-1.7259559075780686,6.739702262602261,5.12254808537863,-6.405314195069773,3.7293938861273914,-1.5283332676371408,0.0,-2.956095491116884,5.758299215576706,8.27029842548034,5.5661258438131265,-4.111660155431462,7.498723843065377,-2.638662410012905,-1.971841367208381,7.941066136865686,0.23434424552158728,0.3517672522364848,3.27302055332109,1.3015624459327737,-4.237126150928368,-0.36852339327293887,-3.8042252136941963,-0.003949485530739892,1.636488209317501,-2.2716888440842133,9.259649731785517,3.1779699712624123,2.9758137257911117,0.8417586273331011,1.6839423575361707,-3.34377789262465,1.0957556202253016,6.177964766656724,-5.120041067951069,2.510524065339396,0.38073833523113376,2.5560877810355085,1.029900343585514,3.5586410218122704,-12.46034800419586,1.6318266199406402,0.06687775700040316,1.6540890542939293,3.3105969368264523,10.766900073575933,-0.3646595033527462,4.186314842116494,-8.404552939910218,-10.223358780396655,3.4004400143409703,-10.973188369955698,-6.409567775380412,12.133233998168311,-1.4462250109837245,-0.7336014195612788,1.0572576667491667,0.8138527238619256,1.2303979403835341,-1.249836801862617,-6.099638825246752,7.601377881426257,0.0,-1.3446008661663467,1.9997222668058925,-0.7010247014899711,1.9323161538083025,2.8219191594540796,9.275754285971392,-7.158416032732545,-26.05910935349446,-1.2945301124644748,0.574526336001951,4.635637622153539,-5.9883267260521675,-1.8904290019891477,-2.432683248788568,-4.260234994816886,3.3140084962432486,1.7499907633557519,0.38051159335816226,0.41492111798109177,1.3109426434191738,-0.16498557176784753,-2.600179030672465,8.078980767761124,8.26065747948497,0.0,2.566701310642249,-6.629670053500656,4.862289745349305,-2.640078507319358,5.288012131178849,2.2811736831874163,-0.345281545834855,5.388426307725245,-3.0468471283048832,-1.7828918216212082,0.010125247748638103,-2.3542897264585374,-2.988834120531577,-2.3568926430669737,2.0730682262082527,-3.5951684015224004,2.305018518063756,-0.05142594632256697,-1.6721122536418949,-3.7546815423786044,-5.951110788156212,0.3069018726139437,-1.487102571522718,-7.425509713376795,-0.07038361912146152,2.009067261629479,1.8632495234915492,-3.8284525594284657,-2.990841740334241,-1.5055267025656294,1.60258429514999,5.680536512209741,-0.6986931294770167,-5.19290847751143,2.8051738335822383,11.655653355675865,2.951224998420244,0.08664426347934527,-1.4153535152354417,1.3485864507271688,-0.6082067399166412,10.29692811429945,-4.826666669974032,3.4217356984902105,0.27445801504383793,-2.075775583280457,0.2861133848208965,-0.6173449010484314,1.2374661626076995,-4.237349122647662,-1.619731538298017,-0.5560258297640208,-3.1672885377109017,2.357888638165978,-23.152358930491875,-17.709500018303302,6.258879843232726,-2.4582537093362666,-2.26985494562723,2.1833224488289775,0.3191766544301856,-1.930321970128628,-1.7650435570079641,-3.658443387809386,-15.342388036750021,-5.942285169139285,-0.7375793774355993,7.31015136146053,-4.8500279825207695,-1.7569288310374584,0.6117544565292916,-0.7529685632076926,-0.08062260032767557,6.327877972526681,-4.097490977030997,2.8059237416704756,-1.5775435430775957,4.6805335104376935,-1.7483635779613602,-0.6487379992990301,1.1803619884348173,3.4290304580938136,3.613784574169509,9.21709123698395,2.3640712432487745,12.053675510306052,1.1263744318170317,-1.5911065956686519,0.3571663652011518,0.16276328156075479,-3.183027868871444,6.701625836900886,-3.942245042577901,-0.66078377662922,0.9835858584410677,6.046904180771765,6.897916946648031,-2.8969783190542726,0.02441263700145929,2.9085801464746854,-2.6867614764454744,-0.02649418610682102,1.518227517801546,-4.802680330169165,5.276829318394965,0.0,3.7848382062389847,-3.0332043593696927,-6.421546581908852,0.3626378442733271,-0.23526608104714752,-1.0838513313281675,-3.327732481763637,-6.859493410349384,4.194546260029585,-0.8633911737286951,2.030586993730197,5.4123733916517685,24.055088836459518,0.5630650990945731,0.2437865902263069,-5.824452043290615,0.16419469636973524,1.4103431946414062,0.72936194862424,-2.4909180670341815,-8.444119226526363,10.627448311560753,-0.2489987963710898,-6.001549100115124,-4.158401683052697,-5.780389351428122,-3.732574495518781,0.6582865003222872,6.7772042683214915,-0.8591381085691537,-1.9583583926989656,-3.089306763138785,-1.3842207085826033,3.3990114701040244,0.8520614510686282,-9.008505113698336,0.0,-1.1480993254016671,-2.3451551123983374,-0.8664161316459328,-5.239727262066554,-11.262016419239373,4.517286819046028,-4.594995322392234,-2.655065574175627,98.59570763478773,-0.004738707599383505,32.98315622797011,9.003101316609587,41.43376162032391,-0.0018779222683789397,0.00893570986451319,0.005409865684872062,0.005409865684872062,-0.0001586777441985629]\nIntercept:  -284.66316900435936\n"
     ]
    }
   ],
   "source": [
    "# Show the model coefficients and intercept\n",
    "lr_model = model.stages[-1]\n",
    "coefficients = lr_model.coefficients\n",
    "intercept = lr_model.intercept\n",
    "\n",
    "print(\"Coefficients: \", coefficients)\n",
    "print(\"Intercept: \", intercept)"
   ]
  },
  {
   "cell_type": "code",
   "execution_count": 0,
   "metadata": {
    "application/vnd.databricks.v1+cell": {
     "cellMetadata": {
      "byteLimit": 2048000,
      "rowLimit": 10000
     },
     "inputWidgets": {},
     "nuid": "cf4d2fe4-6e73-4d74-b23b-efdf6d9df6c6",
     "showTitle": false,
     "title": ""
    }
   },
   "outputs": [],
   "source": [
    "# Testing the model on the testData\n",
    "predictions = model.transform(testData)\n",
    "\n",
    "# Writing Transformed Data To Trusted Folder\n",
    "#predictions.write.mode(\"overwrite\").parquet(\"s3a://yelp-reviews-jb/trusted/predictions.parquet\")"
   ]
  },
  {
   "cell_type": "code",
   "execution_count": 0,
   "metadata": {
    "application/vnd.databricks.v1+cell": {
     "cellMetadata": {
      "byteLimit": 2048000,
      "rowLimit": 10000
     },
     "inputWidgets": {},
     "nuid": "36c2af47-ed0a-4e3d-bb4b-e1919f45d7a2",
     "showTitle": true,
     "title": "Binary Classification Model Evaluation"
    },
    "jupyter": {
     "source_hidden": true
    }
   },
   "outputs": [],
   "source": []
  },
  {
   "cell_type": "code",
   "execution_count": 0,
   "metadata": {
    "application/vnd.databricks.v1+cell": {
     "cellMetadata": {
      "byteLimit": 2048000,
      "rowLimit": 10000
     },
     "inputWidgets": {},
     "nuid": "af2b5d2f-7444-46de-9fbb-527dc354fc73",
     "showTitle": false,
     "title": ""
    }
   },
   "outputs": [
    {
     "output_type": "stream",
     "name": "stdout",
     "output_type": "stream",
     "text": [
      "AUC: 0.8826827362615657\n"
     ]
    }
   ],
   "source": [
    "# Create a BinaryClassificationEvaluator to evaluate how well the model works\n",
    "evaluator = BinaryClassificationEvaluator(metricName=\"areaUnderROC\")\n",
    "# Calculate AUC\n",
    "auc = evaluator.evaluate(predictions)\n",
    "print(f\"AUC: {auc}\")"
   ]
  },
  {
   "cell_type": "code",
   "execution_count": 0,
   "metadata": {
    "application/vnd.databricks.v1+cell": {
     "cellMetadata": {
      "byteLimit": 2048000,
      "rowLimit": 10000
     },
     "inputWidgets": {},
     "nuid": "f2864bec-89bd-4075-9ac5-25e0e617fea4",
     "showTitle": true,
     "title": "Confusion Matrix & Model Metrics"
    },
    "jupyter": {
     "source_hidden": true
    }
   },
   "outputs": [],
   "source": []
  },
  {
   "cell_type": "code",
   "execution_count": 0,
   "metadata": {
    "application/vnd.databricks.v1+cell": {
     "cellMetadata": {
      "byteLimit": 2048000,
      "rowLimit": 10000
     },
     "inputWidgets": {},
     "nuid": "f04c971d-f7b0-47ac-81d5-08874131a688",
     "showTitle": false,
     "title": ""
    }
   },
   "outputs": [
    {
     "output_type": "stream",
     "name": "stdout",
     "output_type": "stream",
     "text": [
      "+-----+----+----+\n|label| 0.0| 1.0|\n+-----+----+----+\n|  0.0|1240| 470|\n|  1.0| 592|4767|\n+-----+----+----+\n\nAccuracy, Precision, Recall, F1 Score\n(0.849766586504456, 0.9102539621920948, 0.8895316290352677, 0.8997734994337485)\n"
     ]
    }
   ],
   "source": [
    "# Create the confusion matrix\n",
    "predictions.groupby('label').pivot('prediction').count().fillna(0).show()\n",
    "cm = predictions.groupby('label').pivot('prediction').count().fillna(0).collect()\n",
    "\n",
    "def calculate_recall_precision(cm):\n",
    "    tn = cm[0][1]                # True Negative\n",
    "    fp = cm[0][2]                # False Positive\n",
    "    fn = cm[1][1]                # False Negative\n",
    "    tp = cm[1][2]                # True Positive\n",
    "    precision = tp / ( tp + fp )            \n",
    "    recall = tp / ( tp + fn )\n",
    "    accuracy = ( tp + tn ) / ( tp + tn + fp + fn )\n",
    "    f1_score = 2 * ( ( precision * recall ) / ( precision + recall ) )\n",
    "    return accuracy, precision, recall, f1_score\n",
    "\n",
    "print(\"Accuracy, Precision, Recall, F1 Score\")\n",
    "print( calculate_recall_precision(cm))"
   ]
  },
  {
   "cell_type": "code",
   "execution_count": 0,
   "metadata": {
    "application/vnd.databricks.v1+cell": {
     "cellMetadata": {
      "byteLimit": 2048000,
      "rowLimit": 10000
     },
     "inputWidgets": {},
     "nuid": "41680be0-d279-46c6-9fd3-9b9156626e3c",
     "showTitle": true,
     "title": "Receiving Operating Characteristic (ROC) Curve"
    },
    "jupyter": {
     "source_hidden": true
    }
   },
   "outputs": [],
   "source": []
  },
  {
   "cell_type": "code",
   "execution_count": 0,
   "metadata": {
    "application/vnd.databricks.v1+cell": {
     "cellMetadata": {
      "byteLimit": 2048000,
      "rowLimit": 10000
     },
     "inputWidgets": {},
     "nuid": "f23bf3e1-c2ae-4cfc-b439-5de842b36773",
     "showTitle": false,
     "title": ""
    }
   },
   "outputs": [
    {
     "output_type": "stream",
     "name": "stderr",
     "output_type": "stream",
     "text": [
      "/databricks/spark/python/pyspark/sql/pandas/conversion.py:122: UserWarning: toPandas attempted Arrow optimization because 'spark.sql.execution.arrow.pyspark.enabled' is set to true; however, failed by the reason below:\n  Unable to convert the field probability. If this column is not necessary, you may consider dropping it or converting to primitive type before the conversion.\nDirect cause: Unsupported type in conversion to Arrow: VectorUDT()\nAttempting non-optimization as 'spark.sql.execution.arrow.pyspark.fallback.enabled' is set to true.\n  warn(msg)\n"
     ]
    }
   ],
   "source": [
    "import seaborn as sns\n",
    "import io\n",
    "import matplotlib.pyplot as plt\n",
    "import s3fs  # Import the s3fs library\n",
    "from sklearn.metrics import roc_curve, auc\n",
    "\n",
    "# Extract probability values from DenseVector\n",
    "y_scores = predictions.select(\"probability\").toPandas()['probability'].apply(lambda x: x[1])\n",
    "\n",
    "# Assuming 'label' is your true labels\n",
    "y_true = predictions.select(\"label\").toPandas()\n",
    "\n",
    "fpr, tpr, _ = roc_curve(y_true, y_scores)\n",
    "roc_auc = auc(fpr, tpr)\n",
    "\n",
    "plt.plot(fpr, tpr, label='ROC curve (area = {:.2f})'.format(roc_auc))\n",
    "plt.plot([0, 1], [0, 1], 'k--')\n",
    "plt.xlabel('False Positive Rate')\n",
    "plt.ylabel('True Positive Rate')\n",
    "plt.legend(loc='best')\n",
    "\n",
    "# Create a BytesIO object to save the plot\n",
    "img_data = io.BytesIO()\n",
    "plt.savefig(img_data, format='png', bbox_inches='tight')\n",
    "plt.close()  # Close the plot to avoid displaying it\n",
    "\n",
    "# Connect to the s3fs file system \n",
    "s3 = s3fs.S3FileSystem(anon=False)\n",
    "\n",
    "# Open the file for writing\n",
    "with s3.open('s3://yelp-reviews-jb/my_plot.png', 'wb') as f:\n",
    "    f.write(img_data.getbuffer())"
   ]
  },
  {
   "cell_type": "code",
   "execution_count": 0,
   "metadata": {
    "application/vnd.databricks.v1+cell": {
     "cellMetadata": {
      "byteLimit": 2048000,
      "rowLimit": 10000
     },
     "inputWidgets": {},
     "nuid": "3d1191d6-7de8-4d1f-a13f-739f76cce175",
     "showTitle": true,
     "title": "Precision-Recall Curve"
    },
    "jupyter": {
     "source_hidden": true
    }
   },
   "outputs": [],
   "source": []
  },
  {
   "cell_type": "code",
   "execution_count": 0,
   "metadata": {
    "application/vnd.databricks.v1+cell": {
     "cellMetadata": {
      "byteLimit": 2048000,
      "rowLimit": 10000
     },
     "inputWidgets": {},
     "nuid": "f072acfa-8471-450b-88bb-056b7193f4af",
     "showTitle": false,
     "title": ""
    }
   },
   "outputs": [
    {
     "output_type": "stream",
     "name": "stderr",
     "output_type": "stream",
     "text": [
      "/databricks/spark/python/pyspark/sql/pandas/conversion.py:122: UserWarning: toPandas attempted Arrow optimization because 'spark.sql.execution.arrow.pyspark.enabled' is set to true; however, failed by the reason below:\n  Unable to convert the field probability. If this column is not necessary, you may consider dropping it or converting to primitive type before the conversion.\nDirect cause: Unsupported type in conversion to Arrow: VectorUDT()\nAttempting non-optimization as 'spark.sql.execution.arrow.pyspark.fallback.enabled' is set to true.\n  warn(msg)\n"
     ]
    },
    {
     "output_type": "display_data",
     "data": {
      "image/png": "[encoded data removed]"
     },
     "metadata": {
      "application/vnd.databricks.v1+output": {
       "addedWidgets": {},
       "arguments": {},
       "data": "data:image/png;base64,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\n",
       "datasetInfos": [],
       "metadata": {},
       "removedWidgets": [],
       "type": "image"
      }
     },
     "output_type": "display_data"
    }
   ],
   "source": [
    "import matplotlib.pyplot as plt\n",
    "from sklearn.metrics import precision_recall_curve\n",
    "from pyspark.sql import SparkSession\n",
    "from pyspark.sql.functions import col\n",
    "\n",
    "# 'label' is your true labels\n",
    "y_true = predictions.select(\"label\").toPandas()\n",
    "\n",
    "# Extract probability values from DenseVector\n",
    "y_scores = predictions.select(\"probability\").toPandas()['probability'].apply(lambda x: x[1])\n",
    "\n",
    "# Calculate precision and recall\n",
    "precision, recall, _ = precision_recall_curve(y_true, y_scores)\n",
    "\n",
    "# Plot the precision-recall curve\n",
    "plt.figure(figsize=(8, 6))\n",
    "plt.plot(recall, precision, color='blue', lw=2, label='Precision-Recall Curve')\n",
    "plt.xlabel('Recall')\n",
    "plt.ylabel('Precision')\n",
    "plt.title('Precision-Recall Curve')\n",
    "plt.xlim([0.0, 1.0])\n",
    "plt.ylim([0.0, 1.0])\n",
    "plt.grid(True)\n",
    "plt.legend(loc='best')\n",
    "plt.show()\n",
    "\n",
    "# Create a BytesIO object for the new plot\n",
    "img_data2 = io.BytesIO()\n",
    "plt.savefig(img_data2, format='png', bbox_inches='tight')\n",
    "plt.close()  # Close the plot to avoid displaying it\n",
    "\n",
    "# Connect to the s3fs file system \n",
    "s3 = s3fs.S3FileSystem(anon=False)\n",
    "\n",
    "# Open the file for writing with a different name\n",
    "with s3.open('s3://yelp-reviews-jb/my_plot_new.png', 'wb') as f:\n",
    "    f.write(img_data2.getbuffer())"
   ]
  },
  {
   "cell_type": "code",
   "execution_count": 0,
   "metadata": {
    "application/vnd.databricks.v1+cell": {
     "cellMetadata": {},
     "inputWidgets": {},
     "nuid": "89c9471c-40a1-4c38-8c62-8c30a03edbea",
     "showTitle": false,
     "title": ""
    }
   },
   "outputs": [],
   "source": []
  }
 ],
 "metadata": {
  "application/vnd.databricks.v1+notebook": {
   "dashboards": [],
   "language": "python",
   "notebookMetadata": {
    "pythonIndentUnit": 4
   },
   "notebookName": "Feature Engineering, Modeling, and Visualizations - Yelp Analysis",
   "widgets": {}
  }
 },
 "nbformat": 4,
 "nbformat_minor": 0
}
