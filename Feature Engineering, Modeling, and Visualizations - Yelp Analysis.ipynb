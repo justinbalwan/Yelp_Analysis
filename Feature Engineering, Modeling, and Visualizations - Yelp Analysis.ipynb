{
 "cells": [
  {
   "cell_type": "code",
   "execution_count": 0,
   "metadata": {
    "application/vnd.databricks.v1+cell": {
     "cellMetadata": {
      "byteLimit": 2048000,
      "rowLimit": 10000
     },
     "inputWidgets": {},
     "nuid": "f44c05ba-2a0d-4e38-877f-55ec9769dc67",
     "showTitle": true,
     "title": "Feature Engineering"
    },
    "jupyter": {
     "source_hidden": true
    }
   },
   "outputs": [],
   "source": []
  },
  {
   "cell_type": "code",
   "execution_count": 0,
   "metadata": {
    "application/vnd.databricks.v1+cell": {
     "cellMetadata": {
      "byteLimit": 2048000,
      "rowLimit": 10000
     },
     "inputWidgets": {},
     "nuid": "4c16e566-b8d7-462b-8ebd-c15189341f21",
     "showTitle": false,
     "title": ""
    }
   },
   "outputs": [
    {
     "output_type": "stream",
     "name": "stdout",
     "output_type": "stream",
     "text": [
      "Python interpreter will be restarted.\nCollecting textblob\n  Downloading textblob-0.17.1-py2.py3-none-any.whl (636 kB)\nCollecting nltk>=3.1\n  Downloading nltk-3.8.1-py3-none-any.whl (1.5 MB)\nCollecting tqdm\n  Downloading tqdm-4.66.1-py3-none-any.whl (78 kB)\nRequirement already satisfied: click in /databricks/python3/lib/python3.9/site-packages (from nltk>=3.1->textblob) (8.0.4)\nCollecting regex>=2021.8.3\n  Downloading regex-2023.10.3-cp39-cp39-manylinux_2_17_x86_64.manylinux2014_x86_64.whl (773 kB)\nRequirement already satisfied: joblib in /databricks/python3/lib/python3.9/site-packages (from nltk>=3.1->textblob) (1.1.1)\nInstalling collected packages: tqdm, regex, nltk, textblob\nSuccessfully installed nltk-3.8.1 regex-2023.10.3 textblob-0.17.1 tqdm-4.66.1\nPython interpreter will be restarted.\n"
     ]
    }
   ],
   "source": [
    "pip install textblob"
   ]
  },
  {
   "cell_type": "code",
   "execution_count": 0,
   "metadata": {
    "application/vnd.databricks.v1+cell": {
     "cellMetadata": {
      "byteLimit": 2048000,
      "rowLimit": 10000
     },
     "inputWidgets": {},
     "nuid": "d79706fc-11d1-4c83-abc9-ff5d1c759b6e",
     "showTitle": false,
     "title": ""
    }
   },
   "outputs": [
    {
     "output_type": "stream",
     "name": "stdout",
     "output_type": "stream",
     "text": [
      "Python interpreter will be restarted.\nCollecting wordcloud\n  Downloading wordcloud-1.9.3-cp39-cp39-manylinux_2_17_x86_64.manylinux2014_x86_64.whl (513 kB)\nRequirement already satisfied: matplotlib in /databricks/python3/lib/python3.9/site-packages (from wordcloud) (3.5.1)\nRequirement already satisfied: pillow in /databricks/python3/lib/python3.9/site-packages (from wordcloud) (9.0.1)\nRequirement already satisfied: numpy>=1.6.1 in /databricks/python3/lib/python3.9/site-packages (from wordcloud) (1.21.5)\nRequirement already satisfied: packaging>=20.0 in /databricks/python3/lib/python3.9/site-packages (from matplotlib->wordcloud) (21.3)\nRequirement already satisfied: python-dateutil>=2.7 in /databricks/python3/lib/python3.9/site-packages (from matplotlib->wordcloud) (2.8.2)\nRequirement already satisfied: fonttools>=4.22.0 in /databricks/python3/lib/python3.9/site-packages (from matplotlib->wordcloud) (4.25.0)\nRequirement already satisfied: kiwisolver>=1.0.1 in /databricks/python3/lib/python3.9/site-packages (from matplotlib->wordcloud) (1.3.2)\nRequirement already satisfied: pyparsing>=2.2.1 in /databricks/python3/lib/python3.9/site-packages (from matplotlib->wordcloud) (3.0.4)\nRequirement already satisfied: cycler>=0.10 in /databricks/python3/lib/python3.9/site-packages (from matplotlib->wordcloud) (0.11.0)\nRequirement already satisfied: six>=1.5 in /databricks/python3/lib/python3.9/site-packages (from python-dateutil>=2.7->matplotlib->wordcloud) (1.16.0)\nInstalling collected packages: wordcloud\nSuccessfully installed wordcloud-1.9.3\nPython interpreter will be restarted.\n"
     ]
    }
   ],
   "source": [
    "pip install wordcloud"
   ]
  },
  {
   "cell_type": "code",
   "execution_count": 0,
   "metadata": {
    "application/vnd.databricks.v1+cell": {
     "cellMetadata": {
      "byteLimit": 2048000,
      "rowLimit": 10000
     },
     "inputWidgets": {},
     "nuid": "9bda06f7-3179-46f6-a622-2351f5f65367",
     "showTitle": false,
     "title": ""
    }
   },
   "outputs": [
    {
     "output_type": "stream",
     "name": "stdout",
     "output_type": "stream",
     "text": [
      "Python interpreter will be restarted.\nCollecting s3fs\n  Downloading s3fs-2023.12.2-py3-none-any.whl (28 kB)\nCollecting aiobotocore<3.0.0,>=2.5.4\n  Downloading aiobotocore-2.9.0-py3-none-any.whl (75 kB)\nCollecting aiohttp!=4.0.0a0,!=4.0.0a1\n  Downloading aiohttp-3.9.1-cp39-cp39-manylinux_2_17_x86_64.manylinux2014_x86_64.whl (1.2 MB)\nCollecting fsspec==2023.12.2\n  Downloading fsspec-2023.12.2-py3-none-any.whl (168 kB)\nCollecting wrapt<2.0.0,>=1.10.10\n  Downloading wrapt-1.16.0-cp39-cp39-manylinux_2_5_x86_64.manylinux1_x86_64.manylinux_2_17_x86_64.manylinux2014_x86_64.whl (80 kB)\nCollecting botocore<1.33.14,>=1.33.2\n  Downloading botocore-1.33.13-py3-none-any.whl (11.8 MB)\nCollecting aioitertools<1.0.0,>=0.5.1\n  Downloading aioitertools-0.11.0-py3-none-any.whl (23 kB)\nCollecting frozenlist>=1.1.1\n  Downloading frozenlist-1.4.1-cp39-cp39-manylinux_2_5_x86_64.manylinux1_x86_64.manylinux_2_17_x86_64.manylinux2014_x86_64.whl (240 kB)\nCollecting yarl<2.0,>=1.0\n  Downloading yarl-1.9.4-cp39-cp39-manylinux_2_17_x86_64.manylinux2014_x86_64.whl (304 kB)\nCollecting async-timeout<5.0,>=4.0\n  Downloading async_timeout-4.0.3-py3-none-any.whl (5.7 kB)\nCollecting aiosignal>=1.1.2\n  Downloading aiosignal-1.3.1-py3-none-any.whl (7.6 kB)\nCollecting multidict<7.0,>=4.5\n  Downloading multidict-6.0.4-cp39-cp39-manylinux_2_17_x86_64.manylinux2014_x86_64.whl (114 kB)\nRequirement already satisfied: attrs>=17.3.0 in /databricks/python3/lib/python3.9/site-packages (from aiohttp!=4.0.0a0,!=4.0.0a1->s3fs) (21.4.0)\nRequirement already satisfied: typing_extensions>=4.0 in /databricks/python3/lib/python3.9/site-packages (from aioitertools<1.0.0,>=0.5.1->aiobotocore<3.0.0,>=2.5.4->s3fs) (4.1.1)\nRequirement already satisfied: python-dateutil<3.0.0,>=2.1 in /databricks/python3/lib/python3.9/site-packages (from botocore<1.33.14,>=1.33.2->aiobotocore<3.0.0,>=2.5.4->s3fs) (2.8.2)\nRequirement already satisfied: urllib3<1.27,>=1.25.4 in /databricks/python3/lib/python3.9/site-packages (from botocore<1.33.14,>=1.33.2->aiobotocore<3.0.0,>=2.5.4->s3fs) (1.26.9)\nRequirement already satisfied: jmespath<2.0.0,>=0.7.1 in /databricks/python3/lib/python3.9/site-packages (from botocore<1.33.14,>=1.33.2->aiobotocore<3.0.0,>=2.5.4->s3fs) (0.10.0)\nRequirement already satisfied: six>=1.5 in /databricks/python3/lib/python3.9/site-packages (from python-dateutil<3.0.0,>=2.1->botocore<1.33.14,>=1.33.2->aiobotocore<3.0.0,>=2.5.4->s3fs) (1.16.0)\nRequirement already satisfied: idna>=2.0 in /databricks/python3/lib/python3.9/site-packages (from yarl<2.0,>=1.0->aiohttp!=4.0.0a0,!=4.0.0a1->s3fs) (3.3)\nInstalling collected packages: multidict, frozenlist, yarl, async-timeout, aiosignal, wrapt, botocore, aioitertools, aiohttp, fsspec, aiobotocore, s3fs\n  Attempting uninstall: botocore\n    Found existing installation: botocore 1.24.32\n    Not uninstalling botocore at /databricks/python3/lib/python3.9/site-packages, outside environment /local_disk0/.ephemeral_nfs/envs/pythonEnv-3bc01804-67a8-459c-bc53-1e7ded8a894f\n    Can't uninstall 'botocore'. No files were found to uninstall.\nERROR: pip's dependency resolver does not currently take into account all the packages that are installed. This behaviour is the source of the following dependency conflicts.\nboto3 1.21.32 requires botocore<1.25.0,>=1.24.32, but you have botocore 1.33.13 which is incompatible.\nSuccessfully installed aiobotocore-2.9.0 aiohttp-3.9.1 aioitertools-0.11.0 aiosignal-1.3.1 async-timeout-4.0.3 botocore-1.33.13 frozenlist-1.4.1 fsspec-2023.12.2 multidict-6.0.4 s3fs-2023.12.2 wrapt-1.16.0 yarl-1.9.4\nPython interpreter will be restarted.\n"
     ]
    }
   ],
   "source": [
    "pip install s3fs"
   ]
  },
  {
   "cell_type": "code",
   "execution_count": 0,
   "metadata": {
    "application/vnd.databricks.v1+cell": {
     "cellMetadata": {
      "byteLimit": 2048000,
      "rowLimit": 10000
     },
     "inputWidgets": {},
     "nuid": "728e5f0f-43c7-4175-86f0-d0228900fed6",
     "showTitle": false,
     "title": ""
    }
   },
   "outputs": [],
   "source": [
    "import os\n",
    "# To work with Amazon S3 storage, set the following variables using your AWS Access Key and Secret Key\n",
    "# Set the Region to where your files are stored in S3.\n",
    "# access_key =\n",
    "# secret_key =\n",
    "# Set the environment variables so boto3 can pick them up later\n",
    "os.environ['AWS_ACCESS_KEY_ID'] = access_key\n",
    "os.environ['AWS_SECRET_ACCESS_KEY'] = secret_key\n",
    "encoded_secret_key = secret_key.replace(\"/\", \"%2F\")\n",
    "aws_region = \"us-east-2\"\n",
    "# Update the Spark options to work with our AWS Credentials\n",
    "sc._jsc.hadoopConfiguration().set(\"fs.s3a.access.key\", access_key)\n",
    "sc._jsc.hadoopConfiguration().set(\"fs.s3a.secret.key\", secret_key)\n",
    "sc._jsc.hadoopConfiguration().set(\"fs.s3a.endpoint\", \"s3.\" + aws_region +\n",
    "\".amazonaws.com\")"
   ]
  },
  {
   "cell_type": "code",
   "execution_count": 0,
   "metadata": {
    "application/vnd.databricks.v1+cell": {
     "cellMetadata": {
      "byteLimit": 2048000,
      "rowLimit": 10000
     },
     "inputWidgets": {},
     "nuid": "8547e439-dfba-4dc8-aa22-67e3af7f3481",
     "showTitle": false,
     "title": ""
    }
   },
   "outputs": [],
   "source": [
    "# Reading From Raw Folder\n",
    "yelp_parquet = 's3a://yelp-reviews-jb/raw/yelp_dataset.parquet/'\n",
    "yelp_sdf2 = spark.read.parquet(yelp_parquet)"
   ]
  },
  {
   "cell_type": "code",
   "execution_count": 0,
   "metadata": {
    "application/vnd.databricks.v1+cell": {
     "cellMetadata": {
      "byteLimit": 2048000,
      "rowLimit": 10000
     },
     "inputWidgets": {},
     "nuid": "dd007c93-5720-47e2-9f0f-220f204f6f24",
     "showTitle": false,
     "title": ""
    }
   },
   "outputs": [],
   "source": [
    "columns_to_drop = ['cool',  'date',  'funny',  'review_id', 'useful',  'business_address',  'business_categories', 'hours',\n",
    "  'business_name',  'user_compliment_cute',  'user_compliment_hot', 'user_compliment_list', 'user_compliment_more',\n",
    " 'user_compliment_note',  'user_compliment_photos',  'user_compliment_plain',  'user_compliment_profile',  'user_compliment_writer',  'user_cool',\n",
    " 'user_elite',    'user_friends',  'user_funny',  'user_name', 'user_yelping_since' ]\n",
    "\n",
    "yelp_sdf2 = yelp_sdf2.drop(*columns_to_drop)"
   ]
  },
  {
   "cell_type": "code",
   "execution_count": 0,
   "metadata": {
    "application/vnd.databricks.v1+cell": {
     "cellMetadata": {
      "byteLimit": 2048000,
      "rowLimit": 10000
     },
     "inputWidgets": {},
     "nuid": "6be5182c-a187-4960-bf80-8c31af106668",
     "showTitle": false,
     "title": ""
    }
   },
   "outputs": [],
   "source": [
    "yelp_sdf2 = yelp_sdf2.sample(False, 0.01)"
   ]
  },
  {
   "cell_type": "code",
   "execution_count": 0,
   "metadata": {
    "application/vnd.databricks.v1+cell": {
     "cellMetadata": {
      "byteLimit": 2048000,
      "rowLimit": 10000
     },
     "inputWidgets": {},
     "nuid": "e4bb77ba-e3d8-4161-bf77-325d9d6a5925",
     "showTitle": false,
     "title": ""
    }
   },
   "outputs": [
    {
     "output_type": "stream",
     "name": "stdout",
     "output_type": "stream",
     "text": [
      "Out[7]: 64551"
     ]
    }
   ],
   "source": [
    "yelp_sdf2.count()"
   ]
  },
  {
   "cell_type": "code",
   "execution_count": 0,
   "metadata": {
    "application/vnd.databricks.v1+cell": {
     "cellMetadata": {
      "byteLimit": 2048000,
      "rowLimit": 10000
     },
     "inputWidgets": {},
     "nuid": "6b657963-62da-4faa-bde1-f10e33444f65",
     "showTitle": false,
     "title": ""
    }
   },
   "outputs": [],
   "source": [
    "# StringIndexing to convert categorical variables to numeric indices \n",
    "\n",
    "from pyspark.ml.feature import StringIndexer\n",
    "indexer = StringIndexer(inputCols=[\"business_id\", \"city\", \"state\"], outputCols=[\"business_id_index\", \"city_index\", \"state_index\"], handleInvalid=\"keep\")\n",
    "\n",
    "# R. Holowczak, Spark MLlib - Feature Engineering, Slide 11"
   ]
  },
  {
   "cell_type": "code",
   "execution_count": 0,
   "metadata": {
    "application/vnd.databricks.v1+cell": {
     "cellMetadata": {
      "byteLimit": 2048000,
      "rowLimit": 10000
     },
     "inputWidgets": {},
     "nuid": "e22ac588-1536-4f2c-9bea-5d2ee6598323",
     "showTitle": false,
     "title": ""
    }
   },
   "outputs": [],
   "source": [
    "# OneHotEncoding to convert categorical variables to binary vectors\n",
    "from pyspark.ml.feature import OneHotEncoder\n",
    "\n",
    "# Using indexed columns as input because OneHotEncoder expects numerical inputs\n",
    "# Outputs are stored in outputCols as binary vectors \n",
    "encoder = OneHotEncoder(inputCols=[\"business_id_index\", \"city_index\", \"state_index\"], outputCols=[\"business_id_vector\", \"city_vector\", \"state_vector\"], dropLast=True, handleInvalid=\"keep\")\n",
    "\n",
    "# R. Holowczak, Spark MLlib - Feature Engineering, Slide 13"
   ]
  },
  {
   "cell_type": "code",
   "execution_count": 0,
   "metadata": {
    "application/vnd.databricks.v1+cell": {
     "cellMetadata": {
      "byteLimit": 2048000,
      "rowLimit": 10000
     },
     "inputWidgets": {},
     "nuid": "d30a0df1-0041-4ede-a0c8-8bdcb2bbb76a",
     "showTitle": true,
     "title": "Working With Text Data"
    },
    "jupyter": {
     "source_hidden": true
    }
   },
   "outputs": [],
   "source": []
  },
  {
   "cell_type": "code",
   "execution_count": 0,
   "metadata": {
    "application/vnd.databricks.v1+cell": {
     "cellMetadata": {
      "byteLimit": 2048000,
      "rowLimit": 10000
     },
     "inputWidgets": {},
     "nuid": "65a89b38-3104-428c-a5fe-1560cbec800f",
     "showTitle": false,
     "title": ""
    }
   },
   "outputs": [
    {
     "output_type": "stream",
     "name": "stdout",
     "output_type": "stream",
     "text": [
      "+-------+-----------------+\n|summary|      text_length|\n+-------+-----------------+\n|  count|            64551|\n|    min|                3|\n|    max|             5000|\n|   mean|563.9274527118092|\n+-------+-----------------+\n\n"
     ]
    }
   ],
   "source": [
    "# Getting some statistics on the review text:\n",
    "\n",
    "from pyspark.sql.functions import col, isnan, when, count, udf, length\n",
    "\n",
    "# Find the length of review text\n",
    "yelp_sdf2 = yelp_sdf2.withColumn(\"text_length\", length(col(\"text\")))\n",
    "yelp_sdf2.select(\"text_length\").summary(\"count\", \"min\", \"max\", \"mean\").show()"
   ]
  },
  {
   "cell_type": "code",
   "execution_count": 0,
   "metadata": {
    "application/vnd.databricks.v1+cell": {
     "cellMetadata": {
      "byteLimit": 2048000,
      "rowLimit": 10000
     },
     "inputWidgets": {},
     "nuid": "14e441cb-52b9-4c0f-a6b7-7549febbfce7",
     "showTitle": false,
     "title": ""
    }
   },
   "outputs": [
    {
     "output_type": "stream",
     "name": "stdout",
     "output_type": "stream",
     "text": [
      "Out[11]: <seaborn.axisgrid.FacetGrid at 0x7f92eea9ba30>"
     ]
    },
    {
     "output_type": "display_data",
     "data": {
      "image/png": "[encoded data removed]"
     },
     "metadata": {
      "application/vnd.databricks.v1+output": {
       "addedWidgets": {},
       "arguments": {},
       "data": "data:image/png;base64,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\n",
       "datasetInfos": [],
       "metadata": {},
       "removedWidgets": [],
       "type": "image"
      }
     },
     "output_type": "display_data"
    }
   ],
   "source": [
    "import seaborn as sns\n",
    "# Take the length column and convert to a Pandas dataframe\n",
    "df = yelp_sdf2.select('text_length').toPandas()\n",
    "# Create the distribution plot\n",
    "sns.displot(df)"
   ]
  },
  {
   "cell_type": "code",
   "execution_count": 0,
   "metadata": {
    "application/vnd.databricks.v1+cell": {
     "cellMetadata": {
      "byteLimit": 2048000,
      "rowLimit": 10000
     },
     "inputWidgets": {},
     "nuid": "c84da09a-1b1a-45ea-8789-5f217ad41c19",
     "showTitle": false,
     "title": ""
    }
   },
   "outputs": [],
   "source": [
    "# Remove records with abnormally long review text. Choose your own threshold (500, 300, etc.)\n",
    "yelp_sdf2 = yelp_sdf2.where(col(\"text_length\") <= 300 )"
   ]
  },
  {
   "cell_type": "code",
   "execution_count": 0,
   "metadata": {
    "application/vnd.databricks.v1+cell": {
     "cellMetadata": {
      "byteLimit": 2048000,
      "rowLimit": 10000
     },
     "inputWidgets": {},
     "nuid": "39cfdcba-da08-42c0-8706-f761b49ff9d9",
     "showTitle": false,
     "title": ""
    }
   },
   "outputs": [
    {
     "output_type": "stream",
     "name": "stdout",
     "output_type": "stream",
     "text": [
      "Out[13]: 23612"
     ]
    }
   ],
   "source": [
    "yelp_sdf2.count()"
   ]
  },
  {
   "cell_type": "code",
   "execution_count": 0,
   "metadata": {
    "application/vnd.databricks.v1+cell": {
     "cellMetadata": {
      "byteLimit": 2048000,
      "rowLimit": 10000
     },
     "inputWidgets": {},
     "nuid": "c29bbad0-4984-49f6-8d6a-9cd2dbcccf4e",
     "showTitle": false,
     "title": ""
    }
   },
   "outputs": [
    {
     "output_type": "stream",
     "name": "stdout",
     "output_type": "stream",
     "text": [
      "Out[14]: ['user_id',\n 'business_id',\n 'stars',\n 'text',\n 'city',\n 'is_open',\n 'business_review_count',\n 'business_stars',\n 'state',\n 'user_average_stars',\n 'user_compliment_cool',\n 'user_compliment_funny',\n 'user_fans',\n 'user_review_count',\n 'user_useful',\n 'text_length']"
     ]
    }
   ],
   "source": [
    "yelp_sdf2.columns"
   ]
  },
  {
   "cell_type": "code",
   "execution_count": 0,
   "metadata": {
    "application/vnd.databricks.v1+cell": {
     "cellMetadata": {
      "byteLimit": 2048000,
      "rowLimit": 10000
     },
     "inputWidgets": {},
     "nuid": "46dfa093-d67c-4df8-bf0b-115e33fe9480",
     "showTitle": false,
     "title": ""
    }
   },
   "outputs": [],
   "source": [
    "from pyspark.ml.feature import RegexTokenizer, HashingTF, IDF\n",
    "# Performing in-line rather than making part of the pipeline\n",
    "\n",
    "tokenizer = RegexTokenizer(inputCol=\"text\", outputCol=\"words\", pattern=\"\\\\w+\", gaps=False)\n",
    "yelp_sdf2 = tokenizer.transform(yelp_sdf2)\n",
    "# R. Holowczak, Spark MLlib - Feature Engineering, Slide 22\n",
    "hashingTF = HashingTF(numFeatures=4096, inputCol=\"words\", outputCol=\"word_features\")\n",
    "yelp_sdf2 = hashingTF.transform(yelp_sdf2)\n",
    "# R. Holowczak, Spark MLlib - Feature Engineering, Slide 23\n",
    "idf = IDF(inputCol='word_features', outputCol=\"idf_features\", minDocFreq=1)\n",
    "idfModel = idf.fit(yelp_sdf2)\n",
    "yelp_sdf2 = idfModel.transform(yelp_sdf2)\n",
    "# R. Holowczak, Spark MLlib - Feature Engineering, Slide 25"
   ]
  },
  {
   "cell_type": "code",
   "execution_count": 0,
   "metadata": {
    "application/vnd.databricks.v1+cell": {
     "cellMetadata": {
      "byteLimit": 2048000,
      "rowLimit": 10000
     },
     "inputWidgets": {},
     "nuid": "917b7dea-6986-49c7-8881-c87f4acc614f",
     "showTitle": false,
     "title": ""
    }
   },
   "outputs": [
    {
     "output_type": "stream",
     "name": "stdout",
     "output_type": "stream",
     "text": [
      "+----------------------------------------------------------------------------------------------------------------------------------------------------------------------------------------------------------------------------------------------------------------------------------------+--------------------+\n|text                                                                                                                                                                                                                                                                                    |sentiment_score     |\n+----------------------------------------------------------------------------------------------------------------------------------------------------------------------------------------------------------------------------------------------------------------------------------------+--------------------+\n|A great place to eat a quick lunch in Doylestown! Healthy options. Fast and friendly service. Unique and delicious toppings. My only complaint is that it's a little bit pricy. Almost $7 for 2 slices.                                                                                 |0.31791666666666674 |\n|Attended a musical in the small theatre. The seats were very comfortable and and no matter where you sat, it was a good view.                                                                                                                                                           |0.2425              |\n|Great location. It was one of our stops with the Florida bike tour. Staff was friendly.  They had a great selection of beers to choose from. Will definitely go back.                                                                                                                   |0.49375             |\n|The most perfect, authentic, flavorful and fresh Vietnamese I've ever had out side of Saigon. The pork belly is melt in your mouth, and the Pho is delectable. The vegetables are always so fresh and crunchy. The vibe is upbeat, lively and cozy. It's my top lunch spot at all times!|0.39517045454545446 |\n|DISAPPOINTING \\nHeard great things about this place but my experience was a Flop. \\nAppetizers were cold, noodles were cold, and EVERY piece of my Hibachi steak had gristle in it! YUCK!\\nService was slow even though less than 50% capacity. \\nNot sure we'll go back.               |-0.25677083333333334|\n+----------------------------------------------------------------------------------------------------------------------------------------------------------------------------------------------------------------------------------------------------------------------------------------+--------------------+\n\n"
     ]
    }
   ],
   "source": [
    "# Text Engineering - Textblob for sentiment analysis\n",
    "from textblob import TextBlob\n",
    "from pyspark.sql.functions import udf\n",
    "from pyspark.sql.types import DoubleType\n",
    "\n",
    "# Using TextBlob for Sentiment Analysis\n",
    "def sentiment_analysis(some_text):\n",
    "    sentiment = TextBlob(some_text).sentiment.polarity\n",
    "    return sentiment\n",
    "\n",
    "# Defining a UDF for sentiment analysis\n",
    "sentiment_analysis_udf = udf(sentiment_analysis, DoubleType())\n",
    "\n",
    "# Applying the UDF to the \"text\" column and create a new column called \"sentiment_score\"\n",
    "yelp_sdf2 = yelp_sdf2.withColumn(\"sentiment_score\", sentiment_analysis_udf(\"text\"))\n",
    "\n",
    "# Examining the output\n",
    "yelp_sdf2.select(\"text\", \"sentiment_score\").limit(5).show(truncate=False)\n",
    "# R. Holowczak, Spark MLlib - Feature Engineering, Slide 27-28"
   ]
  },
  {
   "cell_type": "code",
   "execution_count": 0,
   "metadata": {
    "application/vnd.databricks.v1+cell": {
     "cellMetadata": {
      "byteLimit": 2048000,
      "rowLimit": 10000
     },
     "inputWidgets": {},
     "nuid": "28809572-fd3b-450b-a74d-d32916a306e0",
     "showTitle": false,
     "title": ""
    }
   },
   "outputs": [
    {
     "output_type": "stream",
     "name": "stdout",
     "output_type": "stream",
     "text": [
      "Out[17]: [('user_id', 'string'),\n ('business_id', 'string'),\n ('stars', 'double'),\n ('text', 'string'),\n ('city', 'string'),\n ('is_open', 'bigint'),\n ('business_review_count', 'bigint'),\n ('business_stars', 'double'),\n ('state', 'string'),\n ('user_average_stars', 'double'),\n ('user_compliment_cool', 'bigint'),\n ('user_compliment_funny', 'bigint'),\n ('user_fans', 'bigint'),\n ('user_review_count', 'bigint'),\n ('user_useful', 'bigint'),\n ('text_length', 'int'),\n ('words', 'array<string>'),\n ('word_features', 'vector'),\n ('idf_features', 'vector'),\n ('sentiment_score', 'double')]"
     ]
    }
   ],
   "source": [
    "yelp_sdf2.columns\n",
    "yelp_sdf2.dtypes"
   ]
  },
  {
   "cell_type": "code",
   "execution_count": 0,
   "metadata": {
    "application/vnd.databricks.v1+cell": {
     "cellMetadata": {
      "byteLimit": 2048000,
      "rowLimit": 10000
     },
     "inputWidgets": {},
     "nuid": "90120109-0a1a-447b-bc2f-fd1f02fbd24f",
     "showTitle": false,
     "title": ""
    }
   },
   "outputs": [],
   "source": [
    "from pyspark.sql.functions import col\n",
    "\n",
    "yelp_sdf2 = (\n",
    "    yelp_sdf2\n",
    "    .withColumn(\"business_review_count\", col(\"business_review_count\").cast(\"double\"))\n",
    "    .withColumn(\"is_open\", col(\"is_open\").cast(\"double\"))\n",
    "    .withColumn(\"user_review_count\", col(\"user_review_count\").cast(\"double\"))\n",
    "    .withColumn(\"user_fans\", col(\"user_fans\").cast(\"double\"))\n",
    "    .withColumn(\"user_compliment_cool\", col(\"user_compliment_cool\").cast(\"double\"))\n",
    "    .withColumn(\"user_compliment_funny\", col(\"user_compliment_funny\").cast(\"double\"))\n",
    "    .withColumn(\"user_useful\", col(\"user_useful\").cast(\"double\"))\n",
    ")"
   ]
  },
  {
   "cell_type": "code",
   "execution_count": 0,
   "metadata": {
    "application/vnd.databricks.v1+cell": {
     "cellMetadata": {
      "byteLimit": 2048000,
      "rowLimit": 10000
     },
     "inputWidgets": {},
     "nuid": "71681773-e733-4761-9c48-ae9d78bbaecc",
     "showTitle": false,
     "title": ""
    }
   },
   "outputs": [],
   "source": [
    "# Using VectorAssembler to combine our individual feature vectors into one large vector\n",
    "\n",
    "from pyspark.ml.feature import VectorAssembler\n",
    "assembler = VectorAssembler(inputCols=[\"city_vector\", \"state_vector\", \"word_features\", \"idf_features\", \"sentiment_score\", \"business_review_count\", \"business_stars\", \"is_open\",\n",
    "    \"user_average_stars\", \"user_review_count\", \"user_fans\",\n",
    "    \"user_compliment_cool\", \"user_compliment_funny\", \"user_useful\"],\n",
    "outputCol=\"features\")\n",
    "# R. Holowczak, Spark MLlib - Feature Engineering, Slide 14"
   ]
  },
  {
   "cell_type": "code",
   "execution_count": 0,
   "metadata": {
    "application/vnd.databricks.v1+cell": {
     "cellMetadata": {
      "byteLimit": 2048000,
      "rowLimit": 10000
     },
     "inputWidgets": {},
     "nuid": "9aedb6d1-e166-4dda-848b-9e9d337006b7",
     "showTitle": false,
     "title": ""
    }
   },
   "outputs": [],
   "source": [
    "#yelp_sdf2 = assembler.transform(yelp_sdf2)"
   ]
  },
  {
   "cell_type": "code",
   "execution_count": 0,
   "metadata": {
    "application/vnd.databricks.v1+cell": {
     "cellMetadata": {
      "byteLimit": 2048000,
      "rowLimit": 10000
     },
     "inputWidgets": {},
     "nuid": "c8062668-b4c2-46eb-9359-78e7ccd65338",
     "showTitle": false,
     "title": ""
    }
   },
   "outputs": [
    {
     "output_type": "stream",
     "name": "stdout",
     "output_type": "stream",
     "text": [
      "Out[21]: ['user_id',\n 'business_id',\n 'stars',\n 'text',\n 'city',\n 'is_open',\n 'business_review_count',\n 'business_stars',\n 'state',\n 'user_average_stars',\n 'user_compliment_cool',\n 'user_compliment_funny',\n 'user_fans',\n 'user_review_count',\n 'user_useful',\n 'text_length',\n 'words',\n 'word_features',\n 'idf_features',\n 'sentiment_score']"
     ]
    }
   ],
   "source": [
    "yelp_sdf2.columns"
   ]
  },
  {
   "cell_type": "code",
   "execution_count": 0,
   "metadata": {
    "application/vnd.databricks.v1+cell": {
     "cellMetadata": {
      "byteLimit": 2048000,
      "rowLimit": 10000
     },
     "inputWidgets": {},
     "nuid": "4ae321b4-ca00-4a50-b5cc-5a309c2dce3b",
     "showTitle": false,
     "title": ""
    }
   },
   "outputs": [],
   "source": [
    "from pyspark.ml.classification import LogisticRegression\n",
    "from pyspark.ml.feature import Binarizer\n",
    "from pyspark.ml import Pipeline\n",
    "from pyspark.ml.evaluation import BinaryClassificationEvaluator, RegressionEvaluator"
   ]
  },
  {
   "cell_type": "code",
   "execution_count": 0,
   "metadata": {
    "application/vnd.databricks.v1+cell": {
     "cellMetadata": {
      "byteLimit": 2048000,
      "rowLimit": 10000
     },
     "inputWidgets": {},
     "nuid": "cb5f6b85-fdc4-4bb1-9051-e06c8728bd59",
     "showTitle": true,
     "title": "Binarizing 'Stars' Column"
    },
    "jupyter": {
     "source_hidden": true
    }
   },
   "outputs": [],
   "source": []
  },
  {
   "cell_type": "code",
   "execution_count": 0,
   "metadata": {
    "application/vnd.databricks.v1+cell": {
     "cellMetadata": {
      "byteLimit": 2048000,
      "rowLimit": 10000
     },
     "inputWidgets": {},
     "nuid": "137011da-b57c-42d0-82bb-b436dcf9b331",
     "showTitle": false,
     "title": ""
    }
   },
   "outputs": [
    {
     "output_type": "stream",
     "name": "stdout",
     "output_type": "stream",
     "text": [
      "Binarizer output with Threshold 3.0\n+--------------------+-----+-----+\n|             user_id|stars|label|\n+--------------------+-----+-----+\n|-4H9YapACq9gUxUPc...|  4.0|  1.0|\n|-pUJtDKDeYYBa7Zoy...|  4.0|  1.0|\n|-pUJtDKDeYYBa7Zoy...|  4.0|  1.0|\n|-ue0mONreADl0RMBK...|  5.0|  1.0|\n|0vRV7jtpDv3Q0LGms...|  2.0|  0.0|\n|1lHhlyMvYZelX0Ix4...|  5.0|  1.0|\n|1nORreH-L1aq-aOl8...|  5.0|  1.0|\n|1pnr9OiphmbusJuY_...|  2.0|  0.0|\n|1woxMhUDtV0sCDcTH...|  2.0|  0.0|\n|2DrMbaJRiaxGA0GpF...|  2.0|  0.0|\n|2r3gM6v1O9PPaFJJD...|  5.0|  1.0|\n|3FQX4Bb7Fed-fLywC...|  4.0|  1.0|\n|4gU5JejhzWdy-pipP...|  5.0|  1.0|\n|5ZPX1WYqvsMm9IE0F...|  5.0|  1.0|\n|6GXkFJDkdwHKShmo4...|  2.0|  0.0|\n|6jcfNd3_FpWUEC7Ws...|  5.0|  1.0|\n|88lKDvHurHy97OljT...|  4.0|  1.0|\n|8C5XpixWccEc9mnF0...|  5.0|  1.0|\n|9AH28uWrdvTvQfNfa...|  1.0|  0.0|\n|9NBngv-NBCI1a3Lgf...|  5.0|  1.0|\n+--------------------+-----+-----+\nonly showing top 20 rows\n\n"
     ]
    }
   ],
   "source": [
    "# Binarize the 'stars' column\n",
    "# Creating a binary label (0 or 1) where 0 indicates a star rating <= 3, and 1 indicates a star rating > 3\n",
    "binarizer = Binarizer(threshold=3.0, inputCol='stars', outputCol='label')\n",
    "yelp_sdf2 = binarizer.transform(yelp_sdf2)\n",
    "\n",
    "print(\"Binarizer output with Threshold\", binarizer.getThreshold())\n",
    "\n",
    "# Select the columns you want to display\n",
    "binary_label_df = yelp_sdf2.select(\"user_id\", \"stars\", \"label\")\n",
    "\n",
    "# Show the resulting DataFrame\n",
    "binary_label_df.show()\n",
    "# R. Holowczak, Spark MLlib - Feature Engineering, Slide 12"
   ]
  },
  {
   "cell_type": "code",
   "execution_count": 0,
   "metadata": {
    "application/vnd.databricks.v1+cell": {
     "cellMetadata": {
      "byteLimit": 2048000,
      "rowLimit": 10000
     },
     "inputWidgets": {},
     "nuid": "c1107c83-5b95-4aee-87be-9dee99f044ae",
     "showTitle": false,
     "title": ""
    }
   },
   "outputs": [],
   "source": [
    "# Create a LogisticRegression Estimator\n",
    "lr = LogisticRegression(featuresCol='features', labelCol='label')"
   ]
  },
  {
   "cell_type": "code",
   "execution_count": 0,
   "metadata": {
    "application/vnd.databricks.v1+cell": {
     "cellMetadata": {
      "byteLimit": 2048000,
      "rowLimit": 10000
     },
     "inputWidgets": {},
     "nuid": "029a4925-05a7-4388-86b2-9cc3234ce0d7",
     "showTitle": false,
     "title": ""
    }
   },
   "outputs": [],
   "source": [
    "# Split the data into training and test sets\n",
    "trainingData, testData = yelp_sdf2.randomSplit([0.70, 0.30], seed=42)"
   ]
  },
  {
   "cell_type": "code",
   "execution_count": 0,
   "metadata": {
    "application/vnd.databricks.v1+cell": {
     "cellMetadata": {
      "byteLimit": 2048000,
      "rowLimit": 10000
     },
     "inputWidgets": {},
     "nuid": "8d092911-b690-4c8d-a1c5-cb9f1137a89e",
     "showTitle": false,
     "title": ""
    }
   },
   "outputs": [],
   "source": [
    "# Create the pipeline\n",
    "pipeline = Pipeline(stages=[indexer, encoder, assembler, lr])\n",
    "# R. Holowczak, Spark MLlib - Pipelines, Slide 12"
   ]
  },
  {
   "cell_type": "code",
   "execution_count": 0,
   "metadata": {
    "application/vnd.databricks.v1+cell": {
     "cellMetadata": {
      "byteLimit": 2048000,
      "rowLimit": 10000
     },
     "inputWidgets": {},
     "nuid": "8a13f5ce-b653-4c27-99a0-5e9a917f3215",
     "showTitle": true,
     "title": "Modeling & Evaluation"
    },
    "jupyter": {
     "source_hidden": true
    }
   },
   "outputs": [],
   "source": []
  },
  {
   "cell_type": "code",
   "execution_count": 0,
   "metadata": {
    "application/vnd.databricks.v1+cell": {
     "cellMetadata": {
      "byteLimit": 2048000,
      "rowLimit": 10000
     },
     "inputWidgets": {},
     "nuid": "a437037e-c760-434d-bb57-8e40b9d3ceef",
     "showTitle": false,
     "title": ""
    }
   },
   "outputs": [],
   "source": [
    "# Train the model on the trainingData\n",
    "model = pipeline.fit(trainingData)"
   ]
  },
  {
   "cell_type": "code",
   "execution_count": 0,
   "metadata": {
    "application/vnd.databricks.v1+cell": {
     "cellMetadata": {
      "byteLimit": 2048000,
      "rowLimit": 10000
     },
     "inputWidgets": {},
     "nuid": "2569550d-4165-46c9-a7c1-9606e975507e",
     "showTitle": false,
     "title": ""
    }
   },
   "outputs": [],
   "source": [
    "# Save the model to the \"/models\" folder\n",
    "#model.write().overwrite().save(\"s3a://yelp-reviews-jb/models/lr_model\")"
   ]
  },
  {
   "cell_type": "code",
   "execution_count": 0,
   "metadata": {
    "application/vnd.databricks.v1+cell": {
     "cellMetadata": {
      "byteLimit": 2048000,
      "rowLimit": 10000
     },
     "inputWidgets": {},
     "nuid": "3d78d75d-85b3-4da7-b034-e321ef092c2b",
     "showTitle": true,
     "title": "Logistic Regression Model"
    },
    "jupyter": {
     "source_hidden": true
    }
   },
   "outputs": [],
   "source": []
  },
  {
   "cell_type": "code",
   "execution_count": 0,
   "metadata": {
    "application/vnd.databricks.v1+cell": {
     "cellMetadata": {
      "byteLimit": 2048000,
      "rowLimit": 10000
     },
     "inputWidgets": {},
     "nuid": "d59feab2-d262-45d0-8e28-32614c3c785d",
     "showTitle": false,
     "title": ""
    }
   },
   "outputs": [
    {
     "output_type": "stream",
     "name": "stdout",
     "output_type": "stream",
     "text": [
      "Coefficients:  [-1.0462381112138956,-1.9287495499228728,-13.215404896124669,-12.637620862655458,1.8922336125387238,0.8511944415704453,11.267557471570576,-1.9731687742679576,5.7543476217252865,-14.717109390538514,12.159444393557443,0.9058953918963586,-12.976196712792484,19.473487407247926,14.485038116715529,19.20308827609472,-6.218659697911975,-14.263355759837857,-46.56164217258996,20.93170162522552,16.613609348683912,16.724161456955162,-21.807080792954675,9.360095715103956,12.327827234375853,-6.630268466783667,-5.66122500521092,-12.931442465888116,36.477184264415556,46.739135406140704,2.519188500343293,9.176289355425647,-3.509260067970871,-16.744689689485753,-6.940300632349767,-24.957198808437887,16.081661723338954,10.425759626284579,43.57227105793872,-8.616296763119772,44.57295008970408,-12.62357402108575,-35.460069495729584,26.4060385014095,20.658361041867803,17.159788052423366,6.507651505694442,-42.860082298101474,-30.270559036282773,18.652112472484895,66.58322088200504,4.7110915243362514,-23.266777278549487,32.47300105047679,-37.42992195302211,-22.12300676724839,0.8387307380219464,35.044412546359546,45.24913065602439,16.02878754297636,-42.64495821310661,-87.4909955209778,-41.76426110453701,-6.1750263382816755,31.34293230703049,44.172941782672986,88.97626076965214,15.068319844980444,28.275656924843158,19.189454618357008,-2.4225492065504906,33.31956074699445,42.960395334850666,-96.95708806550644,55.793612736182176,-61.784638564014855,3.1647594343050636,22.807989432581035,47.17973875105522,-36.91750370469856,90.10809306998013,36.362152380758324,35.85608001805598,-34.36034109079192,67.61026932038722,-16.5484046109243,-22.08602582442348,-36.277963355631556,-64.12593077895752,-5.795901811041191,49.038456403800986,-3.192286360919964,-97.95546868921632,-88.6904354928785,-21.175277972647528,46.171959019873995,21.932394774821738,27.904258051702396,0.9904527768740587,124.20603010981087,70.00935168634523,25.12199346008674,-36.4079318015381,-18.96156843417186,-40.72372176750003,75.98288511909925,-63.626958367333145,71.35317144184035,30.67710171060784,-13.520774641022795,-3.2216225841918447,-48.46054988342129,-11.603573605792773,79.53084962247102,-51.988392072236735,79.21789596523797,29.439165660330254,38.26480476090661,-29.944262526805794,-19.21610411363428,52.786544816442586,8.08212381531801,-31.768260727358413,9.081097172108702,21.76075574872799,2.1165154436353197,-103.32782182727124,-11.018239640591123,2.745516518206929,34.64483114270363,10.975795181213853,-35.88755450315044,-24.477570361384174,-31.103675000570274,26.968602303570613,56.86892753172265,-41.7667374298146,-46.54841252794986,36.638952765400155,-96.37836002091183,18.351584257949735,-23.524595804528005,-44.54419442460834,-46.01689069287824,103.59256875953754,-0.8956691226194806,-68.26359076880416,20.376424528544025,51.44542865883302,-81.97719487901085,-47.60495698030914,47.5908228613824,35.35130446393272,-73.076799526492,22.947185358493048,30.82925824569273,-73.23131340505856,97.95514201676309,13.029710650430594,-29.167887730789026,138.45053744543162,41.20944661011231,-136.43461175944574,9.182694037067881,15.325756285992565,41.26315479593666,-101.69892026369176,108.62895354660677,30.210603048566057,250.5537819545866,-76.10276494190155,-0.25245579145195063,-3.5064255466393592,-61.1822078952087,45.8166793574146,-55.12926849071444,66.40448846254765,100.99285044970135,-65.82041469487777,53.459912208093854,24.468853285909024,-65.27289486195303,119.25062863690904,79.8114679760125,-33.17976033256406,48.683929825473705,-47.51993975032248,-16.431673613657527,185.94098591556818,3.010404706968096,-34.089750358651116,-25.130827659466128,-96.65042725198232,47.35688215291023,-5.168326163261771,-31.747930745567896,196.68911336343837,-28.724373070962724,-2.8338210475178958,62.180369386893986,-10.368951849961846,-13.382094539404992,-123.11875293776961,46.92366430144404,123.45444073176945,27.503113443101952,-3.8212367957092543,145.37218585036803,-11.387915287362576,-182.24933639620835,-98.00504338178595,-33.297065648342425,-56.07329328992693,-81.94452624373513,-36.14140111069635,143.2522816252065,-20.159788514873284,34.40614239576328,-54.99942043586287,172.35846559913847,-21.8416473858601,-11.03904096516631,54.57334224957271,60.62987966275841,140.385502996669,-55.41459558944757,42.72384299082775,219.7344001504697,-108.83090617660328,-34.577902014888615,34.274145637679204,36.79209801667597,-61.130226643806715,21.8596266190473,-35.825689793419876,-175.42697360457876,-22.146861037749563,-3.162365396337395,102.99504241753745,-18.86400981853098,138.3180273125902,79.27567742378189,125.15151218550535,157.0986869514994,-66.35656814116177,38.03513168183663,-68.02599303717481,98.03203990647276,-56.28416670416806,61.19133638243391,-72.70918964363513,85.81653977403712,-112.26781682099698,-25.382310068910126,-8.743086001174431,-2.485551774356513,-45.8855533648223,-19.274194539724185,-10.168884524248295,-69.59211091244414,16.03380782311775,-78.74760246688415,84.3210313067463,130.76679171494115,-33.3546816675261,40.89192773307817,140.90238916068725,-144.69342993727128,-21.489181128299535,38.433511191551176,40.058550307439155,-173.75442948357914,-14.11088939611697,184.6188433111633,-115.36095186256405,219.72975273328203,135.00464897227567,-63.446689631451456,-39.80923649101808,36.739273590560046,19.919711400314714,-69.18980176007447,-111.49156879483267,112.3597935384243,90.45748976252032,-20.035310995111953,-61.28884195873525,14.692662264669336,-24.569004056072597,286.2755074855545,-101.17861149433195,33.10463752570466,-55.43947754111682,83.21138986296057,-136.4901088365191,145.63490933368308,67.02771908221725,-30.968166962176884,48.21584004376354,-44.69463749038723,-79.36530954153427,2.3396314287263693,-64.01949588271594,-45.907135053959436,39.362232268837936,-192.47660921436346,14.462389203791995,-108.79907291237957,10.247487849675672,-76.91509973483024,-39.80458547641085,21.042824946289436,-32.71259372262643,-85.17515870898202,236.07327859522215,96.38799772136173,200.8274719105238,-206.45254233783456,200.44873144473746,246.05741481053792,-43.816095401319544,-86.89454156329896,-93.95590201609497,141.43754094954156,19.980744480991024,16.4461401174287,-309.7635041538942,237.19255315347664,-78.759230015681,-287.3756138968896,-19.467479270779773,177.1408696141944,-38.76990608856241,-84.79065184969362,-2.4555210456060985,82.47840330517522,17.53063514091477,15.431423509207686,-78.00095214372412,-4.498868389753529,-9.569914049762392,34.23940070477493,-11.148833124410038,-81.65056313874388,-37.78956371304926,-95.2628642712786,-80.83985108279802,38.1414144061902,-80.30453596444258,80.03860171033276,79.70831739539142,-39.74780877068858,70.59250654296537,-88.72487159429274,-22.603344779557034,-69.47210386939875,84.5978747513034,-49.702539675793986,28.99877448060011,121.60765581285284,9.746603711775306,65.16565499788113,221.56463971006258,40.223048055148034,133.30976228998023,-194.75697249372524,-79.5482386598572,-8.88599785352989,126.77802870375373,-129.40249426037,75.91534261048835,-57.27474255503979,47.14972716045887,3.8491307042698537,-52.58325821599438,-8.694152144908616,-98.17587729180791,90.28332225228569,-50.39288461294349,-368.7680629731085,-129.04853505551387,-80.75833946209877,29.544976232476692,3.0799585424452847,276.05743095821373,-55.19378953979836,-50.366927524338706,-98.32783941771733,-43.69535068626304,-121.21374075573956,-44.88276498730825,113.50663894118698,109.22503456415036,374.6423395027205,26.389054297843227,-43.847977693009994,114.0991962653765,51.334060369092235,-269.77074097316495,88.75213034596051,-70.644071695442,-35.79742558196198,-177.3853147123704,-59.417479039772935,-54.22982123370764,6.129295119436204,-92.28784095662338,185.23313260295373,184.69779873542035,47.8068601942136,-65.24168283974049,112.48968297631306,-107.31883811055111,-150.77112323450723,85.12690063201123,-114.00278930230054,55.8630114600663,-44.20453836760113,-288.72602828621154,17.820642832307062,-101.46409030803585,73.67966209137555,-108.57863450117593,-122.40557889687254,-37.76585582866503,298.85237512762365,135.69456384362346,88.53696574246968,139.23175297990736,-97.66145641125725,-13.756701793664083,-78.64032770834908,-251.5216631003846,-106.88743441281444,158.51282614393648,-91.31234375985899,10.437881037989609,-80.60652533373168,-9.769603066167019,-43.769326468193434,-37.7336497869479,-225.11962085509523,-257.3381982534934,-71.89274617887811,-31.453041857227774,93.91794134905061,-275.21287862848857,-104.78023045479172,-112.24140343661374,-48.67402627893755,-9.514980304392635,-43.379787068096256,-283.13388133753796,-57.74934733659688,23.717790385986575,-100.4899897581264,-50.675141937735155,-43.70047564473516,-228.8708844418867,-89.40735889777605,151.54061194750278,123.87352046819255,-449.5659101927552,72.38682016974526,-232.7385646269573,-58.40500519281817,-94.24020584413192,-223.00862919158564,-195.8283905000944,-56.10349785613453,73.39271443921733,-39.74734199772188,-10.32356096532363,137.82427297583635,-170.43439813490474,-74.41413316208813,261.86640934746356,47.577344474687465,-48.05940939229358,-508.012622483577,-34.81540986763424,-60.588157601367136,-31.67981155878566,-111.71375203904392,-120.38202616417831,270.28180788000776,-121.12300399906921,66.49651788548783,120.4768372069723,-88.62482905115611,-53.736824028183996,-267.57050833902787,-54.714271053105755,-77.17365460399947,-56.46811783110527,-44.83701611525035,-13.066376543770142,-54.59488817471098,-128.05445691880814,-127.0350325292809,-109.69777670497334,-47.587719904249525,113.07175124819807,-117.25334843293146,-88.34270803314058,359.895178635468,54.72669585433592,-5.145087137448073,-71.88592485093771,-250.54155222157596,343.863787343859,-299.7663253356542,-39.01493029160299,-67.60547061839674,135.35076868503194,115.2527500991256,-95.56777119581126,-52.93448369209112,-23.28903744058521,38.313348069165414,13.347867400236565,117.05714357891831,-43.78212078107265,-328.97247327725177,67.71625723451224,-96.5873995608672,-21.551205458356666,35.05543753221582,186.91190228015824,121.9600530916649,0.0,5.348441588430871,-4.147025139773013,-0.32290016106556246,-3.765416613843962,2.0919937418209154,4.399062497150408,-0.5442744018931943,-0.8354241049137361,-6.067731922321505,1.3881341235466396,-3.054855315398235,9.29964859947497,-7.403088983625317,11.693022703423916,0.0,-5.61700079160689,69.1862526802532,-33.84193811156656,1.1145409374711182,-28.145715995165954,-11.400609595747548,-33.82957007379273,30.478740992663578,-52.80949461099944,20.045392376008937,-17.964592136952245,5.680161549404173,9.180387146737043,22.771057874936375,64.61890982340901,6.653209245927079,11.082743244955264,28.877730565524754,-25.971405559063502,0.06139160911191582,-2.0720127246025153,0.0,62.698404220557,-47.38268934028795,-11.61650134376753,84.85506390848208,-41.43802116711809,4.998667329754254,7.799620931669917,22.217637944064194,-29.16836775106629,17.828511266003108,11.796710369935404,-3.271175770436753,8.182201234887945,-18.1022567409864,18.296234676100667,49.75060305225123,90.12640930179724,3.7182344022096485,26.492916002478264,-11.710047381850968,9.018819965608012,-1.4379322540333013,-44.28346574977597,-77.95151359532137,5.433753580332568,26.81784725072057,33.64245578777231,5.169355571311159,40.77826826544413,79.34979118339191,-9.873140243599874,8.154406685042018,-3.692698674832727,3.7006405349589078,-4.1438350311134124,16.567491066969218,12.848743491433996,12.159016390149597,-20.843834979808804,-14.937194608434572,-17.938452770732493,30.359327107343105,-32.43386041055255,-121.02792872692977,109.48124398255428,-0.54523801856834,37.66594543442425,-11.824743583865057,-0.11767819577345619,-0.27844636568109743,-78.28350891520999,56.56464927779365,-45.47570838730852,-4.974594087549931,-115.98484549590289,-9.31235395727394,-9.18653971460926,9.752531169207618,25.07598088351801,15.378461715700118,22.150840593556268,64.74699427994823,11.736060212119309,13.547204759875243,85.71022739878696,-11.06783930784114,-44.00890142650691,-35.82830023481984,-57.578589948186185,37.99068288998805,0.0,12.276285687789276,27.99337931765857,-4.053215714852633,10.891643211829985,-3.4952710378490304,-12.247443059594577,34.983319470294916,-44.24784891529724,-13.482781865467304,-26.874243092561017,31.041472286069848,-27.199168965065205,-18.68810706989387,-1.1499198459559095,16.0000412031216,-17.19292053931167,13.050184818885633,-15.521005264214468,48.48435897708828,-16.373200146342832,-9.014501725419496,-42.065403197948775,-0.03985727099337697,-11.063157632519975,5.1756752635495475,22.777861909418874,-10.980520564669524,-19.707275594853748,1.5920733258828985,9.086027564148962,1.5036280292769135,13.917689783809944,-23.899053775935137,18.68775514996104,-25.77732958666827,48.13544069046016,-9.635195906462567,-26.692841841637563,4.611325872305482,1.5205364144064641,20.795461468477303,6.586121235073834,12.858333984033253,46.83269661648932,54.065315510263744,78.85034645172973,43.268548012028326,11.721660618633392,47.792080856303635,72.40304017892389,9.995228479664378,6.570979111588196,-7.297766813514096,123.25739902158018,-41.87429229971951,7.726274317362092,-10.227645942297466,1.2935028418635228,-34.90061929310492,-87.81010041992039,68.45285044810656,13.08471964824315,-24.244234995488405,-107.84639329906277,-2.79559140094507,41.76123830430924,-4.746083575952075,-21.751533359580513,-16.791883804483348,45.80960024854582,34.80022956513874,-8.798387535869347,9.295414782681352,70.75508782797213,5.012536617172911,-108.31287704233698,19.997260872191404,89.23857021314544,1.1629465309709923,-15.148650993978864,7.5904721344983646,26.19906834067581,-68.23126816172035,15.244649009638858,-47.57376480600391,13.272623884550569,84.32218315089709,-50.973267337381394,48.91288019799079,121.45329958692406,-6.404568907830561,4.372068065198005,-1.398663801725397,-26.95830181269744,-28.411875321533106,0.7254008613897258,9.632037063953243,2.3146968074650407,-12.75240540453304,-5.846910933016628,2.042683182891317,-33.11480378332033,-25.641435001754814,-16.117957187732387,-29.51273220015492,-11.378519993291722,-21.181712692002556,-57.58972744721518,-51.898621147961215,0.0,-7.26623368575948,-14.820716656506447,11.933993658528655,-8.645129092849993,-7.5677325272094365,140.30219967634488,-28.161503184836324,-5.183740562053742,11.53363016126045,70.21129661236522,-15.641689672391818,18.80097492892741,3.570845372194424,41.05737958854552,-14.65579453739258,-22.50936496101597,-208.18620151415283,28.566658303151822,2.9372039143339004,-7.254677966663048,14.842813328889912,-9.072954689502119,-116.05159312360722,2.1838150931083287,43.99933976924259,-1.3787290527067444,4.138393513719919,4.128268329775872,24.781871247238662,-26.891623543534543,-30.661219030017744,37.697538870138565,2.570263039203125,-10.755328845079571,6.455927957134053,70.39282482278816,2.010468611223116,17.965245772657784,16.190851242840072,-71.10087126856304,19.241805895947685,16.192542374007324,-3.7033855044205923,38.61343977281674,-61.24139451525017,-93.70475178798245,39.95441407420627,84.58305197217365,20.777214766527926,57.97380574927909,-5.233143584818375,34.14242568800287,9.204723001623563,77.22533906978053,1.09160020571394,-10.401420534374765,31.726202881749465,58.22624953402016,-48.72205449686702,18.188123036084598,-32.14343474880317,29.998947235827103,0.0,-39.2576008259658,-22.847143284734074,-100.11847747727869,1.911852684788281,6.934252433902198,105.3767979018469,0.16480058920247512,18.203818302509536,-28.89404294188278,18.942278970186702,-48.90169657915,72.63475648111236,56.54185873450304,7.885585333378988,-2.7725629596060104,1.7722544923528243,0.2707489192209382,-19.27903152499208,2.627386324428848,10.759000392989595,-3.3556429323064623,33.1126068370628,-52.603786485790685,13.927597320416599,-14.108668221178778,64.3677131700213,55.41532251341784,-4.856177462446987,-27.556793462828786,8.112322922874142,10.863770676905524,-54.76656015869537,-36.27480413325034,37.69876366886598,24.98814690722956,-9.43004031498146,3.510753278110182,6.118540393645711,7.362960772625936,29.13597856042616,-18.377920078959463,-6.623275100615648,-13.92821168906075,-36.62318563966113,-26.86333506364244,3.1715333442894877,-3.3294916882201897,7.9159492213226645,-16.87038697399537,-51.392288403083974,-11.102718831756215,11.07436549149379,55.03535058142308,-29.8536404699629,-4.032005573404956,23.75153303274383,-2.7460235146278325,11.999916127331746,4.859894006606762,1.0916967823149848,-2.029197345348004,43.344981419125126,-20.30675105522814,8.731385067193637,-7.050410849616752,-8.14311729214181,-22.76010098322884,-84.51395807445273,1.7712651994293622,29.823374243702517,24.586870089927196,27.117213542268157,15.93811749793761,-27.79228399058639,4.910207949152323,-5.853082720674834,-56.22083421531495,36.579977591194705,73.09855762962151,-0.04856967208712191,4.2913642819586135,-20.501188435168658,21.465923801761544,25.516300714960813,-50.973219464216704,-43.93590798806438,44.816792507460974,19.267930707188274,-38.37559047963715,6.738376796397022,10.397608698908412,-28.875926350167354,17.787292888652313,-31.54757681782905,-32.186965617337854,-2.5749324857949274,-1.9532913917115122,-7.689737898562311,-32.796639704955005,-21.954349763431136,-5.8840122610040995,-15.723377919179978,-7.367944111078914,-5.044632492963593,-15.94811787259522,-20.677376918998444,6.116736399051172,-6.487422814026096,-78.02885137144885,-48.90348564046448,-1.7588681486830609,-10.44087330818682,11.883068812494917,-2.292566883173579,9.38599212659214,4.266610038342287,31.504176125657334,-15.457415353657339,-31.94359501517043,-1.5178471512070981,30.628906111005758,13.415508895018833,63.542174226987086,30.132834972947286,-4.994300412590148,7.586650644802926,-2.838097470174669,30.079012238966843,-36.07846281762902,107.73777846725908,71.00017736144207,4.495672316139333,13.185262835098106,11.289963041600721,-36.61573966050128,37.097692545718786,10.918280407764867,-39.22944739612493,-10.447452083279108,24.387769790822034,17.46022575836775,-35.07460199437887,-18.946518056368113,-0.45308633599276976,-57.337082483108716,-31.619570644154887,37.3470458529931,-7.199460022223034,62.51071492633072,-19.6794895234578,-4.435946368566501,-94.95213730032484,22.86647165145917,0.6350512846389791,13.785603862202974,-24.979396584553825,23.165597809487355,-19.73144306647818,12.280632633672123,-34.13321743891472,5.479886702549386,-40.863259497103144,3.503935300358145,38.28970464469113,38.8767777593442,-6.796271200958585,-3.2759743581320615,2.672815819441274,-19.492939552518475,-39.39689879885833,3.346980708175134,-6.344483620702573,-29.052754088454275,-36.018079587813816,10.05144200729139,-31.222513499019684,-61.71034972025559,34.48525576289621,-29.815498755460283,-6.504588245335226,-46.1255834260696,-28.90732194267712,-53.75240155180575,40.626801665730326,14.36754230445598,-0.11835640807817836,1.6748243854432565,-10.03790569198199,34.53918294093724,1.5965787516472745,144.95067055560008,9.224465288666257,-91.45730157319221,3.382934839710014,18.527679999353555,-22.450049870914725,-6.431553477394871,28.83805980947532,-14.483330125960455,-10.525164802874428,-7.220917728057924,-5.329029298686545,-3.208213163175649,5.580762113829743,-1.5882515012802538,56.07153052970476,19.96995411261194,34.46782701284447,-10.256346898177688,54.72121488710817,-0.7379142426453744,-25.33144286436674,-4.304935276223846,-7.1600630170883255,-62.76457857320117,59.7959886909446,2.2452306325318263,7.576958183210506,-7.252688641120281,24.50499834048049,2.4281654630093077,29.16945910021352,69.50938027569302,-11.123997151398326,-3.2674393849636827,29.579419060492164,-19.239068190931842,34.066806135398565,-17.403664123987216,-0.38334859133564425,32.58507817816267,-0.5984214630460184,-37.93758558029163,30.999417703136885,14.457435186956026,-77.99191933851367,2.2823189790644287,-23.857060357051793,51.69142246961692,-6.760495556124026,-39.95899514472101,29.228847413753286,9.729009044526112,-23.020777014728836,-13.606640744107628,10.887564601036901,-27.07991378930789,-1.5128464406882973,2.461459708355534,131.0027871078406,32.973870129712935,17.902388302902217,38.215764446104984,-45.53966360858736,-12.556093586486833,-13.000242224000527,73.36965747050718,-6.261329495871963,-16.859405945020207,-16.764396299955006,6.826390293979666,52.27758097015565,-3.206625632839836,-0.9560553836937794,-29.79323444165429,-30.528121705632476,-5.842999581249834,-0.303426048112797,-3.161076433926084,10.218903469523157,34.026280585693115,-13.439223900713891,0.9189426423240062,46.44561244252556,-46.96078364764968,5.31013887856293,52.61090002882903,24.793762526002944,2.735158214882993,2.920629821542104,37.31711427878862,-22.80004239280001,-32.055392447106,-76.8620207256563,31.87168425925248,70.98031025039519,-34.852200058956406,-20.928539722923244,33.56948747914605,-6.055216047321354,30.496172507676402,-3.040286127186979,-88.3156205301024,6.504389957353692,4.5671794079532955,19.461991854944014,136.74849843987482,-79.51830117408798,20.455478940306307,16.33295415123389,18.93325564889049,-35.571436796839876,-8.782024585955131,-74.532520816523,42.01656624361426,-13.833856702942748,31.627724996923405,141.9594595736093,37.21650121292107,115.40433762332826,63.52669535781643,-40.747505517576,8.785897688398869,3.5628157560956253,-3.1534623140516835,45.783373425455814,58.80417627133584,-18.95735383419204,38.14510627329592,-30.747926680067508,-2.470884897754334,77.78273322829128,22.24246761260104,14.138978875823536,0.5171687385556886,26.035721468432673,-29.088349060061073,-17.141963282099045,-7.3607491357539825,9.81759473012847,-8.348222193077612,24.97868768074457,-1.7373296770677158,16.8585991423747,18.997857738733632,6.9299651919906005,0.0,55.292778586216606,-26.763354910430095,40.35371046566351,11.37884894481345,-12.300833757820602,5.680120189596133,-0.008818948697553248,4.750471386771679,-0.8568978154578732,-6.156974487704531,9.647781612381284,20.23764137706239,-23.56936089107583,-14.133874679029812,-5.773403905929675,-2.3151782184055096,4.400567674246265,44.92017007459488,52.239801046825406,14.937798275196696,-37.986882680847934,-35.118460573644875,0.6543626404475836,-22.683044722801974,85.31661947408871,-18.22232182456367,6.149339674245578,3.320247352142025,1.6122401162647557,66.5030417352153,41.98967071768915,-41.40816344837222,0.0,-92.42238746976193,-0.5863692167877067,-24.959247448334743,-83.51696622512219,-13.625735087202633,4.566582797111083,39.9471856150299,-12.496738211489756,0.8308987523642523,-6.260121466724015,-57.743043563625974,50.88682918954761,12.318992658541015,-35.317211564878576,-44.285200933650856,-76.54208164605977,6.734531872780682,-32.587209410128786,-13.10575847032036,-13.188212197302532,15.303101924852562,2.0839094864962506,28.887796942362513,10.64596511559633,-2.3615537058661737,-16.623557186583025,-9.052946368198771,-28.462154529713597,-11.260767521087924,106.34041432813906,12.76578917860537,31.47397809232282,-13.279535497054253,-0.84492020526696,-30.18308273323585,-20.285908948711203,-40.494917336533106,-59.26163660211936,19.461247741897328,-36.61335226275812,36.03769572553002,104.40972564381123,-11.644000951896343,-112.17495859731494,-14.389313655904614,5.542844109306253,-10.973761811663294,-21.027365713128518,24.130568233516513,-2.8767399868401844,-0.6834646485150089,-43.76775559010371,-93.5858821662258,-15.943171889598439,-18.50913157701575,0.3818144149664537,-25.117090545207407,45.48462964454853,-12.317433081454093,-35.015626083528325,20.534328812307624,-21.190183460555414,-46.213132849937764,33.7669878281918,-28.246606150513657,-19.582467562165764,-18.172987810383017,18.62850944039695,31.801703123598166,6.565246329829484,4.0010583627999585,14.351131193793643,9.040874061124494,-0.2392663567421414,-29.058573938416362,-27.478782213000844,-48.31839980169695,-3.6082429103390328,-7.789185159157135,4.909446698383052,35.02433003803394,118.23951366761908,-2.7083338206186487,11.351377433817786,15.770064355595524,-76.54569921348285,-9.99821012898394,15.01179405607914,-26.810132919246264,3.893176934495222,2.5522544987348263,36.47383095164438,-106.04444995420697,-41.27692240839787,21.578009571767463,9.84221891395473,-15.426402452665497,24.107995341629813,-12.921433814290912,23.05295505082683,5.2884691478409644,-19.3508593162121,1.640836445875471,58.1118108266088,-102.11059183140291,-32.80533498285095,-23.83197470474465,-23.295985365674877,-17.870760700561597,22.09947201803689,49.872720912096646,-44.45968890775727,10.923070006930118,27.167577860628413,26.187536368566924,-37.10029040542342,-1.2545363781243744,-7.4461367296688525,-0.16883368424551629,-23.65093409315357,1.936026074964068,-12.908986622106527,-34.382117824274076,-47.40802508957701,-54.117742285233554,-10.378104630233137,-33.99965901133872,10.846930668194192,12.28346808801842,30.80800605111277,-5.577868614195554,31.400571984466826,6.4192607335487155,97.44622823968376,-26.217703481961028,-27.28723330553467,5.110694850121149,-48.958918848833875,10.887571177009484,-9.903782037764755,88.85594265221604,-4.793276680039396,-36.10228536456149,-6.37484\n\n*** WARNING: max output size exceeded, skipping output. ***\n\n5,3.5412864105422326,-13.683084722505829,-7.329237147458201,7.678535045335217,11.378522225472567,1.4310626053426194,-2.140059264591447,-3.0506817989360124,-5.181631893994329,-5.093557254126874,7.523378611977599,4.1954208732041245,-1.1520470707697967,-0.4505315192806136,0.3220859738038602,2.1519087358823494,-0.7195927125882933,2.607824679302296,-1.0596425478443294,0.4081738239313826,-3.1605519758570715,3.6833463975536684,-5.875807577536965,4.31015962502981,-3.572313563418652,-13.451421676075405,-1.9620035238414033,5.642584688773828,8.191024305830426,3.630777718173292,2.1328444508515134,0.9021569442731799,3.1812183357862387,3.952970031549488,-0.24318675069260287,4.266550092544362,-12.523445791071538,-4.045631446460323,-1.29717617426835,-3.4307019998871273,2.0136213071282225,-4.334674705443872,0.26508121386507366,-2.8293398103992398,-3.3595585030888855,11.9381695085875,6.484552054538825,-0.7979488549977296,-2.64456102254184,-2.424320977380464,12.675608373489425,1.84189597488993,2.2025017199288595,-12.610451463541633,-9.138378525373353,2.2676943943425227,4.607142123638697,-0.2998874495295331,0.8743666021775939,-5.242176110080372,-0.8434011292668272,2.423827462165512,2.2734152978796556,-2.2158784292327693,-1.914467986738657,3.6605594682052414,-1.8461999186707974,-4.5490348105921985,1.4575842743141003,5.987790309423164,-8.851244899800088,-2.097961357969942,-7.456211140933855,-10.179377108393718,-0.09754947075028791,-4.834026130972637,8.013495363740105,4.583894805877714,6.996600636085398,-3.8936085004621437,0.7005153259772658,1.1110455225222042,-0.4204126981957365,1.6688877080517783,-2.2370245961219104,-2.8326580311332092,1.5234407880196308,5.4641995875403415,2.1507668020640973,9.697259881446918,-0.5219248650829659,-7.018356907701444,-4.830441899475424,0.7883476098163571,-4.406117864190667,-7.781494064807951,2.9464686271217264,2.735833517113141,3.9014211612919016,14.684130470983717,-4.703448776602564,2.739057349801206,6.718875658224469,6.7006878469811415,7.851412391349153,-8.091849145384828,-3.810099525403972,-0.34899688760840464,1.8042918844755593,-1.5813658326031759,2.935683594505784,1.7654474083863883,-4.155711746474594,-4.60595426479535,-5.586301111270038,-6.6775370635587485,4.962584413767179,-3.542735147252243,1.3020864204597047,-9.760512777503703,5.098506562482292,-1.342247898898936,5.869284011124896,1.2577822262668574,-6.411939307636293,9.173198909081943,3.8359956540938165,-3.130903503739484,-7.601145137989251,2.4357401327121977,-0.34261079995592586,-0.4043419753001036,1.1535608412371388,1.4895895870935554,-5.389644708553176,-5.409441691347114,2.9792585281326542,3.683298239391994,-6.6199376085858335,6.005450035116451,2.3287858247896307,0.9563877611044566,2.5500511524083613,11.874713926093289,2.795692096952401,8.055716150110914,-0.3310897062459228,-1.3618907235380404,2.4946967576438364,-2.0692113789009783,-1.4247741984835698,-2.8035584367955306,0.5532529356954818,2.5925151068128462,1.6481925413393341,-4.362137565455559,-12.485759394279766,-8.474171094186216,8.573217571971618,-7.899615247258988,-0.49498152034018744,4.6317921198574705,2.5457349795856734,1.7226142175746986,-0.49636904770125867,-4.312295884063731,4.220857142332659,-4.177781373369834,-12.175814007701284,-0.5747864853219105,10.159231411488436,6.379927339987233,-6.355061023523121,-2.3524451655139402,-4.878878135073885,4.938838766835131,-3.503401270489574,-4.224544401364089,12.214668946920357,-12.587652069866433,-2.5249755010182824,-1.5750214554718525,3.463146540206576,10.758414659317317,-6.372969275018858,-0.28217743822520336,-0.45034010961920007,-1.2194263149154803,-0.20262821201079093,6.486921655537064,-5.792226275688879,3.129286640777935,2.3768161754045347,-3.4696876779393113,0.20488409969268084,-3.571786583334013,-5.424452979916229,-9.171455087159451,-1.5482568646776946,3.208808227444541,5.770261424803052,-1.0383445784944012,-3.4045590646379935,9.594863588006225,-4.124482296694527,1.6573307153636365,0.8878928677071511,0.8955941287868756,-3.2077006142580133,0.7369978286279422,-3.4146362476110306,8.538592993247656,-0.49073402014072726,4.054754917853916,-10.907673574026598,0.18517388111745955,-4.592891910801169,1.6231157272421213,-1.1854770445572707,0.023879041296119206,1.9930464886077341,-7.342767801057142,0.06616309033009196,-12.846140430626859,0.12314497549496072,1.1813344952984974,-4.690022512313109,-2.8599874589248886,-5.31966050646683,9.95874650599271,-15.061070854731572,0.641114616778999,-2.0778339817848495,-1.6640268560322593,0.8660291593101618,5.168718786005994,4.680107460094609,-3.5842822072613374,5.602821980331541,5.6144064611066336,-2.0139200406860303,1.4986805611721439,4.4820190038978245,0.9767728296946626,-2.6278990091381504,7.4676321276142525,-1.8546927208128845,-3.099559656204818,0.7422065143934818,-3.061332824022209,-2.300729807405384,-1.7065874750176153,-8.554804110716683,1.5766618948284021,-2.7327463281953213,18.875469895103357,-7.297067391801089,-8.614304011987027,21.898419015310388,9.062143383042189,-6.883978347441287,0.4783835745732325,5.935056352174245,-1.7562594887937193,-0.5016839281942621,-0.2290776320761574,6.678199969960788,-0.7307779370346833,-9.250651467139154,1.7589280461362957,-6.6625209545627015,0.9097174746868781,1.997239313316159,3.9596112637581515,3.810435303263975,0.2523329126003928,4.548915156932054,-2.465708387711541,-2.4328355823697283,-10.430735005163257,4.885775375736305,-3.9079557271849583,1.9035426964213138,-1.9801699406076727,-0.06622491964522675,1.1920434674822877,-4.519854382487214,2.8821081570458555,-0.2631194759887026,2.874505306008315,3.1982350014968866,-14.609851560838388,9.365933270298285,-4.365372173163838,1.9436227682879637,0.27645420675662535,1.6164291039940324,0.19041552859467725,6.037377437519916,-2.355779902802101,0.5746909366412821,-5.933989896230656,0.40985359243285663,0.8722945491472548,2.8284631423654107,-2.2939497886637827,-2.3013251714671408,-5.386688677860197,0.8951454643400332,-5.497795979663854,-0.6199325831215652,-0.0498626804544134,-5.3691208331680595,2.1823531892562,0.7408099002921401,-7.598726151200093,0.143513660222331,-12.277987215262359,-8.248544796880802,-2.2043432066884514,-3.137794344953825,2.040464950469851,6.2107516895433275,1.1581081069458703,3.284470821254976,-2.474415655433439,6.959456386179317,-0.49537016901168707,1.285739505431536,12.907899658491269,4.6362484910028146,2.781448089092772,-1.2595042855914298,0.263988674268977,0.3157272210851288,-1.2140369522310217,2.4752411725789707,7.217332740469799,0.6375649353222963,-3.6811609120132687,10.610689541367824,7.091967309257951,-1.124808548641429,2.392236811082739,-1.65112426120551,2.934157404732335,-0.4760780863872583,2.361127686103241,-4.629832675244376,-1.270298686627253,2.047663163054181,1.2306300218447441,5.0203209579030785,-4.050048338982023,4.14678183665376,-9.659460952997469,13.761511072582675,3.9611154602214236,10.281050086047605,0.0,5.142197826629942,1.5787239717576078,-9.08228670241594,-1.4364488143958254,3.5354831650665446,0.5203294250367899,0.012135138527908512,-4.01840466818934,-3.383023151705436,-1.2630941505473088,0.04656451471349496,-0.5499994215833147,2.7276376646450715,-5.4205934709972485,1.61306865780785,1.0785984978189727,0.0,-0.9553071541064267,5.169835797553444,-0.5877981039711244,12.513007894613853,7.86784244130045,2.6277017908785787,-2.400527381442609,5.13961028855423,-6.755574882031178,1.8184086035860616,1.9312578420075228,0.0,9.46717287780179,-1.3624063874961323,4.772028998542019,4.9050017919348115,0.10323955468835806,1.89652282567331,-2.4695283926177645,1.4360903500310995,-1.625364409884855,4.686722004679286,-2.5388783303829894,-0.6050814921544171,-12.557226242940182,3.9003912853720224,-5.376960256822557,0.6086443410758444,1.8697618319775198,1.9677777598276962,0.4767447863252109,-3.524426685480148,0.17698558404830494,-7.367884800388814,-3.4128217843138464,-7.329256827057159,-1.175028478651333,1.9423626638292797,-1.668726479609789,1.8017109679638146,0.0893939193862815,0.27552746815511264,-4.937912837724225,-8.355095582837912,-0.8464330159606441,-3.264328942554587,-1.2688864618345215,-1.5385529231676853,-7.60229516328383,6.8305498656719,7.090196251696751,-3.3271814916859435,-7.366178848853586,5.014538267990942,-2.246481087267261,-4.150318141473602,1.636463837198545,-42.75103644173703,0.8176639133794134,-0.9817476977006753,-6.847947532858342,-4.753333884871354,1.0588994518260582,11.754893569873305,-0.4766260760410108,1.3382422159956386,-1.4272673162613427,0.0,-3.719503573168127,-1.4857628013909265,4.783967572047648,0.5481541385634816,4.5385630551036575,-4.3766467693652205,-4.727360903225813,2.4740149307200188,4.658838333979801,-3.6429036341598895,-2.173241727519295,7.385082212820299,-3.752136334451519,0.0696646028532225,1.3404771351372973,2.292286973642956,3.4564654006651727,6.455810266265553,2.132581811276063,15.174485150351316,0.0,0.41407226089326504,4.118159394157547,6.681975435880887,1.679877625533023,4.358645384651866,-1.5482019185937637,5.400583588700165,13.077134079660725,1.651388078387832,2.17394175716588,1.3864209862845822,8.737977162738781,5.4118181547342425,-19.127065134538835,1.0466829052751463,4.63812581022605,-0.3100163459864453,10.499696837316298,2.1589537266165006,-5.871147639644062,6.111721149007384,-5.946124648009053,-1.5825148348412794,0.157667853456457,2.7273350374207506,0.8898877856075623,-4.832997987999582,3.6954238099801473,4.777796332907602,12.578118320466087,2.2945833985638386,2.2419353671064,14.798790355244895,6.369819044716796,2.927576023585043,-5.950354323887461,3.312577713874279,-1.7567931362412563,0.644191832988598,10.503089074013587,-3.856958995194901,2.3168986438976154,-4.8510978094539245,8.04782227943842,-2.571522540149051,-0.17123046353782337,-7.768045191705158,-2.011570085124536,-2.208254265091796,4.436237076340805,3.7206692591335204,-0.7367293096963214,-0.7411935894964881,-4.083667630638616,-5.8084214863632955,-5.155085393094555,-1.9557239729248843,6.486638901248926,-3.4181867738792535,1.7040513839262192,7.530264217846704,0.43799194606929565,0.8610569588108821,1.8507400779761976,3.9981514661951736,-0.04127541449482969,-0.04968522861418898,5.183854820207759,6.03619521519616,1.7055645231099477,1.5145672687620653,0.8994213693322061,12.696560518399938,-12.252377689339962,-10.184017201217136,0.8556129600361555,3.742587958153008,2.228438492515324,-7.09714350697646,-11.07323011488552,6.708023298744338,-1.6121924355271189,-9.06739275071616,-3.5782590867567965,4.693967940244676,-1.4138757225087786,4.876301326611536,-3.1781184060473997,-2.532762711534988,7.159405643201632,3.894061629548039,0.6640871691528571,1.9429705562303627,-2.7784432766907026,7.096493045908304,5.711083165954636,3.7454187737580464,3.0193438713191965,-2.687831522236048,-5.796703616527403,1.3429221711887576,1.1490139203425904,0.9685527231974893,1.953859512183172,-0.2096367313360435,-2.695493395343028,2.900631316176942,-5.441827205270733,-0.12743616662609306,-1.5432950067866715,-24.214019541339344,1.4771909957289486,4.99176409664817,1.6027065793000475,-0.23272358378129082,0.6066630300667798,5.6144125727429595,0.0,5.657799142339019,1.4472683542105331,4.718208711395405,-0.846109558841889,0.577050868623384,-2.8019316180509577,-5.487368893356976,-1.2831698207330475,-3.3073977325431563,-4.849887339999604,2.6881207023060725,-2.581601036742383,4.666539364525994,-3.616526502483196,-1.0016849895923698,-3.9286964821434314,-17.234094585089682,-6.635958947112318,3.5566036935934937,-4.111622990009667,0.20537501454865162,5.081006799304921,1.5049189120820219,0.6250773909497481,1.0188842885455345,-5.7950257858068275,-0.4233952239706805,0.8984539490176238,-2.6927221080300474,-2.328145992074111,5.529303679672569,-2.552324026400138,-2.936751061784561,-1.20843537615153,-1.7599915368012424,10.356706947950023,-3.209683009264677,2.8202013101903476,-2.620036249720791,4.179662186257599,-2.4507023825651086,2.040463947633978,2.027214272714033,2.0053888999982017,-1.9458398307015339,-2.5965095589912295,-0.6381491414420503,1.334848354698382,-4.354612517883184,-15.914307750550131,7.8127440661839005,-3.586864440136805,6.106373201383664,2.8061835164858797,-5.80455252987109,1.357580605263403,-3.407664688313655,-5.867174018476134,2.7575128478010034,3.292994565094564,0.0,-6.504397201489661,-3.687995599266146,1.4226141451419199,3.477845642259906,-3.0483549449233998,-0.41393959982275325,-1.1623996269067332,0.0417834423000075,0.3749971804510711,2.2614677300948802,4.359622496412809,-1.2303124273199029,-2.0308606268570304,2.0324860556047577,-6.6791538468454785,-5.709875198731336,-2.2729436349411474,8.170549627312994,8.856999789107567,-2.646274412963434,3.8985718289243794,0.22061613970514332,1.1938563418206314,-3.63657206270717,9.577812975873886,1.0800942505070619,3.029537002008051,0.2786854519131063,3.7470476667467874,-1.5454690160889863,4.598497344325678,0.6269626863049664,1.6039986766836998,-4.960163990222748,3.307311786492075,-6.471918936846856,1.6909879996795762,-2.414058799303644,-3.5257292524177055,-1.6610141868188082,12.252629165197712,-2.3539693653540263,8.542464597765129,-4.065257974548945,-0.6260184620017193,3.4260051782962693,7.87241264722288,0.5721877986859232,7.412830889100722,0.41702510335132503,6.288960855487078,1.1553019823157467,-0.7280297318595089,3.042932322956674,8.918027490413118,0.7542586215455106,-4.229838668294957,2.0655517772992145,2.1639202362130394,2.4652840159810143,0.0,1.4052538909772692,1.4996835148160106,-4.900951911260266,6.8755507054669085,0.8935823947058209,-1.714839075093211,2.0582108946569053,-0.9532312103479867,-1.7896691044653779,-0.09120116269593381,4.402712126969764,-1.6560807173293783,-1.7212816648846894,0.0,0.22037610614440986,-8.59204741844604,-4.609127727943466,-2.8216564947562466,0.0,-8.998332041824646,-2.9729628619237203,2.141702156835882,2.0657784876242413,2.788450110397364,4.9765901480449815,-10.043369736136189,1.489290521897662,8.553083034037833,-0.13689773536458125,-4.916055932559583,-5.488154909130915,7.076772053505773,4.095993382536484,-8.549608443769356,-6.224338699126207,-2.1586035135799677,-0.28004420081928,0.10093833444297858,-1.9020204389632667,-0.2613671470412903,0.4759958984665279,-0.5356381425216041,0.9858297335025772,-10.723855694872505,0.9650098275669483,4.097502321299955,14.803798020947033,-1.02124627132845,3.1636456775743893,8.544643539766698,7.198627602376993,-0.1232341737370194,-0.7391731932592825,-4.73644133651024,-9.211605485586267,4.422406808847181,-11.075867239911293,2.8902364424475158,3.974790324931175,2.809459403912083,1.5275687758202994,0.8252516480554041,1.5317099741763294,0.6163582866728179,2.22478246695452,6.3717255949852145,3.3152544526223964,2.8737754202328185,-2.8266799493915884,-8.776415394844921,-7.655453179045601,1.2008371852281723,-2.1472834976888113,5.222306823684804,-6.507172133481938,-3.8365626154856094,-0.1715423880811083,-2.9611604488974153,0.5185080970670805,-4.647974309938809,6.240806298880158,-3.952503296325361,-5.393746896257364,-12.269922929448944,-1.8639553579579808,1.8284872947813922,-4.897889868083573,0.09749265345147604,-12.410443855488301,1.8796622269288668,4.076452999386757,5.095083636721697,2.169834118566703,0.4891018898843607,0.4950318338047946,-0.11636955547870279,-0.3222884761273742,-3.0980963795890997,1.3301548765036686,-2.7596036963234845,-1.688069574085924,-1.7008581588330132,1.4923992540491593,3.752544387834783,5.828597952230501,-3.3966375114558702,-2.76720221680072,-5.732519349862674,1.3556425274207424,0.3109336516540022,9.230941166708513,6.632069286210181,-1.7306052121062105,-2.6585795911713754,9.416346663825475,3.1898168345415976,3.309514151876143,2.1188704737288173,0.4924352203126372,2.584690682988639,-0.7495984816475431,-7.328138091693749,-2.865797975679981,-6.15157762373924,-7.4497460353616916,10.87338036307613,-4.545335693349504,0.8918627270270298,10.225530442971033,-0.27485926415373235,1.2774793037626233,1.7941997908834286,5.027989138458498,0.0,-0.9251302283959797,5.791813120635133,-5.197671226311797,-0.911523163974899,0.5335703389896912,0.888133176403654,-1.657202855215538,-2.267691081838822,-1.3427127549515459,1.8075572521521643,1.402270309952787,-0.09638478411555154,4.199779273286676,-2.6084652410035596,-0.02101384102265361,-1.3384713717189176,-1.1124600005450436,0.4528071028896934,-4.783769816777665,-0.5604677083720196,-1.7178471578587446,9.152094594425991,-4.103816195635532,9.053088509123608,-4.124342966009111,-1.1329107185278708,-1.2231796047659942,-6.37135972742614,-2.5385378597087036,-4.251748057961081,2.976810290527377,6.3871538209575744,-8.70392535997476,2.8254566825728835,2.091315753060359,1.917221649783223,-6.617255171902098,-0.40858814457776865,2.1753165115575697,8.588798240683179,-6.119198841547121,-1.8968114400582972,0.675654774831143,5.748506545522184,-1.7627254727688133,5.433866902563474,-4.443618318433361,1.356585702586214,1.3791466387674296,3.934163690383144,-0.9926394528071307,-4.911028100261339,5.2677745458316965,1.3131387805943828,0.10068276866133906,-4.2267131219798735,-4.609709567817606,15.801863180107562,-5.979912470090562,0.3050227863915764,-3.18976585066351,-8.27788904640031,-1.2131626200038323,1.4672487811507902,-6.3288456217972895,2.708516852753164,-2.2228593360103095,3.2178492800994576,-1.837499880271414,2.4758656496796467,6.386298167956298,1.126293366538897,-3.2460201682854724,-1.408115748989552,-11.124774149811634,5.587450576477053,-2.171933006795995,-0.5921657834958362,1.9746835298202745,1.647686954099086,-1.2190248328967064,1.6317151269211931,-5.434489996359673,1.50118817054628,-4.940880044074513,16.69340806245583,11.497881197140863,-0.08833491293252486,-3.3552193610376193,0.6556290351451369,-17.078881691371095,1.8926271308442792,0.2563106546093323,-7.381085771384331,2.4153445251521246,-1.023174403372371,-2.6684960237955107,4.288390099542347,4.502073462383265,-1.4757977715472756,5.9427325960525375,-0.9268228980664235,-13.241302040753038,1.871143005376293,-1.4467714484392438,3.7321597456514333,2.9654092930835887,-2.7374933578853176,-2.742858994329438,6.331327800155473,12.201403285758632,-0.1025012787626762,3.747181188849403,-4.848177456432459,0.41656437281258146,5.642679669840987,0.34846600590731847,-3.726827606193226,1.4570735007356987,-3.128453281826377,-2.6430985622506333,6.386763341961684,7.022361277629182,-8.863975742917905,-1.613133079543642,5.234355673609058,-3.6880692128314907,-1.764125772829613,4.548155876127217,-1.0590420138838883,-6.936630212815191,-5.6690591352119934,2.3823415535691623,1.7723708283257897,0.0909172767444475,0.04633547809358862,-12.58840672375419,-9.447210369135602,-7.443186565803221,4.609831130683361,-3.3410817376054545,3.5700308191972,-1.7832199076790787,2.015173668896974,5.144554052993424,8.78537413332281,0.6427073972109593,10.543418794556793,-2.884503192800125,-0.388300831737373,6.2427044699584355,-6.927111498371735,-1.634225916224845,0.8724598220634894,1.3678979109055334,-40.456673744733294,-0.06169685308344529,-4.690339924796422,-5.726141972766123,10.622707267684156,1.6555122295564106,10.24436435311815,-2.153696458786824,-1.8263604073436799,3.46851684327671,1.7124266327660633,-6.653886524058511,0.09113193088231154,3.308677076397008,0.18409363175464405,-2.253176416622902,2.231879875147558,0.0,11.386643090275795,-3.2987315100639623,-2.8709666877254794,-0.19124066076763488,-4.2522669483732605,-1.4130552800826328,0.0,0.3059252804951699,-3.7866989097314128,2.381034066944127,8.252476547421285,-0.08642522625195813,-5.987636164554137,5.788225733924312,10.408118118544532,-0.70733950069315,-2.8705423139297026,-6.340817313211585,-0.7799830834092816,1.2561473372176855,-11.019811017757668,-1.4064403331693096,0.27208268432841787,-3.1392639521735983,-2.5846851025039,-1.3674685739107906,-5.7021653233560095,6.9531159635042785,-0.49425721064163836,8.110426714414384,-3.4751507009585203,6.930198856994003,0.240207335801586,-7.895492165952326,3.7984387790548997,-1.5174272267351752,-0.4969422942620113,14.189120443971097,1.9897688027973848,0.5664040006301645,-3.1590654283911896,0.8246505185840085,0.7817993412689014,-0.42310513029471125,5.685901887661509,-5.954711289522334,4.688764998474403,-4.805362818075874,-2.392791044171307,10.742430943206909,-3.78700788965971,-0.7778780307699924,0.29047293659452916,-1.5081720637434224,-3.710598564570515,1.8322012309805178,-9.653553147690653,1.8556791934772494,5.834753086304972,-1.0448196517977983,0.5266703028361601,4.93484680199101,-3.131028064379907,0.02253620541428364,6.160796934098626,3.7849868342250463,1.0223711165021279,-2.037120346658694,-5.533162881978444,-3.879091110097931,-2.1322190128101477,-1.7267454657751937,-1.3147757163799716,0.461388482252784,0.8230353349291826,-5.222802105015399,-4.264039819816509,-2.0406340796588993,-4.0296061879363245,-3.517561048076849,-2.7841627808447065,1.9799248347612035,-9.905044739004817,1.406993038266914,2.194871426150525,-0.29514933093566176,-3.5559131974886666,0.19041119956807467,2.9158784141645704,2.4292317236071743,0.6909090575500346,0.011127631104958765,2.9289129553585833,0.3075465673071253,-3.085314903628581,1.1733693329262445,-4.900639488799663,0.7297782926651173,1.0386585069607082,-4.5149409418351425,2.564331084126229,3.6082592438164824,7.623553974014658,6.078270536742707,14.920635450785994,-0.26814226643145694,5.616085899746049,-1.3119647674739856,6.116448593337968,3.2499916011722942,-1.3982027463847218,-3.3856442454049613,2.1372719063111565,1.8732483762563716,6.74029258492455,6.829435846026207,0.0,-2.984188705220925,-6.5397113385863275,4.500345647236957,-10.349847573520327,-3.4130192560565438,-3.628441306336584,-12.070985706625333,-8.178732153868397,3.2101234372897687,-1.173585379655339,-0.8666812993039402,1.1448692974993726,-0.6060477271794856,5.7813642611237395,-5.317788707401317,2.5144694076750054,-0.674673494404341,4.070082805635098,-3.0151073151875494,1.4595623370324944,-1.7453515335383618,3.8332306994747527,-2.24736832029258,2.7316927773712356,0.6628424819615837,0.9637790706409328,-1.048902153209815,-2.8552217627844816,0.6863535492560755,0.8413658868112269,8.04912008695422,7.092138060354839,-4.683045506732623,4.416858578384964,3.245819050902915,-2.416181452983921,-2.123159954068839,-1.800525545641709,7.018568348514504,-2.0564780137130563,9.93270641207287,4.603817105107547,0.9952032526650467,-4.1468421871219805,4.765867766344395,-2.8277849259718684,0.2783752403300956,2.6448432940256286,4.540259649664501,5.178521370925647,4.879836105964521,0.6116233330982139,-4.098237298070825,-3.8406156030981564,3.2585440915496284,4.645138431421794,1.6388194924102524,5.5365209234381805,-1.0145619280477247,0.3966832182448246,0.45533383207972,2.735063360219911,3.02767621673724,-4.07034887216483,5.151429151950041,0.04944084887932678,1.5436204949321906,3.4279830637823876,-6.577158214009232,1.6535018709649874,-0.7456661261470645,-1.8220317868792077,1.6633973744841168,2.9240707840683453,3.961050471298962,-5.8603147386598655,3.573077786224026,3.6256683723173304,-2.7828828176305413,3.8495898147623056,3.8735005426895306,0.6259326870417609,-3.9604644580011388,7.114472244505681,0.0389436783174882,-2.7372110685353883,1.4557547670448145,3.4477397206323612,-9.836302782051025,-4.300287323296721,0.4222626291131301,-2.9943972448316,-0.4204606869518814,-2.2055015090655545,0.17772684323345822,-6.688654848190632,6.399201074644209,-1.7876794653765569,-3.088023257715837,-6.614013033973643,4.157052801462934,-3.008445114079818,2.359237351745531,6.202227763605515,0.40360269555953315,1.8459168826422874,0.8998948794579444,-0.900436352987643,-6.579799016463585,-2.2028442725869177,-1.7736204149164472,-8.320891923328816,0.9282387690559127,0.012343508247723841,-2.2208751939817013,1.3375326748083625,9.539550635035397,-0.6664707520726559,1.7096569117373825,1.3550333648597146,4.949676509004636,-1.423991741846074,5.698156375812584,-0.4031997525556835,-8.986795316666672,6.875846532017645,-1.8256691078373464,-2.276141330796245,-8.743111824896951,2.770447193944908,7.485430912110692,-4.923725834921082,9.98807872998074,-5.174461475429915,-1.7734129383123696,-0.2613560070262026,-4.928164729447387,-2.615831577101853,0.4824041483670534,3.386751073128271,-5.088006941708708,-7.0656942934002105,4.936344931468955,1.6111604584550514,-0.6585974506754853,0.4062217425768579,1.9355228907564967,-3.815063795180069,-2.21888719031144,5.009182309367172,4.930943220212471,19.27913757777053,1.4664100005148561,-2.18533943126396,-7.611456513127397,2.435862647099116,10.705299545192096,6.584462591414706,-5.849932393943581,0.0,5.836342824778868,4.299475606971047,-2.7869179807714257,3.8489534741900555,-0.21833449622881693,-1.853847309877798,-3.0861495111191766,3.57076810819831,-0.7511437834896669,15.812556241291054,-3.459951429437839,-3.143442627521545,-0.9743715686518245,1.0074709460585576,2.062044200854867,0.0,0.9092270833803865,5.585445589003563,11.521069587152807,6.545314712505683,-6.941872252691516,0.6620124459076968,1.5575004417529428,-3.383865060427309,104.53345904108767,0.0003053757285282594,38.885047852308496,2.752339914519782,39.09000835262449,0.01239460065219914,-0.1725441339597419,0.01897088948132166,0.01897088948132166,-0.004367085647199006]\nIntercept:  -282.06746432936654\n"
     ]
    }
   ],
   "source": [
    "# Show the model coefficients and intercept\n",
    "lr_model = model.stages[-1]\n",
    "coefficients = lr_model.coefficients\n",
    "intercept = lr_model.intercept\n",
    "\n",
    "print(\"Coefficients: \", coefficients)\n",
    "print(\"Intercept: \", intercept)"
   ]
  },
  {
   "cell_type": "code",
   "execution_count": 0,
   "metadata": {
    "application/vnd.databricks.v1+cell": {
     "cellMetadata": {
      "byteLimit": 2048000,
      "rowLimit": 10000
     },
     "inputWidgets": {},
     "nuid": "cf4d2fe4-6e73-4d74-b23b-efdf6d9df6c6",
     "showTitle": false,
     "title": ""
    }
   },
   "outputs": [],
   "source": [
    "# Testing the model on the testData\n",
    "predictions = model.transform(testData)\n",
    "\n",
    "# Writing Transformed Data To Trusted Folder\n",
    "#predictions.write.mode(\"overwrite\").parquet(\"s3a://yelp-reviews-jb/trusted/predictions.parquet\")"
   ]
  },
  {
   "cell_type": "code",
   "execution_count": 0,
   "metadata": {
    "application/vnd.databricks.v1+cell": {
     "cellMetadata": {
      "byteLimit": 2048000,
      "rowLimit": 10000
     },
     "inputWidgets": {},
     "nuid": "36c2af47-ed0a-4e3d-bb4b-e1919f45d7a2",
     "showTitle": true,
     "title": "Binary Classification Model Evaluation"
    },
    "jupyter": {
     "source_hidden": true
    }
   },
   "outputs": [],
   "source": []
  },
  {
   "cell_type": "code",
   "execution_count": 0,
   "metadata": {
    "application/vnd.databricks.v1+cell": {
     "cellMetadata": {
      "byteLimit": 2048000,
      "rowLimit": 10000
     },
     "inputWidgets": {},
     "nuid": "af2b5d2f-7444-46de-9fbb-527dc354fc73",
     "showTitle": false,
     "title": ""
    }
   },
   "outputs": [
    {
     "output_type": "stream",
     "name": "stdout",
     "output_type": "stream",
     "text": [
      "AUC: 0.873864086992167\n"
     ]
    }
   ],
   "source": [
    "# Create a BinaryClassificationEvaluator to evaluate how well the model works\n",
    "evaluator = BinaryClassificationEvaluator(metricName=\"areaUnderROC\")\n",
    "# Calculate AUC\n",
    "auc = evaluator.evaluate(predictions)\n",
    "print(f\"AUC: {auc}\")"
   ]
  },
  {
   "cell_type": "code",
   "execution_count": 0,
   "metadata": {
    "application/vnd.databricks.v1+cell": {
     "cellMetadata": {
      "byteLimit": 2048000,
      "rowLimit": 10000
     },
     "inputWidgets": {},
     "nuid": "f2864bec-89bd-4075-9ac5-25e0e617fea4",
     "showTitle": true,
     "title": "Confusion Matrix & Model Metrics"
    },
    "jupyter": {
     "source_hidden": true
    }
   },
   "outputs": [],
   "source": []
  },
  {
   "cell_type": "code",
   "execution_count": 0,
   "metadata": {
    "application/vnd.databricks.v1+cell": {
     "cellMetadata": {
      "byteLimit": 2048000,
      "rowLimit": 10000
     },
     "inputWidgets": {},
     "nuid": "f04c971d-f7b0-47ac-81d5-08874131a688",
     "showTitle": false,
     "title": ""
    }
   },
   "outputs": [
    {
     "output_type": "stream",
     "name": "stdout",
     "output_type": "stream",
     "text": [
      "+-----+----+----+\n|label| 0.0| 1.0|\n+-----+----+----+\n|  0.0|1167| 473|\n|  1.0| 637|4837|\n+-----+----+----+\n\nAccuracy, Precision, Recall, F1 Score\n(0.8439696373348328, 0.9109227871939737, 0.8836317135549873, 0.8970697329376854)\n"
     ]
    }
   ],
   "source": [
    "# Create the confusion matrix\n",
    "predictions.groupby('label').pivot('prediction').count().fillna(0).show()\n",
    "cm = predictions.groupby('label').pivot('prediction').count().fillna(0).collect()\n",
    "\n",
    "def calculate_recall_precision(cm):\n",
    "    tn = cm[0][1]                # True Negative\n",
    "    fp = cm[0][2]                # False Positive\n",
    "    fn = cm[1][1]                # False Negative\n",
    "    tp = cm[1][2]                # True Positive\n",
    "    precision = tp / ( tp + fp )            \n",
    "    recall = tp / ( tp + fn )\n",
    "    accuracy = ( tp + tn ) / ( tp + tn + fp + fn )\n",
    "    f1_score = 2 * ( ( precision * recall ) / ( precision + recall ) )\n",
    "    return accuracy, precision, recall, f1_score\n",
    "\n",
    "print(\"Accuracy, Precision, Recall, F1 Score\")\n",
    "print( calculate_recall_precision(cm))\n",
    "# R. Holowczak, Data Model and Visualization, Slide 20"
   ]
  },
  {
   "cell_type": "code",
   "execution_count": 0,
   "metadata": {
    "application/vnd.databricks.v1+cell": {
     "cellMetadata": {
      "byteLimit": 2048000,
      "rowLimit": 10000
     },
     "inputWidgets": {},
     "nuid": "41680be0-d279-46c6-9fd3-9b9156626e3c",
     "showTitle": true,
     "title": "Receiving Operating Characteristic (ROC) Curve"
    },
    "jupyter": {
     "source_hidden": true
    }
   },
   "outputs": [],
   "source": []
  },
  {
   "cell_type": "code",
   "execution_count": 0,
   "metadata": {
    "application/vnd.databricks.v1+cell": {
     "cellMetadata": {
      "byteLimit": 2048000,
      "rowLimit": 10000
     },
     "inputWidgets": {},
     "nuid": "f23bf3e1-c2ae-4cfc-b439-5de842b36773",
     "showTitle": false,
     "title": ""
    }
   },
   "outputs": [
    {
     "output_type": "stream",
     "name": "stderr",
     "output_type": "stream",
     "text": [
      "/databricks/spark/python/pyspark/sql/pandas/conversion.py:122: UserWarning: toPandas attempted Arrow optimization because 'spark.sql.execution.arrow.pyspark.enabled' is set to true; however, failed by the reason below:\n  Unable to convert the field probability. If this column is not necessary, you may consider dropping it or converting to primitive type before the conversion.\nDirect cause: Unsupported type in conversion to Arrow: VectorUDT()\nAttempting non-optimization as 'spark.sql.execution.arrow.pyspark.fallback.enabled' is set to true.\n  warn(msg)\n"
     ]
    }
   ],
   "source": [
    "import seaborn as sns\n",
    "import io\n",
    "import matplotlib.pyplot as plt\n",
    "import s3fs  # Import the s3fs library\n",
    "from sklearn.metrics import roc_curve, auc\n",
    "\n",
    "# Extract probability values from DenseVector\n",
    "y_scores = predictions.select(\"probability\").toPandas()['probability'].apply(lambda x: x[1])\n",
    "\n",
    "# Assuming 'label' is your true labels\n",
    "y_true = predictions.select(\"label\").toPandas()\n",
    "\n",
    "fpr, tpr, _ = roc_curve(y_true, y_scores)\n",
    "roc_auc = auc(fpr, tpr)\n",
    "\n",
    "plt.plot(fpr, tpr, label='ROC curve (area = {:.2f})'.format(roc_auc))\n",
    "plt.plot([0, 1], [0, 1], 'k--')\n",
    "plt.xlabel('False Positive Rate')\n",
    "plt.ylabel('True Positive Rate')\n",
    "plt.legend(loc='best')\n",
    "\n",
    "# Create a BytesIO object to save the plot\n",
    "img_data = io.BytesIO()\n",
    "plt.savefig(img_data, format='png', bbox_inches='tight')\n",
    "plt.close()  # Close the plot to avoid displaying it\n",
    "\n",
    "# Connect to the s3fs file system \n",
    "s3 = s3fs.S3FileSystem(anon=False)\n",
    "\n",
    "# Open the file for writing\n",
    "with s3.open('s3://yelp-reviews-jb/my_plot.png', 'wb') as f:\n",
    "    f.write(img_data.getbuffer())\n",
    "# R. Holowczak, Data Model and Visualization, Slide 21"
   ]
  },
  {
   "cell_type": "code",
   "execution_count": 0,
   "metadata": {
    "application/vnd.databricks.v1+cell": {
     "cellMetadata": {
      "byteLimit": 2048000,
      "rowLimit": 10000
     },
     "inputWidgets": {},
     "nuid": "3d1191d6-7de8-4d1f-a13f-739f76cce175",
     "showTitle": true,
     "title": "Precision-Recall Curve"
    },
    "jupyter": {
     "source_hidden": true
    }
   },
   "outputs": [],
   "source": []
  },
  {
   "cell_type": "code",
   "execution_count": 0,
   "metadata": {
    "application/vnd.databricks.v1+cell": {
     "cellMetadata": {
      "byteLimit": 2048000,
      "rowLimit": 10000
     },
     "inputWidgets": {},
     "nuid": "f072acfa-8471-450b-88bb-056b7193f4af",
     "showTitle": false,
     "title": ""
    }
   },
   "outputs": [
    {
     "output_type": "stream",
     "name": "stderr",
     "output_type": "stream",
     "text": [
      "/databricks/spark/python/pyspark/sql/pandas/conversion.py:122: UserWarning: toPandas attempted Arrow optimization because 'spark.sql.execution.arrow.pyspark.enabled' is set to true; however, failed by the reason below:\n  Unable to convert the field probability. If this column is not necessary, you may consider dropping it or converting to primitive type before the conversion.\nDirect cause: Unsupported type in conversion to Arrow: VectorUDT()\nAttempting non-optimization as 'spark.sql.execution.arrow.pyspark.fallback.enabled' is set to true.\n  warn(msg)\n"
     ]
    },
    {
     "output_type": "display_data",
     "data": {
      "image/png": "[encoded data removed]"
     },
     "metadata": {
      "application/vnd.databricks.v1+output": {
       "addedWidgets": {},
       "arguments": {},
       "data": "data:image/png;base64,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\n",
       "datasetInfos": [],
       "metadata": {},
       "removedWidgets": [],
       "type": "image"
      }
     },
     "output_type": "display_data"
    }
   ],
   "source": [
    "import matplotlib.pyplot as plt\n",
    "from sklearn.metrics import precision_recall_curve\n",
    "from pyspark.sql import SparkSession\n",
    "from pyspark.sql.functions import col\n",
    "\n",
    "# 'label' is your true labels\n",
    "y_true = predictions.select(\"label\").toPandas()\n",
    "\n",
    "# Extract probability values from DenseVector\n",
    "y_scores = predictions.select(\"probability\").toPandas()['probability'].apply(lambda x: x[1])\n",
    "\n",
    "# Calculate precision and recall\n",
    "precision, recall, _ = precision_recall_curve(y_true, y_scores)\n",
    "\n",
    "# Plot the precision-recall curve\n",
    "plt.figure(figsize=(8, 6))\n",
    "plt.plot(recall, precision, color='blue', lw=2, label='Precision-Recall Curve')\n",
    "plt.xlabel('Recall')\n",
    "plt.ylabel('Precision')\n",
    "plt.title('Precision-Recall Curve')\n",
    "plt.xlim([0.0, 1.0])\n",
    "plt.ylim([0.0, 1.0])\n",
    "plt.grid(True)\n",
    "plt.legend(loc='best')\n",
    "plt.show()\n",
    "\n",
    "# Create a BytesIO object for the new plot\n",
    "img_data2 = io.BytesIO()\n",
    "plt.savefig(img_data2, format='png', bbox_inches='tight')\n",
    "plt.close()  # Close the plot to avoid displaying it\n",
    "\n",
    "# Connect to the s3fs file system \n",
    "s3 = s3fs.S3FileSystem(anon=False)\n",
    "\n",
    "# Open the file for writing with a different name\n",
    "with s3.open('s3://yelp-reviews-jb/my_plot_new.png', 'wb') as f:\n",
    "    f.write(img_data2.getbuffer())"
   ]
  },
  {
   "cell_type": "code",
   "execution_count": 0,
   "metadata": {
    "application/vnd.databricks.v1+cell": {
     "cellMetadata": {
      "byteLimit": 2048000,
      "rowLimit": 10000
     },
     "inputWidgets": {},
     "nuid": "89c9471c-40a1-4c38-8c62-8c30a03edbea",
     "showTitle": false,
     "title": ""
    }
   },
   "outputs": [],
   "source": []
  }
 ],
 "metadata": {
  "application/vnd.databricks.v1+notebook": {
   "dashboards": [],
   "language": "python",
   "notebookMetadata": {
    "pythonIndentUnit": 4
   },
   "notebookName": "Feature Engineering, Modeling, and Visualizations - Yelp Analysis",
   "widgets": {}
  }
 },
 "nbformat": 4,
 "nbformat_minor": 0
}
